{
 "cells": [
  {
   "cell_type": "code",
   "execution_count": 64,
   "id": "e7c4036d",
   "metadata": {},
   "outputs": [],
   "source": [
    "# Dla wybranego przez siebie zbioru danych, określonego w formie szeregów czasowych z >=5 kolumnami\n",
    "# wykonaj analizę danych.\n",
    "# Dane mogą być dowolne - zbiory danych powinny jedynie być inne niż te stosowane na laboratorium.\n",
    "# Każdy zespół samodzielnie pozyskuje zbiory danych."
   ]
  },
  {
   "cell_type": "code",
   "execution_count": 65,
   "id": "773b03e7",
   "metadata": {},
   "outputs": [],
   "source": [
    "# 1) Wykonaj wykresy czasowe w formie interaktywnej z możliwością wyboru co najmniej dwóch serii danych na wykresie.\n",
    "# Dla danych wykonaj wizualizację braków danych. Uzasadnij wybrane narzędzia, zinterpretuj rezultaty prac."
   ]
  },
  {
   "cell_type": "code",
   "execution_count": 66,
   "id": "c8c00d98",
   "metadata": {},
   "outputs": [],
   "source": [
    "# https://www.kaggle.com/datasets/thedevastator/airlines-traffic-passenger-statistics?fbclid=IwAR03UL2sQTQvPPesps-KmjW3l1hTewtQJBiv3bONcKw-DJCo7dCyr6A_eKI\n"
   ]
  },
  {
   "cell_type": "code",
   "execution_count": 67,
   "id": "e06272b2",
   "metadata": {},
   "outputs": [
    {
     "data": {
      "text/html": [
       "<div>\n",
       "<style scoped>\n",
       "    .dataframe tbody tr th:only-of-type {\n",
       "        vertical-align: middle;\n",
       "    }\n",
       "\n",
       "    .dataframe tbody tr th {\n",
       "        vertical-align: top;\n",
       "    }\n",
       "\n",
       "    .dataframe thead th {\n",
       "        text-align: right;\n",
       "    }\n",
       "</style>\n",
       "<table border=\"1\" class=\"dataframe\">\n",
       "  <thead>\n",
       "    <tr style=\"text-align: right;\">\n",
       "      <th></th>\n",
       "      <th>Activity Period</th>\n",
       "      <th>Operating Airline</th>\n",
       "      <th>Operating Airline IATA Code</th>\n",
       "      <th>GEO Region</th>\n",
       "      <th>Passenger Count</th>\n",
       "      <th>Year</th>\n",
       "      <th>Month</th>\n",
       "    </tr>\n",
       "    <tr>\n",
       "      <th>index</th>\n",
       "      <th></th>\n",
       "      <th></th>\n",
       "      <th></th>\n",
       "      <th></th>\n",
       "      <th></th>\n",
       "      <th></th>\n",
       "      <th></th>\n",
       "    </tr>\n",
       "  </thead>\n",
       "  <tbody>\n",
       "    <tr>\n",
       "      <th>0</th>\n",
       "      <td>200507</td>\n",
       "      <td>ATA Airlines</td>\n",
       "      <td>TZ</td>\n",
       "      <td>US</td>\n",
       "      <td>27271</td>\n",
       "      <td>2005</td>\n",
       "      <td>July</td>\n",
       "    </tr>\n",
       "    <tr>\n",
       "      <th>1</th>\n",
       "      <td>200507</td>\n",
       "      <td>ATA Airlines</td>\n",
       "      <td>TZ</td>\n",
       "      <td>US</td>\n",
       "      <td>29131</td>\n",
       "      <td>2005</td>\n",
       "      <td>July</td>\n",
       "    </tr>\n",
       "    <tr>\n",
       "      <th>2</th>\n",
       "      <td>200507</td>\n",
       "      <td>ATA Airlines</td>\n",
       "      <td>TZ</td>\n",
       "      <td>US</td>\n",
       "      <td>5415</td>\n",
       "      <td>2005</td>\n",
       "      <td>July</td>\n",
       "    </tr>\n",
       "    <tr>\n",
       "      <th>3</th>\n",
       "      <td>200507</td>\n",
       "      <td>Air Canada</td>\n",
       "      <td>AC</td>\n",
       "      <td>Canada</td>\n",
       "      <td>35156</td>\n",
       "      <td>2005</td>\n",
       "      <td>July</td>\n",
       "    </tr>\n",
       "    <tr>\n",
       "      <th>4</th>\n",
       "      <td>200507</td>\n",
       "      <td>Air Canada</td>\n",
       "      <td>AC</td>\n",
       "      <td>Canada</td>\n",
       "      <td>34090</td>\n",
       "      <td>2005</td>\n",
       "      <td>July</td>\n",
       "    </tr>\n",
       "    <tr>\n",
       "      <th>...</th>\n",
       "      <td>...</td>\n",
       "      <td>...</td>\n",
       "      <td>...</td>\n",
       "      <td>...</td>\n",
       "      <td>...</td>\n",
       "      <td>...</td>\n",
       "      <td>...</td>\n",
       "    </tr>\n",
       "    <tr>\n",
       "      <th>15002</th>\n",
       "      <td>201603</td>\n",
       "      <td>Virgin America</td>\n",
       "      <td>VX</td>\n",
       "      <td>US</td>\n",
       "      <td>194636</td>\n",
       "      <td>2016</td>\n",
       "      <td>March</td>\n",
       "    </tr>\n",
       "    <tr>\n",
       "      <th>15003</th>\n",
       "      <td>201603</td>\n",
       "      <td>Virgin America</td>\n",
       "      <td>VX</td>\n",
       "      <td>Mexico</td>\n",
       "      <td>4189</td>\n",
       "      <td>2016</td>\n",
       "      <td>March</td>\n",
       "    </tr>\n",
       "    <tr>\n",
       "      <th>15004</th>\n",
       "      <td>201603</td>\n",
       "      <td>Virgin America</td>\n",
       "      <td>VX</td>\n",
       "      <td>Mexico</td>\n",
       "      <td>4693</td>\n",
       "      <td>2016</td>\n",
       "      <td>March</td>\n",
       "    </tr>\n",
       "    <tr>\n",
       "      <th>15005</th>\n",
       "      <td>201603</td>\n",
       "      <td>Virgin Atlantic</td>\n",
       "      <td>VS</td>\n",
       "      <td>Europe</td>\n",
       "      <td>12313</td>\n",
       "      <td>2016</td>\n",
       "      <td>March</td>\n",
       "    </tr>\n",
       "    <tr>\n",
       "      <th>15006</th>\n",
       "      <td>201603</td>\n",
       "      <td>Virgin Atlantic</td>\n",
       "      <td>VS</td>\n",
       "      <td>Europe</td>\n",
       "      <td>10898</td>\n",
       "      <td>2016</td>\n",
       "      <td>March</td>\n",
       "    </tr>\n",
       "  </tbody>\n",
       "</table>\n",
       "<p>15007 rows × 7 columns</p>\n",
       "</div>"
      ],
      "text/plain": [
       "       Activity Period Operating Airline Operating Airline IATA Code  \\\n",
       "index                                                                  \n",
       "0               200507      ATA Airlines                          TZ   \n",
       "1               200507      ATA Airlines                          TZ   \n",
       "2               200507      ATA Airlines                          TZ   \n",
       "3               200507       Air Canada                           AC   \n",
       "4               200507       Air Canada                           AC   \n",
       "...                ...               ...                         ...   \n",
       "15002           201603    Virgin America                          VX   \n",
       "15003           201603    Virgin America                          VX   \n",
       "15004           201603    Virgin America                          VX   \n",
       "15005           201603   Virgin Atlantic                          VS   \n",
       "15006           201603   Virgin Atlantic                          VS   \n",
       "\n",
       "      GEO Region  Passenger Count  Year  Month  \n",
       "index                                           \n",
       "0             US            27271  2005   July  \n",
       "1             US            29131  2005   July  \n",
       "2             US             5415  2005   July  \n",
       "3         Canada            35156  2005   July  \n",
       "4         Canada            34090  2005   July  \n",
       "...          ...              ...   ...    ...  \n",
       "15002         US           194636  2016  March  \n",
       "15003     Mexico             4189  2016  March  \n",
       "15004     Mexico             4693  2016  March  \n",
       "15005     Europe            12313  2016  March  \n",
       "15006     Europe            10898  2016  March  \n",
       "\n",
       "[15007 rows x 7 columns]"
      ]
     },
     "execution_count": 67,
     "metadata": {},
     "output_type": "execute_result"
    }
   ],
   "source": [
    "import pandas as pd\n",
    "import plotly.express as px\n",
    "import datetime\n",
    "\n",
    "df = pd.read_csv('Air_Traffic_Passenger_Statistics.csv', index_col=\"index\")\n",
    "df_airlines = df.drop(columns=[\"Published Airline\", \"Published Airline IATA Code\", \"GEO Summary\", \"Price Category Code\", \"Terminal\", \"Boarding Area\", \"Adjusted Activity Type Code\", \"Adjusted Passenger Count\", \"Activity Type Code\"])\n",
    "df_airlines"
   ]
  },
  {
   "cell_type": "code",
   "execution_count": 68,
   "id": "ffa909c0",
   "metadata": {
    "scrolled": true
   },
   "outputs": [
    {
     "name": "stdout",
     "output_type": "stream",
     "text": [
      "    Operating Airline  count\n",
      "0        ATA Airlines     44\n",
      "1          Aer Lingus     98\n",
      "2          Aeromexico    180\n",
      "3          Air Berlin     36\n",
      "4         Air Canada     366\n",
      "..                ...    ...\n",
      "72    Virgin Atlantic    258\n",
      "73   WestJet Airlines    103\n",
      "74      World Airways      3\n",
      "75  XL Airways France     31\n",
      "76       Xtra Airways      2\n",
      "\n",
      "[76 rows x 2 columns]\n"
     ]
    }
   ],
   "source": [
    "# View_all_airlines\n",
    "\n",
    "grouped = df.groupby('Operating Airline').size().reset_index(name='count')\n",
    "\n",
    "duplicates = grouped[grouped['count'] > 1]\n",
    "\n",
    "print(duplicates)"
   ]
  },
  {
   "cell_type": "code",
   "execution_count": 69,
   "id": "ca7187c8",
   "metadata": {},
   "outputs": [],
   "source": [
    "name_list = duplicates['Operating Airline'].tolist()"
   ]
  },
  {
   "cell_type": "code",
   "execution_count": 70,
   "id": "d11e16f3",
   "metadata": {
    "scrolled": true
   },
   "outputs": [
    {
     "data": {
      "text/plain": [
       "['ATA Airlines',\n",
       " 'Aer Lingus',\n",
       " 'Aeromexico',\n",
       " 'Air Berlin',\n",
       " 'Air Canada ',\n",
       " 'Air Canada Jazz',\n",
       " 'Air China',\n",
       " 'Air France',\n",
       " 'Air India Limited',\n",
       " 'Air New Zealand',\n",
       " 'AirTran Airways',\n",
       " 'Alaska Airlines',\n",
       " 'All Nippon Airways',\n",
       " 'Allegiant Air',\n",
       " 'American Airlines',\n",
       " 'American Eagle Airlines',\n",
       " 'Ameriflight',\n",
       " 'Asiana Airlines',\n",
       " 'Atlantic Southeast Airlines',\n",
       " 'Atlas Air, Inc',\n",
       " 'BelAir Airlines',\n",
       " 'British Airways',\n",
       " 'COPA Airlines, Inc.',\n",
       " 'Cathay Pacific',\n",
       " 'China Airlines',\n",
       " 'China Eastern',\n",
       " 'China Southern',\n",
       " 'Compass Airlines',\n",
       " 'Delta Air Lines',\n",
       " 'EVA Airways',\n",
       " 'Emirates ',\n",
       " 'Etihad Airways',\n",
       " 'Evergreen International Airlines',\n",
       " 'ExpressJet Airlines',\n",
       " 'Frontier Airlines',\n",
       " 'Hawaiian Airlines',\n",
       " 'Horizon Air ',\n",
       " 'Icelandair',\n",
       " 'Independence Air',\n",
       " 'Japan Airlines',\n",
       " 'Jet Airways',\n",
       " 'JetBlue Airways ',\n",
       " 'KLM Royal Dutch Airlines',\n",
       " 'Korean Air Lines',\n",
       " 'LAN Peru',\n",
       " 'Lufthansa German Airlines',\n",
       " 'Mesa Airlines',\n",
       " 'Mesaba Airlines',\n",
       " 'Mexicana Airlines',\n",
       " 'Miami Air International',\n",
       " 'Midwest Airlines',\n",
       " 'Northwest Airlines',\n",
       " 'Pacific Aviation',\n",
       " 'Philippine Airlines',\n",
       " 'Qantas Airways',\n",
       " 'Republic Airlines',\n",
       " 'SAS Airlines',\n",
       " 'Servisair',\n",
       " 'Singapore Airlines',\n",
       " 'SkyWest Airlines',\n",
       " 'Southwest Airlines',\n",
       " 'Spirit Airlines',\n",
       " 'Sun Country Airlines',\n",
       " 'Swiss International',\n",
       " 'Swissport USA',\n",
       " 'TACA',\n",
       " 'Turkish Airlines',\n",
       " 'US Airways',\n",
       " 'United Airlines',\n",
       " 'United Airlines - Pre 07/01/2013',\n",
       " 'Virgin America',\n",
       " 'Virgin Atlantic',\n",
       " 'WestJet Airlines',\n",
       " 'World Airways',\n",
       " 'XL Airways France',\n",
       " 'Xtra Airways']"
      ]
     },
     "execution_count": 70,
     "metadata": {},
     "output_type": "execute_result"
    }
   ],
   "source": [
    "name_list"
   ]
  },
  {
   "cell_type": "code",
   "execution_count": 72,
   "id": "1832a421",
   "metadata": {},
   "outputs": [
    {
     "data": {
      "text/html": [
       "<div>\n",
       "<style scoped>\n",
       "    .dataframe tbody tr th:only-of-type {\n",
       "        vertical-align: middle;\n",
       "    }\n",
       "\n",
       "    .dataframe tbody tr th {\n",
       "        vertical-align: top;\n",
       "    }\n",
       "\n",
       "    .dataframe thead th {\n",
       "        text-align: right;\n",
       "    }\n",
       "</style>\n",
       "<table border=\"1\" class=\"dataframe\">\n",
       "  <thead>\n",
       "    <tr style=\"text-align: right;\">\n",
       "      <th></th>\n",
       "      <th>Activity Period</th>\n",
       "      <th>Operating Airline</th>\n",
       "      <th>Operating Airline IATA Code</th>\n",
       "      <th>GEO Region</th>\n",
       "      <th>Passenger Count</th>\n",
       "      <th>Year</th>\n",
       "      <th>Month</th>\n",
       "    </tr>\n",
       "    <tr>\n",
       "      <th>index</th>\n",
       "      <th></th>\n",
       "      <th></th>\n",
       "      <th></th>\n",
       "      <th></th>\n",
       "      <th></th>\n",
       "      <th></th>\n",
       "      <th></th>\n",
       "    </tr>\n",
       "  </thead>\n",
       "  <tbody>\n",
       "    <tr>\n",
       "      <th>7</th>\n",
       "      <td>200507</td>\n",
       "      <td>Air France</td>\n",
       "      <td>AF</td>\n",
       "      <td>Europe</td>\n",
       "      <td>12050</td>\n",
       "      <td>2005</td>\n",
       "      <td>July</td>\n",
       "    </tr>\n",
       "    <tr>\n",
       "      <th>8</th>\n",
       "      <td>200507</td>\n",
       "      <td>Air France</td>\n",
       "      <td>AF</td>\n",
       "      <td>Europe</td>\n",
       "      <td>11638</td>\n",
       "      <td>2005</td>\n",
       "      <td>July</td>\n",
       "    </tr>\n",
       "    <tr>\n",
       "      <th>13</th>\n",
       "      <td>200507</td>\n",
       "      <td>Alaska Airlines</td>\n",
       "      <td>AS</td>\n",
       "      <td>US</td>\n",
       "      <td>36641</td>\n",
       "      <td>2005</td>\n",
       "      <td>July</td>\n",
       "    </tr>\n",
       "    <tr>\n",
       "      <th>14</th>\n",
       "      <td>200507</td>\n",
       "      <td>Alaska Airlines</td>\n",
       "      <td>AS</td>\n",
       "      <td>US</td>\n",
       "      <td>39379</td>\n",
       "      <td>2005</td>\n",
       "      <td>July</td>\n",
       "    </tr>\n",
       "    <tr>\n",
       "      <th>15</th>\n",
       "      <td>200507</td>\n",
       "      <td>Alaska Airlines</td>\n",
       "      <td>AS</td>\n",
       "      <td>US</td>\n",
       "      <td>3678</td>\n",
       "      <td>2005</td>\n",
       "      <td>July</td>\n",
       "    </tr>\n",
       "    <tr>\n",
       "      <th>...</th>\n",
       "      <td>...</td>\n",
       "      <td>...</td>\n",
       "      <td>...</td>\n",
       "      <td>...</td>\n",
       "      <td>...</td>\n",
       "      <td>...</td>\n",
       "      <td>...</td>\n",
       "    </tr>\n",
       "    <tr>\n",
       "      <th>14945</th>\n",
       "      <td>201603</td>\n",
       "      <td>Lufthansa German Airlines</td>\n",
       "      <td>LH</td>\n",
       "      <td>Europe</td>\n",
       "      <td>21710</td>\n",
       "      <td>2016</td>\n",
       "      <td>March</td>\n",
       "    </tr>\n",
       "    <tr>\n",
       "      <th>14974</th>\n",
       "      <td>201603</td>\n",
       "      <td>Turkish Airlines</td>\n",
       "      <td>TK</td>\n",
       "      <td>Europe</td>\n",
       "      <td>8865</td>\n",
       "      <td>2016</td>\n",
       "      <td>March</td>\n",
       "    </tr>\n",
       "    <tr>\n",
       "      <th>14975</th>\n",
       "      <td>201603</td>\n",
       "      <td>Turkish Airlines</td>\n",
       "      <td>TK</td>\n",
       "      <td>Europe</td>\n",
       "      <td>8729</td>\n",
       "      <td>2016</td>\n",
       "      <td>March</td>\n",
       "    </tr>\n",
       "    <tr>\n",
       "      <th>15005</th>\n",
       "      <td>201603</td>\n",
       "      <td>Virgin Atlantic</td>\n",
       "      <td>VS</td>\n",
       "      <td>Europe</td>\n",
       "      <td>12313</td>\n",
       "      <td>2016</td>\n",
       "      <td>March</td>\n",
       "    </tr>\n",
       "    <tr>\n",
       "      <th>15006</th>\n",
       "      <td>201603</td>\n",
       "      <td>Virgin Atlantic</td>\n",
       "      <td>VS</td>\n",
       "      <td>Europe</td>\n",
       "      <td>10898</td>\n",
       "      <td>2016</td>\n",
       "      <td>March</td>\n",
       "    </tr>\n",
       "  </tbody>\n",
       "</table>\n",
       "<p>2942 rows × 7 columns</p>\n",
       "</div>"
      ],
      "text/plain": [
       "       Activity Period          Operating Airline Operating Airline IATA Code  \\\n",
       "index                                                                           \n",
       "7               200507                 Air France                          AF   \n",
       "8               200507                 Air France                          AF   \n",
       "13              200507            Alaska Airlines                          AS   \n",
       "14              200507            Alaska Airlines                          AS   \n",
       "15              200507            Alaska Airlines                          AS   \n",
       "...                ...                        ...                         ...   \n",
       "14945           201603  Lufthansa German Airlines                          LH   \n",
       "14974           201603           Turkish Airlines                          TK   \n",
       "14975           201603           Turkish Airlines                          TK   \n",
       "15005           201603            Virgin Atlantic                          VS   \n",
       "15006           201603            Virgin Atlantic                          VS   \n",
       "\n",
       "      GEO Region  Passenger Count  Year  Month  \n",
       "index                                           \n",
       "7         Europe            12050  2005   July  \n",
       "8         Europe            11638  2005   July  \n",
       "13            US            36641  2005   July  \n",
       "14            US            39379  2005   July  \n",
       "15            US             3678  2005   July  \n",
       "...          ...              ...   ...    ...  \n",
       "14945     Europe            21710  2016  March  \n",
       "14974     Europe             8865  2016  March  \n",
       "14975     Europe             8729  2016  March  \n",
       "15005     Europe            12313  2016  March  \n",
       "15006     Europe            10898  2016  March  \n",
       "\n",
       "[2942 rows x 7 columns]"
      ]
     },
     "execution_count": 72,
     "metadata": {},
     "output_type": "execute_result"
    }
   ],
   "source": [
    "# Let's select a few airlines to plot its data\n",
    "selected_airlines = [\"China Airlines\", \"Air France\", \"Virgin Atlantic\", \"British Airways\", \"Turkish Airlines\", \"Asiana Airlines\", \"Korean Air Lines\", \"Lufthansa German Airlines\",\"EVA Airways\",\"Alaska Airlines\",\"WestJet Airlines\"]\n",
    "\n",
    "df_airlines_selected = df_airlines[df_airlines[\"Operating Airline\"].isin(selected_airlines)]\n",
    "df_airlines_selected"
   ]
  },
  {
   "cell_type": "code",
   "execution_count": 73,
   "id": "bbc51ba9",
   "metadata": {},
   "outputs": [
    {
     "data": {
      "text/html": [
       "<div>\n",
       "<style scoped>\n",
       "    .dataframe tbody tr th:only-of-type {\n",
       "        vertical-align: middle;\n",
       "    }\n",
       "\n",
       "    .dataframe tbody tr th {\n",
       "        vertical-align: top;\n",
       "    }\n",
       "\n",
       "    .dataframe thead th {\n",
       "        text-align: right;\n",
       "    }\n",
       "</style>\n",
       "<table border=\"1\" class=\"dataframe\">\n",
       "  <thead>\n",
       "    <tr style=\"text-align: right;\">\n",
       "      <th></th>\n",
       "      <th>Activity Period</th>\n",
       "      <th>Operating Airline IATA Code</th>\n",
       "      <th>Operating Airline</th>\n",
       "      <th>Year</th>\n",
       "      <th>Month</th>\n",
       "      <th>Passenger Count</th>\n",
       "    </tr>\n",
       "  </thead>\n",
       "  <tbody>\n",
       "    <tr>\n",
       "      <th>0</th>\n",
       "      <td>200507</td>\n",
       "      <td>AF</td>\n",
       "      <td>Air France</td>\n",
       "      <td>2005</td>\n",
       "      <td>July</td>\n",
       "      <td>23688</td>\n",
       "    </tr>\n",
       "    <tr>\n",
       "      <th>1</th>\n",
       "      <td>200507</td>\n",
       "      <td>AS</td>\n",
       "      <td>Alaska Airlines</td>\n",
       "      <td>2005</td>\n",
       "      <td>July</td>\n",
       "      <td>115793</td>\n",
       "    </tr>\n",
       "    <tr>\n",
       "      <th>2</th>\n",
       "      <td>200507</td>\n",
       "      <td>BA</td>\n",
       "      <td>British Airways</td>\n",
       "      <td>2005</td>\n",
       "      <td>July</td>\n",
       "      <td>42318</td>\n",
       "    </tr>\n",
       "    <tr>\n",
       "      <th>3</th>\n",
       "      <td>200507</td>\n",
       "      <td>BR</td>\n",
       "      <td>EVA Airways</td>\n",
       "      <td>2005</td>\n",
       "      <td>July</td>\n",
       "      <td>26274</td>\n",
       "    </tr>\n",
       "    <tr>\n",
       "      <th>4</th>\n",
       "      <td>200507</td>\n",
       "      <td>CI</td>\n",
       "      <td>China Airlines</td>\n",
       "      <td>2005</td>\n",
       "      <td>July</td>\n",
       "      <td>24893</td>\n",
       "    </tr>\n",
       "    <tr>\n",
       "      <th>...</th>\n",
       "      <td>...</td>\n",
       "      <td>...</td>\n",
       "      <td>...</td>\n",
       "      <td>...</td>\n",
       "      <td>...</td>\n",
       "      <td>...</td>\n",
       "    </tr>\n",
       "    <tr>\n",
       "      <th>1220</th>\n",
       "      <td>201603</td>\n",
       "      <td>KE</td>\n",
       "      <td>Korean Air Lines</td>\n",
       "      <td>2016</td>\n",
       "      <td>March</td>\n",
       "      <td>15556</td>\n",
       "    </tr>\n",
       "    <tr>\n",
       "      <th>1221</th>\n",
       "      <td>201603</td>\n",
       "      <td>LH</td>\n",
       "      <td>Lufthansa German Airlines</td>\n",
       "      <td>2016</td>\n",
       "      <td>March</td>\n",
       "      <td>43685</td>\n",
       "    </tr>\n",
       "    <tr>\n",
       "      <th>1222</th>\n",
       "      <td>201603</td>\n",
       "      <td>OZ</td>\n",
       "      <td>Asiana Airlines</td>\n",
       "      <td>2016</td>\n",
       "      <td>March</td>\n",
       "      <td>14105</td>\n",
       "    </tr>\n",
       "    <tr>\n",
       "      <th>1223</th>\n",
       "      <td>201603</td>\n",
       "      <td>TK</td>\n",
       "      <td>Turkish Airlines</td>\n",
       "      <td>2016</td>\n",
       "      <td>March</td>\n",
       "      <td>17594</td>\n",
       "    </tr>\n",
       "    <tr>\n",
       "      <th>1224</th>\n",
       "      <td>201603</td>\n",
       "      <td>VS</td>\n",
       "      <td>Virgin Atlantic</td>\n",
       "      <td>2016</td>\n",
       "      <td>March</td>\n",
       "      <td>23211</td>\n",
       "    </tr>\n",
       "  </tbody>\n",
       "</table>\n",
       "<p>1225 rows × 6 columns</p>\n",
       "</div>"
      ],
      "text/plain": [
       "      Activity Period Operating Airline IATA Code          Operating Airline  \\\n",
       "0              200507                          AF                 Air France   \n",
       "1              200507                          AS            Alaska Airlines   \n",
       "2              200507                          BA            British Airways   \n",
       "3              200507                          BR                EVA Airways   \n",
       "4              200507                          CI             China Airlines   \n",
       "...               ...                         ...                        ...   \n",
       "1220           201603                          KE           Korean Air Lines   \n",
       "1221           201603                          LH  Lufthansa German Airlines   \n",
       "1222           201603                          OZ            Asiana Airlines   \n",
       "1223           201603                          TK           Turkish Airlines   \n",
       "1224           201603                          VS            Virgin Atlantic   \n",
       "\n",
       "      Year  Month  Passenger Count  \n",
       "0     2005   July            23688  \n",
       "1     2005   July           115793  \n",
       "2     2005   July            42318  \n",
       "3     2005   July            26274  \n",
       "4     2005   July            24893  \n",
       "...    ...    ...              ...  \n",
       "1220  2016  March            15556  \n",
       "1221  2016  March            43685  \n",
       "1222  2016  March            14105  \n",
       "1223  2016  March            17594  \n",
       "1224  2016  March            23211  \n",
       "\n",
       "[1225 rows x 6 columns]"
      ]
     },
     "execution_count": 73,
     "metadata": {},
     "output_type": "execute_result"
    }
   ],
   "source": [
    "df_airlines_grouped = df_airlines_selected.groupby([\"Activity Period\", \"Operating Airline IATA Code\", \"Operating Airline\", \"Year\", \"Month\"], as_index=False)\n",
    "df_airlines_prepared = df_airlines_grouped[\"Passenger Count\"].sum()\n",
    "df_airlines_prepared"
   ]
  },
  {
   "cell_type": "code",
   "execution_count": 74,
   "id": "5ae2a4fe",
   "metadata": {},
   "outputs": [
    {
     "data": {
      "text/html": [
       "<div>\n",
       "<style scoped>\n",
       "    .dataframe tbody tr th:only-of-type {\n",
       "        vertical-align: middle;\n",
       "    }\n",
       "\n",
       "    .dataframe tbody tr th {\n",
       "        vertical-align: top;\n",
       "    }\n",
       "\n",
       "    .dataframe thead th {\n",
       "        text-align: right;\n",
       "    }\n",
       "</style>\n",
       "<table border=\"1\" class=\"dataframe\">\n",
       "  <thead>\n",
       "    <tr style=\"text-align: right;\">\n",
       "      <th></th>\n",
       "      <th>Activity Period</th>\n",
       "      <th>Air France</th>\n",
       "      <th>Alaska Airlines</th>\n",
       "      <th>Asiana Airlines</th>\n",
       "      <th>British Airways</th>\n",
       "      <th>China Airlines</th>\n",
       "      <th>EVA Airways</th>\n",
       "      <th>Korean Air Lines</th>\n",
       "      <th>Lufthansa German Airlines</th>\n",
       "      <th>Turkish Airlines</th>\n",
       "      <th>Virgin Atlantic</th>\n",
       "      <th>WestJet Airlines</th>\n",
       "    </tr>\n",
       "  </thead>\n",
       "  <tbody>\n",
       "    <tr>\n",
       "      <th>0</th>\n",
       "      <td>2005-07</td>\n",
       "      <td>23688.0</td>\n",
       "      <td>115793.0</td>\n",
       "      <td>9785.0</td>\n",
       "      <td>42318.0</td>\n",
       "      <td>24893.0</td>\n",
       "      <td>26274.0</td>\n",
       "      <td>11799.0</td>\n",
       "      <td>42900.0</td>\n",
       "      <td>NaN</td>\n",
       "      <td>22455.0</td>\n",
       "      <td>4691.0</td>\n",
       "    </tr>\n",
       "    <tr>\n",
       "      <th>1</th>\n",
       "      <td>2005-08</td>\n",
       "      <td>22961.0</td>\n",
       "      <td>118625.0</td>\n",
       "      <td>7475.0</td>\n",
       "      <td>40396.0</td>\n",
       "      <td>25582.0</td>\n",
       "      <td>25474.0</td>\n",
       "      <td>16020.0</td>\n",
       "      <td>43393.0</td>\n",
       "      <td>NaN</td>\n",
       "      <td>21757.0</td>\n",
       "      <td>4551.0</td>\n",
       "    </tr>\n",
       "    <tr>\n",
       "      <th>2</th>\n",
       "      <td>2005-09</td>\n",
       "      <td>22068.0</td>\n",
       "      <td>97905.0</td>\n",
       "      <td>9932.0</td>\n",
       "      <td>41090.0</td>\n",
       "      <td>18640.0</td>\n",
       "      <td>20683.0</td>\n",
       "      <td>7792.0</td>\n",
       "      <td>41914.0</td>\n",
       "      <td>NaN</td>\n",
       "      <td>22707.0</td>\n",
       "      <td>4047.0</td>\n",
       "    </tr>\n",
       "    <tr>\n",
       "      <th>3</th>\n",
       "      <td>2005-10</td>\n",
       "      <td>21311.0</td>\n",
       "      <td>97526.0</td>\n",
       "      <td>10083.0</td>\n",
       "      <td>38441.0</td>\n",
       "      <td>19173.0</td>\n",
       "      <td>21433.0</td>\n",
       "      <td>7927.0</td>\n",
       "      <td>40318.0</td>\n",
       "      <td>NaN</td>\n",
       "      <td>19355.0</td>\n",
       "      <td>2784.0</td>\n",
       "    </tr>\n",
       "    <tr>\n",
       "      <th>4</th>\n",
       "      <td>2005-11</td>\n",
       "      <td>14695.0</td>\n",
       "      <td>106732.0</td>\n",
       "      <td>9383.0</td>\n",
       "      <td>30818.0</td>\n",
       "      <td>19188.0</td>\n",
       "      <td>22505.0</td>\n",
       "      <td>8923.0</td>\n",
       "      <td>30530.0</td>\n",
       "      <td>NaN</td>\n",
       "      <td>16195.0</td>\n",
       "      <td>2551.0</td>\n",
       "    </tr>\n",
       "    <tr>\n",
       "      <th>...</th>\n",
       "      <td>...</td>\n",
       "      <td>...</td>\n",
       "      <td>...</td>\n",
       "      <td>...</td>\n",
       "      <td>...</td>\n",
       "      <td>...</td>\n",
       "      <td>...</td>\n",
       "      <td>...</td>\n",
       "      <td>...</td>\n",
       "      <td>...</td>\n",
       "      <td>...</td>\n",
       "      <td>...</td>\n",
       "    </tr>\n",
       "    <tr>\n",
       "      <th>124</th>\n",
       "      <td>2015-11</td>\n",
       "      <td>17729.0</td>\n",
       "      <td>113885.0</td>\n",
       "      <td>14615.0</td>\n",
       "      <td>38699.0</td>\n",
       "      <td>16353.0</td>\n",
       "      <td>32301.0</td>\n",
       "      <td>13473.0</td>\n",
       "      <td>33672.0</td>\n",
       "      <td>17549.0</td>\n",
       "      <td>19159.0</td>\n",
       "      <td>NaN</td>\n",
       "    </tr>\n",
       "    <tr>\n",
       "      <th>125</th>\n",
       "      <td>2015-12</td>\n",
       "      <td>17930.0</td>\n",
       "      <td>114725.0</td>\n",
       "      <td>15492.0</td>\n",
       "      <td>36013.0</td>\n",
       "      <td>18021.0</td>\n",
       "      <td>34886.0</td>\n",
       "      <td>18002.0</td>\n",
       "      <td>38846.0</td>\n",
       "      <td>16870.0</td>\n",
       "      <td>21571.0</td>\n",
       "      <td>NaN</td>\n",
       "    </tr>\n",
       "    <tr>\n",
       "      <th>126</th>\n",
       "      <td>2016-01</td>\n",
       "      <td>17853.0</td>\n",
       "      <td>109469.0</td>\n",
       "      <td>15520.0</td>\n",
       "      <td>38399.0</td>\n",
       "      <td>19993.0</td>\n",
       "      <td>36503.0</td>\n",
       "      <td>19461.0</td>\n",
       "      <td>40844.0</td>\n",
       "      <td>17199.0</td>\n",
       "      <td>20948.0</td>\n",
       "      <td>NaN</td>\n",
       "    </tr>\n",
       "    <tr>\n",
       "      <th>127</th>\n",
       "      <td>2016-02</td>\n",
       "      <td>15876.0</td>\n",
       "      <td>109740.0</td>\n",
       "      <td>14747.0</td>\n",
       "      <td>33703.0</td>\n",
       "      <td>17481.0</td>\n",
       "      <td>31886.0</td>\n",
       "      <td>17144.0</td>\n",
       "      <td>34849.0</td>\n",
       "      <td>15800.0</td>\n",
       "      <td>16035.0</td>\n",
       "      <td>NaN</td>\n",
       "    </tr>\n",
       "    <tr>\n",
       "      <th>128</th>\n",
       "      <td>2016-03</td>\n",
       "      <td>20546.0</td>\n",
       "      <td>126173.0</td>\n",
       "      <td>14105.0</td>\n",
       "      <td>37826.0</td>\n",
       "      <td>19387.0</td>\n",
       "      <td>34040.0</td>\n",
       "      <td>15556.0</td>\n",
       "      <td>43685.0</td>\n",
       "      <td>17594.0</td>\n",
       "      <td>23211.0</td>\n",
       "      <td>NaN</td>\n",
       "    </tr>\n",
       "  </tbody>\n",
       "</table>\n",
       "<p>129 rows × 12 columns</p>\n",
       "</div>"
      ],
      "text/plain": [
       "    Activity Period  Air France  Alaska Airlines  Asiana Airlines  \\\n",
       "0           2005-07     23688.0         115793.0           9785.0   \n",
       "1           2005-08     22961.0         118625.0           7475.0   \n",
       "2           2005-09     22068.0          97905.0           9932.0   \n",
       "3           2005-10     21311.0          97526.0          10083.0   \n",
       "4           2005-11     14695.0         106732.0           9383.0   \n",
       "..              ...         ...              ...              ...   \n",
       "124         2015-11     17729.0         113885.0          14615.0   \n",
       "125         2015-12     17930.0         114725.0          15492.0   \n",
       "126         2016-01     17853.0         109469.0          15520.0   \n",
       "127         2016-02     15876.0         109740.0          14747.0   \n",
       "128         2016-03     20546.0         126173.0          14105.0   \n",
       "\n",
       "     British Airways  China Airlines  EVA Airways  Korean Air Lines  \\\n",
       "0            42318.0         24893.0      26274.0           11799.0   \n",
       "1            40396.0         25582.0      25474.0           16020.0   \n",
       "2            41090.0         18640.0      20683.0            7792.0   \n",
       "3            38441.0         19173.0      21433.0            7927.0   \n",
       "4            30818.0         19188.0      22505.0            8923.0   \n",
       "..               ...             ...          ...               ...   \n",
       "124          38699.0         16353.0      32301.0           13473.0   \n",
       "125          36013.0         18021.0      34886.0           18002.0   \n",
       "126          38399.0         19993.0      36503.0           19461.0   \n",
       "127          33703.0         17481.0      31886.0           17144.0   \n",
       "128          37826.0         19387.0      34040.0           15556.0   \n",
       "\n",
       "     Lufthansa German Airlines  Turkish Airlines  Virgin Atlantic  \\\n",
       "0                      42900.0               NaN          22455.0   \n",
       "1                      43393.0               NaN          21757.0   \n",
       "2                      41914.0               NaN          22707.0   \n",
       "3                      40318.0               NaN          19355.0   \n",
       "4                      30530.0               NaN          16195.0   \n",
       "..                         ...               ...              ...   \n",
       "124                    33672.0           17549.0          19159.0   \n",
       "125                    38846.0           16870.0          21571.0   \n",
       "126                    40844.0           17199.0          20948.0   \n",
       "127                    34849.0           15800.0          16035.0   \n",
       "128                    43685.0           17594.0          23211.0   \n",
       "\n",
       "     WestJet Airlines  \n",
       "0              4691.0  \n",
       "1              4551.0  \n",
       "2              4047.0  \n",
       "3              2784.0  \n",
       "4              2551.0  \n",
       "..                ...  \n",
       "124               NaN  \n",
       "125               NaN  \n",
       "126               NaN  \n",
       "127               NaN  \n",
       "128               NaN  \n",
       "\n",
       "[129 rows x 12 columns]"
      ]
     },
     "execution_count": 74,
     "metadata": {},
     "output_type": "execute_result"
    }
   ],
   "source": [
    "df_converted = df_airlines_prepared.pivot(index='Activity Period', columns='Operating Airline', values='Passenger Count').rename_axis(None, axis=1).reset_index()\n",
    "df_converted['Activity Period'] = df_converted[\"Activity Period\"].apply(lambda x: pd.to_datetime(str(x), format='%Y%m').strftime(\"%Y-%m\"))\n",
    "df_converted"
   ]
  },
  {
   "cell_type": "code",
   "execution_count": 75,
   "id": "92db48d1",
   "metadata": {
    "scrolled": false
   },
   "outputs": [
    {
     "data": {
      "application/vnd.plotly.v1+json": {
       "config": {
        "plotlyServerURL": "https://plot.ly"
       },
       "data": [
        {
         "hovertemplate": "variable=Air France<br>Activity Period=%{x|%B, %Y}<br>value=%{y}<extra></extra>",
         "legendgroup": "Air France",
         "line": {
          "color": "#636efa",
          "dash": "solid"
         },
         "marker": {
          "symbol": "circle"
         },
         "mode": "lines",
         "name": "Air France",
         "showlegend": true,
         "type": "scattergl",
         "x": [
          "2005-07",
          "2005-08",
          "2005-09",
          "2005-10",
          "2005-11",
          "2005-12",
          "2006-01",
          "2006-02",
          "2006-03",
          "2006-04",
          "2006-05",
          "2006-06",
          "2006-07",
          "2006-08",
          "2006-09",
          "2006-10",
          "2006-11",
          "2006-12",
          "2007-01",
          "2007-02",
          "2007-03",
          "2007-04",
          "2007-05",
          "2007-06",
          "2007-07",
          "2007-08",
          "2007-09",
          "2007-10",
          "2007-11",
          "2007-12",
          "2008-01",
          "2008-02",
          "2008-03",
          "2008-04",
          "2008-05",
          "2008-06",
          "2008-07",
          "2008-08",
          "2008-09",
          "2008-10",
          "2008-11",
          "2008-12",
          "2009-01",
          "2009-02",
          "2009-03",
          "2009-04",
          "2009-05",
          "2009-06",
          "2009-07",
          "2009-08",
          "2009-09",
          "2009-10",
          "2009-11",
          "2009-12",
          "2010-01",
          "2010-02",
          "2010-03",
          "2010-04",
          "2010-05",
          "2010-06",
          "2010-07",
          "2010-08",
          "2010-09",
          "2010-10",
          "2010-11",
          "2010-12",
          "2011-01",
          "2011-02",
          "2011-03",
          "2011-04",
          "2011-05",
          "2011-06",
          "2011-07",
          "2011-08",
          "2011-09",
          "2011-10",
          "2011-11",
          "2011-12",
          "2012-01",
          "2012-02",
          "2012-03",
          "2012-04",
          "2012-05",
          "2012-06",
          "2012-07",
          "2012-08",
          "2012-09",
          "2012-10",
          "2012-11",
          "2012-12",
          "2013-01",
          "2013-02",
          "2013-03",
          "2013-04",
          "2013-05",
          "2013-06",
          "2013-07",
          "2013-08",
          "2013-09",
          "2013-10",
          "2013-11",
          "2013-12",
          "2014-01",
          "2014-02",
          "2014-03",
          "2014-04",
          "2014-05",
          "2014-06",
          "2014-07",
          "2014-08",
          "2014-09",
          "2014-10",
          "2014-11",
          "2014-12",
          "2015-01",
          "2015-02",
          "2015-03",
          "2015-04",
          "2015-05",
          "2015-06",
          "2015-07",
          "2015-08",
          "2015-09",
          "2015-10",
          "2015-11",
          "2015-12",
          "2016-01",
          "2016-02",
          "2016-03"
         ],
         "xaxis": "x",
         "y": [
          23688,
          22961,
          22068,
          21311,
          14695,
          14614,
          14740,
          12972,
          17563,
          22904,
          23885,
          23877,
          24950,
          23681,
          22303,
          21754,
          13247,
          14017,
          13673,
          12418,
          16593,
          20883,
          23096,
          23172,
          24755,
          24456,
          22469,
          21597,
          13997,
          13984,
          13017,
          12037,
          15940,
          23195,
          24155,
          24692,
          26078,
          26108,
          24914,
          23393,
          13672,
          14973,
          14156,
          11177,
          15776,
          24034,
          25240,
          24941,
          26051,
          26418,
          25439,
          23726,
          14089,
          14835,
          14301,
          11845,
          16847,
          19775,
          25487,
          27571,
          33172,
          32106,
          26456,
          25459,
          14234,
          12554,
          14728,
          11992,
          16300,
          23986,
          26173,
          34392,
          37283,
          37939,
          34375,
          30359,
          14639,
          15467,
          14248,
          12475,
          17377,
          21152,
          30300,
          41525,
          41741,
          42690,
          42455,
          24731,
          15673,
          16705,
          14515,
          12566,
          17818,
          24201,
          35421,
          39479,
          39312,
          39777,
          37916,
          27591,
          14834,
          17423,
          15505,
          13763,
          17932,
          26534,
          29112,
          40662,
          40472,
          41778,
          29593,
          27480,
          16304,
          17168,
          14969,
          13230,
          17943,
          26607,
          29863,
          44133,
          46473,
          46849,
          40388,
          29546,
          17729,
          17930,
          17853,
          15876,
          20546
         ],
         "yaxis": "y"
        },
        {
         "hovertemplate": "variable=Alaska Airlines<br>Activity Period=%{x|%B, %Y}<br>value=%{y}<extra></extra>",
         "legendgroup": "Alaska Airlines",
         "line": {
          "color": "#EF553B",
          "dash": "solid"
         },
         "marker": {
          "symbol": "circle"
         },
         "mode": "lines",
         "name": "Alaska Airlines",
         "showlegend": true,
         "type": "scattergl",
         "x": [
          "2005-07",
          "2005-08",
          "2005-09",
          "2005-10",
          "2005-11",
          "2005-12",
          "2006-01",
          "2006-02",
          "2006-03",
          "2006-04",
          "2006-05",
          "2006-06",
          "2006-07",
          "2006-08",
          "2006-09",
          "2006-10",
          "2006-11",
          "2006-12",
          "2007-01",
          "2007-02",
          "2007-03",
          "2007-04",
          "2007-05",
          "2007-06",
          "2007-07",
          "2007-08",
          "2007-09",
          "2007-10",
          "2007-11",
          "2007-12",
          "2008-01",
          "2008-02",
          "2008-03",
          "2008-04",
          "2008-05",
          "2008-06",
          "2008-07",
          "2008-08",
          "2008-09",
          "2008-10",
          "2008-11",
          "2008-12",
          "2009-01",
          "2009-02",
          "2009-03",
          "2009-04",
          "2009-05",
          "2009-06",
          "2009-07",
          "2009-08",
          "2009-09",
          "2009-10",
          "2009-11",
          "2009-12",
          "2010-01",
          "2010-02",
          "2010-03",
          "2010-04",
          "2010-05",
          "2010-06",
          "2010-07",
          "2010-08",
          "2010-09",
          "2010-10",
          "2010-11",
          "2010-12",
          "2011-01",
          "2011-02",
          "2011-03",
          "2011-04",
          "2011-05",
          "2011-06",
          "2011-07",
          "2011-08",
          "2011-09",
          "2011-10",
          "2011-11",
          "2011-12",
          "2012-01",
          "2012-02",
          "2012-03",
          "2012-04",
          "2012-05",
          "2012-06",
          "2012-07",
          "2012-08",
          "2012-09",
          "2012-10",
          "2012-11",
          "2012-12",
          "2013-01",
          "2013-02",
          "2013-03",
          "2013-04",
          "2013-05",
          "2013-06",
          "2013-07",
          "2013-08",
          "2013-09",
          "2013-10",
          "2013-11",
          "2013-12",
          "2014-01",
          "2014-02",
          "2014-03",
          "2014-04",
          "2014-05",
          "2014-06",
          "2014-07",
          "2014-08",
          "2014-09",
          "2014-10",
          "2014-11",
          "2014-12",
          "2015-01",
          "2015-02",
          "2015-03",
          "2015-04",
          "2015-05",
          "2015-06",
          "2015-07",
          "2015-08",
          "2015-09",
          "2015-10",
          "2015-11",
          "2015-12",
          "2016-01",
          "2016-02",
          "2016-03"
         ],
         "xaxis": "x",
         "y": [
          115793,
          118625,
          97905,
          97526,
          106732,
          106069,
          99938,
          91842,
          107131,
          103548,
          106903,
          112481,
          114523,
          114389,
          98273,
          102360,
          125204,
          124285,
          108910,
          110681,
          131398,
          135312,
          129538,
          136942,
          144658,
          145800,
          114236,
          111572,
          116525,
          118564,
          104474,
          108435,
          124150,
          118468,
          127937,
          126329,
          133343,
          128970,
          93866,
          99463,
          95677,
          92602,
          81644,
          78167,
          91815,
          96082,
          84275,
          86674,
          86225,
          83063,
          74008,
          77114,
          76645,
          79364,
          63928,
          58237,
          67134,
          70987,
          70249,
          85191,
          92104,
          92125,
          82788,
          76616,
          76411,
          76887,
          71120,
          68666,
          78900,
          84176,
          83280,
          83165,
          86574,
          90413,
          83700,
          81816,
          87245,
          83589,
          72348,
          68821,
          77417,
          79828,
          79099,
          89570,
          89076,
          93364,
          84556,
          84532,
          87084,
          82267,
          81179,
          90757,
          89068,
          89770,
          91339,
          96595,
          100768,
          107140,
          97323,
          94069,
          95556,
          104195,
          89064,
          81436,
          100208,
          103668,
          109658,
          115188,
          131147,
          141878,
          109300,
          113988,
          111994,
          112221,
          110036,
          105386,
          124828,
          124033,
          127697,
          131425,
          137691,
          143298,
          121059,
          119310,
          113885,
          114725,
          109469,
          109740,
          126173
         ],
         "yaxis": "y"
        },
        {
         "hovertemplate": "variable=Asiana Airlines<br>Activity Period=%{x|%B, %Y}<br>value=%{y}<extra></extra>",
         "legendgroup": "Asiana Airlines",
         "line": {
          "color": "#00cc96",
          "dash": "solid"
         },
         "marker": {
          "symbol": "circle"
         },
         "mode": "lines",
         "name": "Asiana Airlines",
         "showlegend": true,
         "type": "scattergl",
         "x": [
          "2005-07",
          "2005-08",
          "2005-09",
          "2005-10",
          "2005-11",
          "2005-12",
          "2006-01",
          "2006-02",
          "2006-03",
          "2006-04",
          "2006-05",
          "2006-06",
          "2006-07",
          "2006-08",
          "2006-09",
          "2006-10",
          "2006-11",
          "2006-12",
          "2007-01",
          "2007-02",
          "2007-03",
          "2007-04",
          "2007-05",
          "2007-06",
          "2007-07",
          "2007-08",
          "2007-09",
          "2007-10",
          "2007-11",
          "2007-12",
          "2008-01",
          "2008-02",
          "2008-03",
          "2008-04",
          "2008-05",
          "2008-06",
          "2008-07",
          "2008-08",
          "2008-09",
          "2008-10",
          "2008-11",
          "2008-12",
          "2009-01",
          "2009-02",
          "2009-03",
          "2009-04",
          "2009-05",
          "2009-06",
          "2009-07",
          "2009-08",
          "2009-09",
          "2009-10",
          "2009-11",
          "2009-12",
          "2010-01",
          "2010-02",
          "2010-03",
          "2010-04",
          "2010-05",
          "2010-06",
          "2010-07",
          "2010-08",
          "2010-09",
          "2010-10",
          "2010-11",
          "2010-12",
          "2011-01",
          "2011-02",
          "2011-03",
          "2011-04",
          "2011-05",
          "2011-06",
          "2011-07",
          "2011-08",
          "2011-09",
          "2011-10",
          "2011-11",
          "2011-12",
          "2012-01",
          "2012-02",
          "2012-03",
          "2012-04",
          "2012-05",
          "2012-06",
          "2012-07",
          "2012-08",
          "2012-09",
          "2012-10",
          "2012-11",
          "2012-12",
          "2013-01",
          "2013-02",
          "2013-03",
          "2013-04",
          "2013-05",
          "2013-06",
          "2013-07",
          "2013-08",
          "2013-09",
          "2013-10",
          "2013-11",
          "2013-12",
          "2014-01",
          "2014-02",
          "2014-03",
          "2014-04",
          "2014-05",
          "2014-06",
          "2014-07",
          "2014-08",
          "2014-09",
          "2014-10",
          "2014-11",
          "2014-12",
          "2015-01",
          "2015-02",
          "2015-03",
          "2015-04",
          "2015-05",
          "2015-06",
          "2015-07",
          "2015-08",
          "2015-09",
          "2015-10",
          "2015-11",
          "2015-12",
          "2016-01",
          "2016-02",
          "2016-03"
         ],
         "xaxis": "x",
         "y": [
          9785,
          7475,
          9932,
          10083,
          9383,
          9788,
          9854,
          8074,
          8878,
          8870,
          8631,
          9188,
          8838,
          9285,
          8381,
          9025,
          8428,
          8918,
          8478,
          7816,
          9871,
          8994,
          9681,
          9667,
          9445,
          10109,
          7670,
          8218,
          8395,
          8163,
          9071,
          8146,
          8822,
          8890,
          9681,
          9553,
          9127,
          10206,
          8288,
          9484,
          8744,
          8980,
          10165,
          8054,
          8067,
          7690,
          9157,
          8994,
          9848,
          9784,
          9266,
          8582,
          8696,
          9538,
          10014,
          8716,
          9098,
          8887,
          9439,
          9989,
          9672,
          9439,
          9562,
          8874,
          8227,
          8590,
          8848,
          7861,
          8732,
          11284,
          12647,
          15469,
          17563,
          16355,
          13460,
          13914,
          12768,
          14384,
          14981,
          11931,
          13140,
          15138,
          16655,
          16881,
          17220,
          17178,
          14829,
          15769,
          15280,
          15699,
          16168,
          13646,
          14694,
          15311,
          16595,
          16443,
          16299,
          15695,
          13782,
          12412,
          11206,
          14145,
          15588,
          12628,
          14065,
          15303,
          16100,
          16121,
          16414,
          16766,
          15204,
          15687,
          14152,
          15244,
          14531,
          13945,
          14905,
          14648,
          16728,
          16499,
          16449,
          16711,
          13927,
          15825,
          14615,
          15492,
          15520,
          14747,
          14105
         ],
         "yaxis": "y"
        },
        {
         "hovertemplate": "variable=British Airways<br>Activity Period=%{x|%B, %Y}<br>value=%{y}<extra></extra>",
         "legendgroup": "British Airways",
         "line": {
          "color": "#ab63fa",
          "dash": "solid"
         },
         "marker": {
          "symbol": "circle"
         },
         "mode": "lines",
         "name": "British Airways",
         "showlegend": true,
         "type": "scattergl",
         "x": [
          "2005-07",
          "2005-08",
          "2005-09",
          "2005-10",
          "2005-11",
          "2005-12",
          "2006-01",
          "2006-02",
          "2006-03",
          "2006-04",
          "2006-05",
          "2006-06",
          "2006-07",
          "2006-08",
          "2006-09",
          "2006-10",
          "2006-11",
          "2006-12",
          "2007-01",
          "2007-02",
          "2007-03",
          "2007-04",
          "2007-05",
          "2007-06",
          "2007-07",
          "2007-08",
          "2007-09",
          "2007-10",
          "2007-11",
          "2007-12",
          "2008-01",
          "2008-02",
          "2008-03",
          "2008-04",
          "2008-05",
          "2008-06",
          "2008-07",
          "2008-08",
          "2008-09",
          "2008-10",
          "2008-11",
          "2008-12",
          "2009-01",
          "2009-02",
          "2009-03",
          "2009-04",
          "2009-05",
          "2009-06",
          "2009-07",
          "2009-08",
          "2009-09",
          "2009-10",
          "2009-11",
          "2009-12",
          "2010-01",
          "2010-02",
          "2010-03",
          "2010-04",
          "2010-05",
          "2010-06",
          "2010-07",
          "2010-08",
          "2010-09",
          "2010-10",
          "2010-11",
          "2010-12",
          "2011-01",
          "2011-02",
          "2011-03",
          "2011-04",
          "2011-05",
          "2011-06",
          "2011-07",
          "2011-08",
          "2011-09",
          "2011-10",
          "2011-11",
          "2011-12",
          "2012-01",
          "2012-02",
          "2012-03",
          "2012-04",
          "2012-05",
          "2012-06",
          "2012-07",
          "2012-08",
          "2012-09",
          "2012-10",
          "2012-11",
          "2012-12",
          "2013-01",
          "2013-02",
          "2013-03",
          "2013-04",
          "2013-05",
          "2013-06",
          "2013-07",
          "2013-08",
          "2013-09",
          "2013-10",
          "2013-11",
          "2013-12",
          "2014-01",
          "2014-02",
          "2014-03",
          "2014-04",
          "2014-05",
          "2014-06",
          "2014-07",
          "2014-08",
          "2014-09",
          "2014-10",
          "2014-11",
          "2014-12",
          "2015-01",
          "2015-02",
          "2015-03",
          "2015-04",
          "2015-05",
          "2015-06",
          "2015-07",
          "2015-08",
          "2015-09",
          "2015-10",
          "2015-11",
          "2015-12",
          "2016-01",
          "2016-02",
          "2016-03"
         ],
         "xaxis": "x",
         "y": [
          42318,
          40396,
          41090,
          38441,
          30818,
          30329,
          31958,
          25866,
          35135,
          40039,
          39227,
          40714,
          41599,
          37833,
          40125,
          39012,
          29616,
          32297,
          32584,
          25468,
          35048,
          39309,
          38235,
          38730,
          40149,
          40542,
          38096,
          38576,
          31049,
          31644,
          30270,
          26122,
          36005,
          33374,
          36605,
          38407,
          39899,
          40000,
          36926,
          37037,
          27724,
          32123,
          29976,
          22097,
          30199,
          33144,
          34653,
          38140,
          40494,
          40367,
          38768,
          38412,
          28547,
          23769,
          23045,
          25881,
          26907,
          27851,
          32325,
          32325,
          38781,
          39175,
          38379,
          37265,
          29385,
          25812,
          30756,
          26047,
          32233,
          35898,
          38024,
          37568,
          38550,
          39027,
          37809,
          38101,
          32944,
          33262,
          33138,
          28731,
          36611,
          35829,
          37746,
          37373,
          37414,
          38893,
          38443,
          38648,
          30730,
          26182,
          33908,
          27863,
          36045,
          37266,
          37417,
          37031,
          37821,
          38206,
          37646,
          37732,
          31588,
          32831,
          33866,
          29848,
          33897,
          35188,
          37648,
          37774,
          37598,
          38587,
          37826,
          36868,
          31710,
          32426,
          32634,
          29760,
          35344,
          39128,
          43460,
          41944,
          43850,
          44812,
          42027,
          44704,
          38699,
          36013,
          38399,
          33703,
          37826
         ],
         "yaxis": "y"
        },
        {
         "hovertemplate": "variable=China Airlines<br>Activity Period=%{x|%B, %Y}<br>value=%{y}<extra></extra>",
         "legendgroup": "China Airlines",
         "line": {
          "color": "#FFA15A",
          "dash": "solid"
         },
         "marker": {
          "symbol": "circle"
         },
         "mode": "lines",
         "name": "China Airlines",
         "showlegend": true,
         "type": "scattergl",
         "x": [
          "2005-07",
          "2005-08",
          "2005-09",
          "2005-10",
          "2005-11",
          "2005-12",
          "2006-01",
          "2006-02",
          "2006-03",
          "2006-04",
          "2006-05",
          "2006-06",
          "2006-07",
          "2006-08",
          "2006-09",
          "2006-10",
          "2006-11",
          "2006-12",
          "2007-01",
          "2007-02",
          "2007-03",
          "2007-04",
          "2007-05",
          "2007-06",
          "2007-07",
          "2007-08",
          "2007-09",
          "2007-10",
          "2007-11",
          "2007-12",
          "2008-01",
          "2008-02",
          "2008-03",
          "2008-04",
          "2008-05",
          "2008-06",
          "2008-07",
          "2008-08",
          "2008-09",
          "2008-10",
          "2008-11",
          "2008-12",
          "2009-01",
          "2009-02",
          "2009-03",
          "2009-04",
          "2009-05",
          "2009-06",
          "2009-07",
          "2009-08",
          "2009-09",
          "2009-10",
          "2009-11",
          "2009-12",
          "2010-01",
          "2010-02",
          "2010-03",
          "2010-04",
          "2010-05",
          "2010-06",
          "2010-07",
          "2010-08",
          "2010-09",
          "2010-10",
          "2010-11",
          "2010-12",
          "2011-01",
          "2011-02",
          "2011-03",
          "2011-04",
          "2011-05",
          "2011-06",
          "2011-07",
          "2011-08",
          "2011-09",
          "2011-10",
          "2011-11",
          "2011-12",
          "2012-01",
          "2012-02",
          "2012-03",
          "2012-04",
          "2012-05",
          "2012-06",
          "2012-07",
          "2012-08",
          "2012-09",
          "2012-10",
          "2012-11",
          "2012-12",
          "2013-01",
          "2013-02",
          "2013-03",
          "2013-04",
          "2013-05",
          "2013-06",
          "2013-07",
          "2013-08",
          "2013-09",
          "2013-10",
          "2013-11",
          "2013-12",
          "2014-01",
          "2014-02",
          "2014-03",
          "2014-04",
          "2014-05",
          "2014-06",
          "2014-07",
          "2014-08",
          "2014-09",
          "2014-10",
          "2014-11",
          "2014-12",
          "2015-01",
          "2015-02",
          "2015-03",
          "2015-04",
          "2015-05",
          "2015-06",
          "2015-07",
          "2015-08",
          "2015-09",
          "2015-10",
          "2015-11",
          "2015-12",
          "2016-01",
          "2016-02",
          "2016-03"
         ],
         "xaxis": "x",
         "y": [
          24893,
          25582,
          18640,
          19173,
          19188,
          21186,
          23253,
          18692,
          21838,
          21288,
          22041,
          22555,
          22606,
          21877,
          17368,
          19970,
          20694,
          22102,
          23371,
          19229,
          22169,
          21212,
          22764,
          23305,
          23134,
          21348,
          17537,
          17429,
          18995,
          20749,
          22768,
          17602,
          22113,
          18666,
          20466,
          22474,
          21479,
          21641,
          14994,
          16496,
          15875,
          17921,
          21848,
          15505,
          20672,
          21128,
          21038,
          20339,
          20979,
          22051,
          17566,
          16566,
          20312,
          21157,
          22602,
          15904,
          20502,
          17900,
          22758,
          21841,
          20985,
          21352,
          17148,
          17130,
          17727,
          20327,
          20318,
          14828,
          18302,
          18704,
          21825,
          19953,
          20241,
          19237,
          15734,
          15712,
          18059,
          19787,
          21189,
          16068,
          17447,
          18121,
          20170,
          21032,
          20809,
          21065,
          16015,
          17194,
          18802,
          19431,
          20583,
          16733,
          17896,
          19767,
          20925,
          21779,
          20511,
          20900,
          15089,
          16506,
          18647,
          20164,
          22126,
          18168,
          20494,
          20450,
          21589,
          21366,
          20605,
          20946,
          15421,
          16584,
          18137,
          18974,
          21465,
          18688,
          21591,
          19981,
          20955,
          20675,
          19203,
          20015,
          15697,
          17311,
          16353,
          18021,
          19993,
          17481,
          19387
         ],
         "yaxis": "y"
        },
        {
         "hovertemplate": "variable=EVA Airways<br>Activity Period=%{x|%B, %Y}<br>value=%{y}<extra></extra>",
         "legendgroup": "EVA Airways",
         "line": {
          "color": "#19d3f3",
          "dash": "solid"
         },
         "marker": {
          "symbol": "circle"
         },
         "mode": "lines",
         "name": "EVA Airways",
         "showlegend": true,
         "type": "scattergl",
         "x": [
          "2005-07",
          "2005-08",
          "2005-09",
          "2005-10",
          "2005-11",
          "2005-12",
          "2006-01",
          "2006-02",
          "2006-03",
          "2006-04",
          "2006-05",
          "2006-06",
          "2006-07",
          "2006-08",
          "2006-09",
          "2006-10",
          "2006-11",
          "2006-12",
          "2007-01",
          "2007-02",
          "2007-03",
          "2007-04",
          "2007-05",
          "2007-06",
          "2007-07",
          "2007-08",
          "2007-09",
          "2007-10",
          "2007-11",
          "2007-12",
          "2008-01",
          "2008-02",
          "2008-03",
          "2008-04",
          "2008-05",
          "2008-06",
          "2008-07",
          "2008-08",
          "2008-09",
          "2008-10",
          "2008-11",
          "2008-12",
          "2009-01",
          "2009-02",
          "2009-03",
          "2009-04",
          "2009-05",
          "2009-06",
          "2009-07",
          "2009-08",
          "2009-09",
          "2009-10",
          "2009-11",
          "2009-12",
          "2010-01",
          "2010-02",
          "2010-03",
          "2010-04",
          "2010-05",
          "2010-06",
          "2010-07",
          "2010-08",
          "2010-09",
          "2010-10",
          "2010-11",
          "2010-12",
          "2011-01",
          "2011-02",
          "2011-03",
          "2011-04",
          "2011-05",
          "2011-06",
          "2011-07",
          "2011-08",
          "2011-09",
          "2011-10",
          "2011-11",
          "2011-12",
          "2012-01",
          "2012-02",
          "2012-03",
          "2012-04",
          "2012-05",
          "2012-06",
          "2012-07",
          "2012-08",
          "2012-09",
          "2012-10",
          "2012-11",
          "2012-12",
          "2013-01",
          "2013-02",
          "2013-03",
          "2013-04",
          "2013-05",
          "2013-06",
          "2013-07",
          "2013-08",
          "2013-09",
          "2013-10",
          "2013-11",
          "2013-12",
          "2014-01",
          "2014-02",
          "2014-03",
          "2014-04",
          "2014-05",
          "2014-06",
          "2014-07",
          "2014-08",
          "2014-09",
          "2014-10",
          "2014-11",
          "2014-12",
          "2015-01",
          "2015-02",
          "2015-03",
          "2015-04",
          "2015-05",
          "2015-06",
          "2015-07",
          "2015-08",
          "2015-09",
          "2015-10",
          "2015-11",
          "2015-12",
          "2016-01",
          "2016-02",
          "2016-03"
         ],
         "xaxis": "x",
         "y": [
          26274,
          25474,
          20683,
          21433,
          22505,
          23368,
          25627,
          22119,
          24031,
          23108,
          23430,
          25937,
          27998,
          26789,
          21375,
          26789,
          23779,
          26506,
          27291,
          23829,
          27501,
          25885,
          26627,
          28627,
          28803,
          28524,
          25008,
          25282,
          26045,
          25505,
          27389,
          23460,
          26456,
          23992,
          24201,
          25809,
          27324,
          28574,
          20553,
          22892,
          22433,
          24572,
          25368,
          19050,
          21342,
          22878,
          22017,
          23351,
          25230,
          28297,
          20576,
          21780,
          25503,
          28016,
          29266,
          22949,
          24593,
          24175,
          28166,
          28612,
          27401,
          27031,
          19536,
          18444,
          19007,
          21655,
          24731,
          18124,
          21301,
          19694,
          24158,
          25983,
          25451,
          27495,
          20503,
          20988,
          23684,
          25163,
          26782,
          21174,
          23137,
          21144,
          25761,
          28821,
          29005,
          28610,
          20766,
          21991,
          25829,
          27240,
          27886,
          22491,
          25653,
          24169,
          26597,
          27979,
          29962,
          29476,
          24612,
          25541,
          26337,
          28999,
          30944,
          25654,
          28067,
          27638,
          30057,
          30655,
          34395,
          34091,
          29223,
          26600,
          30801,
          32555,
          34317,
          29908,
          34366,
          32043,
          35602,
          35103,
          33710,
          34340,
          27450,
          31598,
          32301,
          34886,
          36503,
          31886,
          34040
         ],
         "yaxis": "y"
        },
        {
         "hovertemplate": "variable=Korean Air Lines<br>Activity Period=%{x|%B, %Y}<br>value=%{y}<extra></extra>",
         "legendgroup": "Korean Air Lines",
         "line": {
          "color": "#FF6692",
          "dash": "solid"
         },
         "marker": {
          "symbol": "circle"
         },
         "mode": "lines",
         "name": "Korean Air Lines",
         "showlegend": true,
         "type": "scattergl",
         "x": [
          "2005-07",
          "2005-08",
          "2005-09",
          "2005-10",
          "2005-11",
          "2005-12",
          "2006-01",
          "2006-02",
          "2006-03",
          "2006-04",
          "2006-05",
          "2006-06",
          "2006-07",
          "2006-08",
          "2006-09",
          "2006-10",
          "2006-11",
          "2006-12",
          "2007-01",
          "2007-02",
          "2007-03",
          "2007-04",
          "2007-05",
          "2007-06",
          "2007-07",
          "2007-08",
          "2007-09",
          "2007-10",
          "2007-11",
          "2007-12",
          "2008-01",
          "2008-02",
          "2008-03",
          "2008-04",
          "2008-05",
          "2008-06",
          "2008-07",
          "2008-08",
          "2008-09",
          "2008-10",
          "2008-11",
          "2008-12",
          "2009-01",
          "2009-02",
          "2009-03",
          "2009-04",
          "2009-05",
          "2009-06",
          "2009-07",
          "2009-08",
          "2009-09",
          "2009-10",
          "2009-11",
          "2009-12",
          "2010-01",
          "2010-02",
          "2010-03",
          "2010-04",
          "2010-05",
          "2010-06",
          "2010-07",
          "2010-08",
          "2010-09",
          "2010-10",
          "2010-11",
          "2010-12",
          "2011-01",
          "2011-02",
          "2011-03",
          "2011-04",
          "2011-05",
          "2011-06",
          "2011-07",
          "2011-08",
          "2011-09",
          "2011-10",
          "2011-11",
          "2011-12",
          "2012-01",
          "2012-02",
          "2012-03",
          "2012-04",
          "2012-05",
          "2012-06",
          "2012-07",
          "2012-08",
          "2012-09",
          "2012-10",
          "2012-11",
          "2012-12",
          "2013-01",
          "2013-02",
          "2013-03",
          "2013-04",
          "2013-05",
          "2013-06",
          "2013-07",
          "2013-08",
          "2013-09",
          "2013-10",
          "2013-11",
          "2013-12",
          "2014-01",
          "2014-02",
          "2014-03",
          "2014-04",
          "2014-05",
          "2014-06",
          "2014-07",
          "2014-08",
          "2014-09",
          "2014-10",
          "2014-11",
          "2014-12",
          "2015-01",
          "2015-02",
          "2015-03",
          "2015-04",
          "2015-05",
          "2015-06",
          "2015-07",
          "2015-08",
          "2015-09",
          "2015-10",
          "2015-11",
          "2015-12",
          "2016-01",
          "2016-02",
          "2016-03"
         ],
         "xaxis": "x",
         "y": [
          11799,
          16020,
          7792,
          7927,
          8923,
          9575,
          11082,
          8925,
          8965,
          9881,
          11918,
          13870,
          13255,
          13636,
          8271,
          8346,
          7945,
          8739,
          8739,
          7641,
          8391,
          8118,
          9344,
          8697,
          11836,
          12800,
          8884,
          8173,
          7480,
          7349,
          7995,
          6716,
          7508,
          6925,
          8330,
          8330,
          13206,
          15086,
          8464,
          7682,
          7988,
          11084,
          12910,
          7531,
          7927,
          7280,
          7698,
          8753,
          11354,
          15150,
          8841,
          8460,
          7385,
          8868,
          9298,
          7352,
          8281,
          7544,
          8204,
          12928,
          15026,
          16980,
          12749,
          12094,
          7795,
          8077,
          9208,
          7623,
          8594,
          9103,
          13076,
          11985,
          13833,
          13730,
          11663,
          11301,
          11171,
          12182,
          13713,
          11496,
          10219,
          11875,
          13539,
          13822,
          16395,
          16555,
          13115,
          13219,
          12157,
          12970,
          13388,
          11372,
          12700,
          12379,
          13091,
          13231,
          15464,
          16235,
          12551,
          12884,
          11317,
          12277,
          13228,
          10989,
          10822,
          11879,
          13178,
          13206,
          15438,
          16269,
          13432,
          12907,
          11295,
          12902,
          13482,
          11739,
          10836,
          12901,
          14692,
          13088,
          15160,
          15987,
          12445,
          13979,
          13473,
          18002,
          19461,
          17144,
          15556
         ],
         "yaxis": "y"
        },
        {
         "hovertemplate": "variable=Lufthansa German Airlines<br>Activity Period=%{x|%B, %Y}<br>value=%{y}<extra></extra>",
         "legendgroup": "Lufthansa German Airlines",
         "line": {
          "color": "#B6E880",
          "dash": "solid"
         },
         "marker": {
          "symbol": "circle"
         },
         "mode": "lines",
         "name": "Lufthansa German Airlines",
         "showlegend": true,
         "type": "scattergl",
         "x": [
          "2005-07",
          "2005-08",
          "2005-09",
          "2005-10",
          "2005-11",
          "2005-12",
          "2006-01",
          "2006-02",
          "2006-03",
          "2006-04",
          "2006-05",
          "2006-06",
          "2006-07",
          "2006-08",
          "2006-09",
          "2006-10",
          "2006-11",
          "2006-12",
          "2007-01",
          "2007-02",
          "2007-03",
          "2007-04",
          "2007-05",
          "2007-06",
          "2007-07",
          "2007-08",
          "2007-09",
          "2007-10",
          "2007-11",
          "2007-12",
          "2008-01",
          "2008-02",
          "2008-03",
          "2008-04",
          "2008-05",
          "2008-06",
          "2008-07",
          "2008-08",
          "2008-09",
          "2008-10",
          "2008-11",
          "2008-12",
          "2009-01",
          "2009-02",
          "2009-03",
          "2009-04",
          "2009-05",
          "2009-06",
          "2009-07",
          "2009-08",
          "2009-09",
          "2009-10",
          "2009-11",
          "2009-12",
          "2010-01",
          "2010-02",
          "2010-03",
          "2010-04",
          "2010-05",
          "2010-06",
          "2010-07",
          "2010-08",
          "2010-09",
          "2010-10",
          "2010-11",
          "2010-12",
          "2011-01",
          "2011-02",
          "2011-03",
          "2011-04",
          "2011-05",
          "2011-06",
          "2011-07",
          "2011-08",
          "2011-09",
          "2011-10",
          "2011-11",
          "2011-12",
          "2012-01",
          "2012-02",
          "2012-03",
          "2012-04",
          "2012-05",
          "2012-06",
          "2012-07",
          "2012-08",
          "2012-09",
          "2012-10",
          "2012-11",
          "2012-12",
          "2013-01",
          "2013-02",
          "2013-03",
          "2013-04",
          "2013-05",
          "2013-06",
          "2013-07",
          "2013-08",
          "2013-09",
          "2013-10",
          "2013-11",
          "2013-12",
          "2014-01",
          "2014-02",
          "2014-03",
          "2014-04",
          "2014-05",
          "2014-06",
          "2014-07",
          "2014-08",
          "2014-09",
          "2014-10",
          "2014-11",
          "2014-12",
          "2015-01",
          "2015-02",
          "2015-03",
          "2015-04",
          "2015-05",
          "2015-06",
          "2015-07",
          "2015-08",
          "2015-09",
          "2015-10",
          "2015-11",
          "2015-12",
          "2016-01",
          "2016-02",
          "2016-03"
         ],
         "xaxis": "x",
         "y": [
          42900,
          43393,
          41914,
          40318,
          30530,
          29645,
          30302,
          25391,
          32674,
          39890,
          41531,
          41444,
          43282,
          42989,
          40927,
          41120,
          36638,
          37818,
          37826,
          33310,
          39086,
          36148,
          37422,
          36130,
          37794,
          36735,
          35952,
          36856,
          34346,
          32521,
          34310,
          30956,
          35555,
          34224,
          35404,
          36370,
          37685,
          36085,
          35829,
          36060,
          32497,
          32279,
          33632,
          27745,
          34285,
          33628,
          34585,
          36217,
          39373,
          39714,
          36944,
          38024,
          32811,
          33754,
          33680,
          23477,
          34337,
          28256,
          35589,
          36637,
          38407,
          37646,
          36379,
          37002,
          33182,
          32722,
          35134,
          28818,
          34338,
          33538,
          43852,
          47521,
          49682,
          49526,
          46126,
          42951,
          32868,
          30734,
          33364,
          27189,
          37719,
          43452,
          46780,
          47393,
          50334,
          49082,
          45153,
          47182,
          40758,
          34208,
          35132,
          28283,
          37973,
          44169,
          47362,
          48658,
          50034,
          50120,
          46589,
          45816,
          33450,
          32264,
          34569,
          28542,
          36611,
          34105,
          46186,
          48796,
          50079,
          49842,
          47724,
          46332,
          43367,
          38590,
          41254,
          35669,
          45301,
          43626,
          45657,
          45773,
          47806,
          47301,
          44679,
          46538,
          33672,
          38846,
          40844,
          34849,
          43685
         ],
         "yaxis": "y"
        },
        {
         "hovertemplate": "variable=Turkish Airlines<br>Activity Period=%{x|%B, %Y}<br>value=%{y}<extra></extra>",
         "legendgroup": "Turkish Airlines",
         "line": {
          "color": "#FF97FF",
          "dash": "solid"
         },
         "marker": {
          "symbol": "circle"
         },
         "mode": "lines",
         "name": "Turkish Airlines",
         "showlegend": true,
         "type": "scattergl",
         "x": [
          "2005-07",
          "2005-08",
          "2005-09",
          "2005-10",
          "2005-11",
          "2005-12",
          "2006-01",
          "2006-02",
          "2006-03",
          "2006-04",
          "2006-05",
          "2006-06",
          "2006-07",
          "2006-08",
          "2006-09",
          "2006-10",
          "2006-11",
          "2006-12",
          "2007-01",
          "2007-02",
          "2007-03",
          "2007-04",
          "2007-05",
          "2007-06",
          "2007-07",
          "2007-08",
          "2007-09",
          "2007-10",
          "2007-11",
          "2007-12",
          "2008-01",
          "2008-02",
          "2008-03",
          "2008-04",
          "2008-05",
          "2008-06",
          "2008-07",
          "2008-08",
          "2008-09",
          "2008-10",
          "2008-11",
          "2008-12",
          "2009-01",
          "2009-02",
          "2009-03",
          "2009-04",
          "2009-05",
          "2009-06",
          "2009-07",
          "2009-08",
          "2009-09",
          "2009-10",
          "2009-11",
          "2009-12",
          "2010-01",
          "2010-02",
          "2010-03",
          "2010-04",
          "2010-05",
          "2010-06",
          "2010-07",
          "2010-08",
          "2010-09",
          "2010-10",
          "2010-11",
          "2010-12",
          "2011-01",
          "2011-02",
          "2011-03",
          "2011-04",
          "2011-05",
          "2011-06",
          "2011-07",
          "2011-08",
          "2011-09",
          "2011-10",
          "2011-11",
          "2011-12",
          "2012-01",
          "2012-02",
          "2012-03",
          "2012-04",
          "2012-05",
          "2012-06",
          "2012-07",
          "2012-08",
          "2012-09",
          "2012-10",
          "2012-11",
          "2012-12",
          "2013-01",
          "2013-02",
          "2013-03",
          "2013-04",
          "2013-05",
          "2013-06",
          "2013-07",
          "2013-08",
          "2013-09",
          "2013-10",
          "2013-11",
          "2013-12",
          "2014-01",
          "2014-02",
          "2014-03",
          "2014-04",
          "2014-05",
          "2014-06",
          "2014-07",
          "2014-08",
          "2014-09",
          "2014-10",
          "2014-11",
          "2014-12",
          "2015-01",
          "2015-02",
          "2015-03",
          "2015-04",
          "2015-05",
          "2015-06",
          "2015-07",
          "2015-08",
          "2015-09",
          "2015-10",
          "2015-11",
          "2015-12",
          "2016-01",
          "2016-02",
          "2016-03"
         ],
         "xaxis": "x",
         "y": [
          null,
          null,
          null,
          null,
          null,
          null,
          null,
          null,
          null,
          null,
          null,
          null,
          null,
          null,
          null,
          null,
          null,
          null,
          null,
          null,
          null,
          null,
          null,
          null,
          null,
          null,
          null,
          null,
          null,
          null,
          null,
          null,
          null,
          null,
          null,
          null,
          null,
          null,
          null,
          null,
          null,
          null,
          null,
          null,
          null,
          null,
          null,
          null,
          null,
          null,
          null,
          null,
          null,
          null,
          null,
          null,
          null,
          null,
          null,
          null,
          null,
          null,
          null,
          null,
          null,
          null,
          null,
          null,
          null,
          null,
          null,
          null,
          null,
          null,
          null,
          null,
          null,
          null,
          null,
          null,
          null,
          null,
          null,
          null,
          null,
          null,
          null,
          null,
          null,
          null,
          null,
          null,
          null,
          null,
          null,
          null,
          null,
          null,
          null,
          null,
          null,
          null,
          null,
          null,
          null,
          null,
          null,
          null,
          null,
          null,
          null,
          null,
          null,
          null,
          null,
          null,
          null,
          7497,
          15670,
          17475,
          17850,
          17806,
          16723,
          17865,
          17549,
          16870,
          17199,
          15800,
          17594
         ],
         "yaxis": "y"
        },
        {
         "hovertemplate": "variable=Virgin Atlantic<br>Activity Period=%{x|%B, %Y}<br>value=%{y}<extra></extra>",
         "legendgroup": "Virgin Atlantic",
         "line": {
          "color": "#FECB52",
          "dash": "solid"
         },
         "marker": {
          "symbol": "circle"
         },
         "mode": "lines",
         "name": "Virgin Atlantic",
         "showlegend": true,
         "type": "scattergl",
         "x": [
          "2005-07",
          "2005-08",
          "2005-09",
          "2005-10",
          "2005-11",
          "2005-12",
          "2006-01",
          "2006-02",
          "2006-03",
          "2006-04",
          "2006-05",
          "2006-06",
          "2006-07",
          "2006-08",
          "2006-09",
          "2006-10",
          "2006-11",
          "2006-12",
          "2007-01",
          "2007-02",
          "2007-03",
          "2007-04",
          "2007-05",
          "2007-06",
          "2007-07",
          "2007-08",
          "2007-09",
          "2007-10",
          "2007-11",
          "2007-12",
          "2008-01",
          "2008-02",
          "2008-03",
          "2008-04",
          "2008-05",
          "2008-06",
          "2008-07",
          "2008-08",
          "2008-09",
          "2008-10",
          "2008-11",
          "2008-12",
          "2009-01",
          "2009-02",
          "2009-03",
          "2009-04",
          "2009-05",
          "2009-06",
          "2009-07",
          "2009-08",
          "2009-09",
          "2009-10",
          "2009-11",
          "2009-12",
          "2010-01",
          "2010-02",
          "2010-03",
          "2010-04",
          "2010-05",
          "2010-06",
          "2010-07",
          "2010-08",
          "2010-09",
          "2010-10",
          "2010-11",
          "2010-12",
          "2011-01",
          "2011-02",
          "2011-03",
          "2011-04",
          "2011-05",
          "2011-06",
          "2011-07",
          "2011-08",
          "2011-09",
          "2011-10",
          "2011-11",
          "2011-12",
          "2012-01",
          "2012-02",
          "2012-03",
          "2012-04",
          "2012-05",
          "2012-06",
          "2012-07",
          "2012-08",
          "2012-09",
          "2012-10",
          "2012-11",
          "2012-12",
          "2013-01",
          "2013-02",
          "2013-03",
          "2013-04",
          "2013-05",
          "2013-06",
          "2013-07",
          "2013-08",
          "2013-09",
          "2013-10",
          "2013-11",
          "2013-12",
          "2014-01",
          "2014-02",
          "2014-03",
          "2014-04",
          "2014-05",
          "2014-06",
          "2014-07",
          "2014-08",
          "2014-09",
          "2014-10",
          "2014-11",
          "2014-12",
          "2015-01",
          "2015-02",
          "2015-03",
          "2015-04",
          "2015-05",
          "2015-06",
          "2015-07",
          "2015-08",
          "2015-09",
          "2015-10",
          "2015-11",
          "2015-12",
          "2016-01",
          "2016-02",
          "2016-03"
         ],
         "xaxis": "x",
         "y": [
          22455,
          21757,
          22707,
          19355,
          16195,
          16977,
          17963,
          14392,
          18530,
          21132,
          20451,
          21967,
          22510,
          21757,
          21611,
          19681,
          15840,
          18001,
          18989,
          15596,
          19632,
          20841,
          19623,
          21431,
          22209,
          21698,
          22283,
          19091,
          15617,
          17376,
          16075,
          14253,
          17977,
          18745,
          18723,
          19408,
          19725,
          20205,
          19954,
          19137,
          14029,
          17434,
          15675,
          12547,
          15671,
          18547,
          19056,
          19979,
          20517,
          20478,
          20126,
          19765,
          14702,
          15452,
          15351,
          13591,
          17158,
          15582,
          20273,
          21388,
          21197,
          21916,
          21228,
          20690,
          14802,
          13180,
          13989,
          11950,
          16123,
          17886,
          20621,
          19772,
          20006,
          21077,
          21405,
          20514,
          15247,
          16922,
          15383,
          12338,
          18154,
          20548,
          25624,
          26852,
          26325,
          27656,
          27755,
          24451,
          17373,
          16682,
          16922,
          13343,
          18771,
          19425,
          21277,
          21587,
          21502,
          21942,
          21548,
          21898,
          17958,
          19640,
          18848,
          14574,
          18852,
          20410,
          21791,
          21547,
          21499,
          21894,
          21632,
          20778,
          17112,
          18596,
          17352,
          14388,
          19973,
          24352,
          27387,
          31853,
          32081,
          33042,
          30989,
          28010,
          19159,
          21571,
          20948,
          16035,
          23211
         ],
         "yaxis": "y"
        },
        {
         "hovertemplate": "variable=WestJet Airlines<br>Activity Period=%{x|%B, %Y}<br>value=%{y}<extra></extra>",
         "legendgroup": "WestJet Airlines",
         "line": {
          "color": "#636efa",
          "dash": "solid"
         },
         "marker": {
          "symbol": "circle"
         },
         "mode": "lines",
         "name": "WestJet Airlines",
         "showlegend": true,
         "type": "scattergl",
         "x": [
          "2005-07",
          "2005-08",
          "2005-09",
          "2005-10",
          "2005-11",
          "2005-12",
          "2006-01",
          "2006-02",
          "2006-03",
          "2006-04",
          "2006-05",
          "2006-06",
          "2006-07",
          "2006-08",
          "2006-09",
          "2006-10",
          "2006-11",
          "2006-12",
          "2007-01",
          "2007-02",
          "2007-03",
          "2007-04",
          "2007-05",
          "2007-06",
          "2007-07",
          "2007-08",
          "2007-09",
          "2007-10",
          "2007-11",
          "2007-12",
          "2008-01",
          "2008-02",
          "2008-03",
          "2008-04",
          "2008-05",
          "2008-06",
          "2008-07",
          "2008-08",
          "2008-09",
          "2008-10",
          "2008-11",
          "2008-12",
          "2009-01",
          "2009-02",
          "2009-03",
          "2009-04",
          "2009-05",
          "2009-06",
          "2009-07",
          "2009-08",
          "2009-09",
          "2009-10",
          "2009-11",
          "2009-12",
          "2010-01",
          "2010-02",
          "2010-03",
          "2010-04",
          "2010-05",
          "2010-06",
          "2010-07",
          "2010-08",
          "2010-09",
          "2010-10",
          "2010-11",
          "2010-12",
          "2011-01",
          "2011-02",
          "2011-03",
          "2011-04",
          "2011-05",
          "2011-06",
          "2011-07",
          "2011-08",
          "2011-09",
          "2011-10",
          "2011-11",
          "2011-12",
          "2012-01",
          "2012-02",
          "2012-03",
          "2012-04",
          "2012-05",
          "2012-06",
          "2012-07",
          "2012-08",
          "2012-09",
          "2012-10",
          "2012-11",
          "2012-12",
          "2013-01",
          "2013-02",
          "2013-03",
          "2013-04",
          "2013-05",
          "2013-06",
          "2013-07",
          "2013-08",
          "2013-09",
          "2013-10",
          "2013-11",
          "2013-12",
          "2014-01",
          "2014-02",
          "2014-03",
          "2014-04",
          "2014-05",
          "2014-06",
          "2014-07",
          "2014-08",
          "2014-09",
          "2014-10",
          "2014-11",
          "2014-12",
          "2015-01",
          "2015-02",
          "2015-03",
          "2015-04",
          "2015-05",
          "2015-06",
          "2015-07",
          "2015-08",
          "2015-09",
          "2015-10",
          "2015-11",
          "2015-12",
          "2016-01",
          "2016-02",
          "2016-03"
         ],
         "xaxis": "x",
         "y": [
          4691,
          4551,
          4047,
          2784,
          2551,
          2365,
          1029,
          null,
          null,
          null,
          null,
          null,
          null,
          null,
          null,
          null,
          null,
          null,
          null,
          null,
          null,
          null,
          null,
          null,
          null,
          null,
          null,
          null,
          null,
          null,
          null,
          null,
          null,
          null,
          null,
          null,
          null,
          null,
          null,
          null,
          null,
          null,
          null,
          null,
          null,
          null,
          null,
          3319,
          3210,
          3231,
          2870,
          2782,
          null,
          null,
          null,
          null,
          null,
          null,
          8499,
          9536,
          16356,
          17482,
          13645,
          11544,
          null,
          null,
          null,
          null,
          null,
          null,
          14084,
          14674,
          15719,
          15863,
          13781,
          12029,
          null,
          null,
          null,
          2,
          null,
          736,
          14300,
          15405,
          16470,
          16032,
          13678,
          13385,
          null,
          null,
          null,
          null,
          null,
          1157,
          13876,
          14656,
          15364,
          15886,
          13390,
          11522,
          null,
          null,
          null,
          null,
          null,
          1808,
          14248,
          13805,
          16965,
          17120,
          13670,
          10354,
          null,
          null,
          null,
          null,
          null,
          null,
          13545,
          15856,
          16948,
          16903,
          14950,
          7157,
          null,
          null,
          null,
          null,
          null
         ],
         "yaxis": "y"
        }
       ],
       "layout": {
        "legend": {
         "title": {
          "text": "variable"
         },
         "tracegroupgap": 0
        },
        "template": {
         "data": {
          "bar": [
           {
            "error_x": {
             "color": "#2a3f5f"
            },
            "error_y": {
             "color": "#2a3f5f"
            },
            "marker": {
             "line": {
              "color": "#E5ECF6",
              "width": 0.5
             },
             "pattern": {
              "fillmode": "overlay",
              "size": 10,
              "solidity": 0.2
             }
            },
            "type": "bar"
           }
          ],
          "barpolar": [
           {
            "marker": {
             "line": {
              "color": "#E5ECF6",
              "width": 0.5
             },
             "pattern": {
              "fillmode": "overlay",
              "size": 10,
              "solidity": 0.2
             }
            },
            "type": "barpolar"
           }
          ],
          "carpet": [
           {
            "aaxis": {
             "endlinecolor": "#2a3f5f",
             "gridcolor": "white",
             "linecolor": "white",
             "minorgridcolor": "white",
             "startlinecolor": "#2a3f5f"
            },
            "baxis": {
             "endlinecolor": "#2a3f5f",
             "gridcolor": "white",
             "linecolor": "white",
             "minorgridcolor": "white",
             "startlinecolor": "#2a3f5f"
            },
            "type": "carpet"
           }
          ],
          "choropleth": [
           {
            "colorbar": {
             "outlinewidth": 0,
             "ticks": ""
            },
            "type": "choropleth"
           }
          ],
          "contour": [
           {
            "colorbar": {
             "outlinewidth": 0,
             "ticks": ""
            },
            "colorscale": [
             [
              0,
              "#0d0887"
             ],
             [
              0.1111111111111111,
              "#46039f"
             ],
             [
              0.2222222222222222,
              "#7201a8"
             ],
             [
              0.3333333333333333,
              "#9c179e"
             ],
             [
              0.4444444444444444,
              "#bd3786"
             ],
             [
              0.5555555555555556,
              "#d8576b"
             ],
             [
              0.6666666666666666,
              "#ed7953"
             ],
             [
              0.7777777777777778,
              "#fb9f3a"
             ],
             [
              0.8888888888888888,
              "#fdca26"
             ],
             [
              1,
              "#f0f921"
             ]
            ],
            "type": "contour"
           }
          ],
          "contourcarpet": [
           {
            "colorbar": {
             "outlinewidth": 0,
             "ticks": ""
            },
            "type": "contourcarpet"
           }
          ],
          "heatmap": [
           {
            "colorbar": {
             "outlinewidth": 0,
             "ticks": ""
            },
            "colorscale": [
             [
              0,
              "#0d0887"
             ],
             [
              0.1111111111111111,
              "#46039f"
             ],
             [
              0.2222222222222222,
              "#7201a8"
             ],
             [
              0.3333333333333333,
              "#9c179e"
             ],
             [
              0.4444444444444444,
              "#bd3786"
             ],
             [
              0.5555555555555556,
              "#d8576b"
             ],
             [
              0.6666666666666666,
              "#ed7953"
             ],
             [
              0.7777777777777778,
              "#fb9f3a"
             ],
             [
              0.8888888888888888,
              "#fdca26"
             ],
             [
              1,
              "#f0f921"
             ]
            ],
            "type": "heatmap"
           }
          ],
          "heatmapgl": [
           {
            "colorbar": {
             "outlinewidth": 0,
             "ticks": ""
            },
            "colorscale": [
             [
              0,
              "#0d0887"
             ],
             [
              0.1111111111111111,
              "#46039f"
             ],
             [
              0.2222222222222222,
              "#7201a8"
             ],
             [
              0.3333333333333333,
              "#9c179e"
             ],
             [
              0.4444444444444444,
              "#bd3786"
             ],
             [
              0.5555555555555556,
              "#d8576b"
             ],
             [
              0.6666666666666666,
              "#ed7953"
             ],
             [
              0.7777777777777778,
              "#fb9f3a"
             ],
             [
              0.8888888888888888,
              "#fdca26"
             ],
             [
              1,
              "#f0f921"
             ]
            ],
            "type": "heatmapgl"
           }
          ],
          "histogram": [
           {
            "marker": {
             "pattern": {
              "fillmode": "overlay",
              "size": 10,
              "solidity": 0.2
             }
            },
            "type": "histogram"
           }
          ],
          "histogram2d": [
           {
            "colorbar": {
             "outlinewidth": 0,
             "ticks": ""
            },
            "colorscale": [
             [
              0,
              "#0d0887"
             ],
             [
              0.1111111111111111,
              "#46039f"
             ],
             [
              0.2222222222222222,
              "#7201a8"
             ],
             [
              0.3333333333333333,
              "#9c179e"
             ],
             [
              0.4444444444444444,
              "#bd3786"
             ],
             [
              0.5555555555555556,
              "#d8576b"
             ],
             [
              0.6666666666666666,
              "#ed7953"
             ],
             [
              0.7777777777777778,
              "#fb9f3a"
             ],
             [
              0.8888888888888888,
              "#fdca26"
             ],
             [
              1,
              "#f0f921"
             ]
            ],
            "type": "histogram2d"
           }
          ],
          "histogram2dcontour": [
           {
            "colorbar": {
             "outlinewidth": 0,
             "ticks": ""
            },
            "colorscale": [
             [
              0,
              "#0d0887"
             ],
             [
              0.1111111111111111,
              "#46039f"
             ],
             [
              0.2222222222222222,
              "#7201a8"
             ],
             [
              0.3333333333333333,
              "#9c179e"
             ],
             [
              0.4444444444444444,
              "#bd3786"
             ],
             [
              0.5555555555555556,
              "#d8576b"
             ],
             [
              0.6666666666666666,
              "#ed7953"
             ],
             [
              0.7777777777777778,
              "#fb9f3a"
             ],
             [
              0.8888888888888888,
              "#fdca26"
             ],
             [
              1,
              "#f0f921"
             ]
            ],
            "type": "histogram2dcontour"
           }
          ],
          "mesh3d": [
           {
            "colorbar": {
             "outlinewidth": 0,
             "ticks": ""
            },
            "type": "mesh3d"
           }
          ],
          "parcoords": [
           {
            "line": {
             "colorbar": {
              "outlinewidth": 0,
              "ticks": ""
             }
            },
            "type": "parcoords"
           }
          ],
          "pie": [
           {
            "automargin": true,
            "type": "pie"
           }
          ],
          "scatter": [
           {
            "fillpattern": {
             "fillmode": "overlay",
             "size": 10,
             "solidity": 0.2
            },
            "type": "scatter"
           }
          ],
          "scatter3d": [
           {
            "line": {
             "colorbar": {
              "outlinewidth": 0,
              "ticks": ""
             }
            },
            "marker": {
             "colorbar": {
              "outlinewidth": 0,
              "ticks": ""
             }
            },
            "type": "scatter3d"
           }
          ],
          "scattercarpet": [
           {
            "marker": {
             "colorbar": {
              "outlinewidth": 0,
              "ticks": ""
             }
            },
            "type": "scattercarpet"
           }
          ],
          "scattergeo": [
           {
            "marker": {
             "colorbar": {
              "outlinewidth": 0,
              "ticks": ""
             }
            },
            "type": "scattergeo"
           }
          ],
          "scattergl": [
           {
            "marker": {
             "colorbar": {
              "outlinewidth": 0,
              "ticks": ""
             }
            },
            "type": "scattergl"
           }
          ],
          "scattermapbox": [
           {
            "marker": {
             "colorbar": {
              "outlinewidth": 0,
              "ticks": ""
             }
            },
            "type": "scattermapbox"
           }
          ],
          "scatterpolar": [
           {
            "marker": {
             "colorbar": {
              "outlinewidth": 0,
              "ticks": ""
             }
            },
            "type": "scatterpolar"
           }
          ],
          "scatterpolargl": [
           {
            "marker": {
             "colorbar": {
              "outlinewidth": 0,
              "ticks": ""
             }
            },
            "type": "scatterpolargl"
           }
          ],
          "scatterternary": [
           {
            "marker": {
             "colorbar": {
              "outlinewidth": 0,
              "ticks": ""
             }
            },
            "type": "scatterternary"
           }
          ],
          "surface": [
           {
            "colorbar": {
             "outlinewidth": 0,
             "ticks": ""
            },
            "colorscale": [
             [
              0,
              "#0d0887"
             ],
             [
              0.1111111111111111,
              "#46039f"
             ],
             [
              0.2222222222222222,
              "#7201a8"
             ],
             [
              0.3333333333333333,
              "#9c179e"
             ],
             [
              0.4444444444444444,
              "#bd3786"
             ],
             [
              0.5555555555555556,
              "#d8576b"
             ],
             [
              0.6666666666666666,
              "#ed7953"
             ],
             [
              0.7777777777777778,
              "#fb9f3a"
             ],
             [
              0.8888888888888888,
              "#fdca26"
             ],
             [
              1,
              "#f0f921"
             ]
            ],
            "type": "surface"
           }
          ],
          "table": [
           {
            "cells": {
             "fill": {
              "color": "#EBF0F8"
             },
             "line": {
              "color": "white"
             }
            },
            "header": {
             "fill": {
              "color": "#C8D4E3"
             },
             "line": {
              "color": "white"
             }
            },
            "type": "table"
           }
          ]
         },
         "layout": {
          "annotationdefaults": {
           "arrowcolor": "#2a3f5f",
           "arrowhead": 0,
           "arrowwidth": 1
          },
          "autotypenumbers": "strict",
          "coloraxis": {
           "colorbar": {
            "outlinewidth": 0,
            "ticks": ""
           }
          },
          "colorscale": {
           "diverging": [
            [
             0,
             "#8e0152"
            ],
            [
             0.1,
             "#c51b7d"
            ],
            [
             0.2,
             "#de77ae"
            ],
            [
             0.3,
             "#f1b6da"
            ],
            [
             0.4,
             "#fde0ef"
            ],
            [
             0.5,
             "#f7f7f7"
            ],
            [
             0.6,
             "#e6f5d0"
            ],
            [
             0.7,
             "#b8e186"
            ],
            [
             0.8,
             "#7fbc41"
            ],
            [
             0.9,
             "#4d9221"
            ],
            [
             1,
             "#276419"
            ]
           ],
           "sequential": [
            [
             0,
             "#0d0887"
            ],
            [
             0.1111111111111111,
             "#46039f"
            ],
            [
             0.2222222222222222,
             "#7201a8"
            ],
            [
             0.3333333333333333,
             "#9c179e"
            ],
            [
             0.4444444444444444,
             "#bd3786"
            ],
            [
             0.5555555555555556,
             "#d8576b"
            ],
            [
             0.6666666666666666,
             "#ed7953"
            ],
            [
             0.7777777777777778,
             "#fb9f3a"
            ],
            [
             0.8888888888888888,
             "#fdca26"
            ],
            [
             1,
             "#f0f921"
            ]
           ],
           "sequentialminus": [
            [
             0,
             "#0d0887"
            ],
            [
             0.1111111111111111,
             "#46039f"
            ],
            [
             0.2222222222222222,
             "#7201a8"
            ],
            [
             0.3333333333333333,
             "#9c179e"
            ],
            [
             0.4444444444444444,
             "#bd3786"
            ],
            [
             0.5555555555555556,
             "#d8576b"
            ],
            [
             0.6666666666666666,
             "#ed7953"
            ],
            [
             0.7777777777777778,
             "#fb9f3a"
            ],
            [
             0.8888888888888888,
             "#fdca26"
            ],
            [
             1,
             "#f0f921"
            ]
           ]
          },
          "colorway": [
           "#636efa",
           "#EF553B",
           "#00cc96",
           "#ab63fa",
           "#FFA15A",
           "#19d3f3",
           "#FF6692",
           "#B6E880",
           "#FF97FF",
           "#FECB52"
          ],
          "font": {
           "color": "#2a3f5f"
          },
          "geo": {
           "bgcolor": "white",
           "lakecolor": "white",
           "landcolor": "#E5ECF6",
           "showlakes": true,
           "showland": true,
           "subunitcolor": "white"
          },
          "hoverlabel": {
           "align": "left"
          },
          "hovermode": "closest",
          "mapbox": {
           "style": "light"
          },
          "paper_bgcolor": "white",
          "plot_bgcolor": "#E5ECF6",
          "polar": {
           "angularaxis": {
            "gridcolor": "white",
            "linecolor": "white",
            "ticks": ""
           },
           "bgcolor": "#E5ECF6",
           "radialaxis": {
            "gridcolor": "white",
            "linecolor": "white",
            "ticks": ""
           }
          },
          "scene": {
           "xaxis": {
            "backgroundcolor": "#E5ECF6",
            "gridcolor": "white",
            "gridwidth": 2,
            "linecolor": "white",
            "showbackground": true,
            "ticks": "",
            "zerolinecolor": "white"
           },
           "yaxis": {
            "backgroundcolor": "#E5ECF6",
            "gridcolor": "white",
            "gridwidth": 2,
            "linecolor": "white",
            "showbackground": true,
            "ticks": "",
            "zerolinecolor": "white"
           },
           "zaxis": {
            "backgroundcolor": "#E5ECF6",
            "gridcolor": "white",
            "gridwidth": 2,
            "linecolor": "white",
            "showbackground": true,
            "ticks": "",
            "zerolinecolor": "white"
           }
          },
          "shapedefaults": {
           "line": {
            "color": "#2a3f5f"
           }
          },
          "ternary": {
           "aaxis": {
            "gridcolor": "white",
            "linecolor": "white",
            "ticks": ""
           },
           "baxis": {
            "gridcolor": "white",
            "linecolor": "white",
            "ticks": ""
           },
           "bgcolor": "#E5ECF6",
           "caxis": {
            "gridcolor": "white",
            "linecolor": "white",
            "ticks": ""
           }
          },
          "title": {
           "x": 0.05
          },
          "xaxis": {
           "automargin": true,
           "gridcolor": "white",
           "linecolor": "white",
           "ticks": "",
           "title": {
            "standoff": 15
           },
           "zerolinecolor": "white",
           "zerolinewidth": 2
          },
          "yaxis": {
           "automargin": true,
           "gridcolor": "white",
           "linecolor": "white",
           "ticks": "",
           "title": {
            "standoff": 15
           },
           "zerolinecolor": "white",
           "zerolinewidth": 2
          }
         }
        },
        "title": {
         "text": "Airline traffic in US"
        },
        "xaxis": {
         "anchor": "y",
         "domain": [
          0,
          1
         ],
         "dtick": "M4",
         "tickformat": "%B %Y",
         "title": {
          "text": "Activity Period"
         }
        },
        "yaxis": {
         "anchor": "x",
         "domain": [
          0,
          1
         ],
         "title": {
          "text": "value"
         }
        }
       }
      },
      "text/html": [
       "<div>                            <div id=\"dbadac5c-1196-42a3-90c0-8b09c494eabb\" class=\"plotly-graph-div\" style=\"height:525px; width:100%;\"></div>            <script type=\"text/javascript\">                require([\"plotly\"], function(Plotly) {                    window.PLOTLYENV=window.PLOTLYENV || {};                                    if (document.getElementById(\"dbadac5c-1196-42a3-90c0-8b09c494eabb\")) {                    Plotly.newPlot(                        \"dbadac5c-1196-42a3-90c0-8b09c494eabb\",                        [{\"hovertemplate\":\"variable=Air France<br>Activity Period=%{x|%B, %Y}<br>value=%{y}<extra></extra>\",\"legendgroup\":\"Air France\",\"line\":{\"color\":\"#636efa\",\"dash\":\"solid\"},\"marker\":{\"symbol\":\"circle\"},\"mode\":\"lines\",\"name\":\"Air France\",\"showlegend\":true,\"x\":[\"2005-07\",\"2005-08\",\"2005-09\",\"2005-10\",\"2005-11\",\"2005-12\",\"2006-01\",\"2006-02\",\"2006-03\",\"2006-04\",\"2006-05\",\"2006-06\",\"2006-07\",\"2006-08\",\"2006-09\",\"2006-10\",\"2006-11\",\"2006-12\",\"2007-01\",\"2007-02\",\"2007-03\",\"2007-04\",\"2007-05\",\"2007-06\",\"2007-07\",\"2007-08\",\"2007-09\",\"2007-10\",\"2007-11\",\"2007-12\",\"2008-01\",\"2008-02\",\"2008-03\",\"2008-04\",\"2008-05\",\"2008-06\",\"2008-07\",\"2008-08\",\"2008-09\",\"2008-10\",\"2008-11\",\"2008-12\",\"2009-01\",\"2009-02\",\"2009-03\",\"2009-04\",\"2009-05\",\"2009-06\",\"2009-07\",\"2009-08\",\"2009-09\",\"2009-10\",\"2009-11\",\"2009-12\",\"2010-01\",\"2010-02\",\"2010-03\",\"2010-04\",\"2010-05\",\"2010-06\",\"2010-07\",\"2010-08\",\"2010-09\",\"2010-10\",\"2010-11\",\"2010-12\",\"2011-01\",\"2011-02\",\"2011-03\",\"2011-04\",\"2011-05\",\"2011-06\",\"2011-07\",\"2011-08\",\"2011-09\",\"2011-10\",\"2011-11\",\"2011-12\",\"2012-01\",\"2012-02\",\"2012-03\",\"2012-04\",\"2012-05\",\"2012-06\",\"2012-07\",\"2012-08\",\"2012-09\",\"2012-10\",\"2012-11\",\"2012-12\",\"2013-01\",\"2013-02\",\"2013-03\",\"2013-04\",\"2013-05\",\"2013-06\",\"2013-07\",\"2013-08\",\"2013-09\",\"2013-10\",\"2013-11\",\"2013-12\",\"2014-01\",\"2014-02\",\"2014-03\",\"2014-04\",\"2014-05\",\"2014-06\",\"2014-07\",\"2014-08\",\"2014-09\",\"2014-10\",\"2014-11\",\"2014-12\",\"2015-01\",\"2015-02\",\"2015-03\",\"2015-04\",\"2015-05\",\"2015-06\",\"2015-07\",\"2015-08\",\"2015-09\",\"2015-10\",\"2015-11\",\"2015-12\",\"2016-01\",\"2016-02\",\"2016-03\"],\"xaxis\":\"x\",\"y\":[23688.0,22961.0,22068.0,21311.0,14695.0,14614.0,14740.0,12972.0,17563.0,22904.0,23885.0,23877.0,24950.0,23681.0,22303.0,21754.0,13247.0,14017.0,13673.0,12418.0,16593.0,20883.0,23096.0,23172.0,24755.0,24456.0,22469.0,21597.0,13997.0,13984.0,13017.0,12037.0,15940.0,23195.0,24155.0,24692.0,26078.0,26108.0,24914.0,23393.0,13672.0,14973.0,14156.0,11177.0,15776.0,24034.0,25240.0,24941.0,26051.0,26418.0,25439.0,23726.0,14089.0,14835.0,14301.0,11845.0,16847.0,19775.0,25487.0,27571.0,33172.0,32106.0,26456.0,25459.0,14234.0,12554.0,14728.0,11992.0,16300.0,23986.0,26173.0,34392.0,37283.0,37939.0,34375.0,30359.0,14639.0,15467.0,14248.0,12475.0,17377.0,21152.0,30300.0,41525.0,41741.0,42690.0,42455.0,24731.0,15673.0,16705.0,14515.0,12566.0,17818.0,24201.0,35421.0,39479.0,39312.0,39777.0,37916.0,27591.0,14834.0,17423.0,15505.0,13763.0,17932.0,26534.0,29112.0,40662.0,40472.0,41778.0,29593.0,27480.0,16304.0,17168.0,14969.0,13230.0,17943.0,26607.0,29863.0,44133.0,46473.0,46849.0,40388.0,29546.0,17729.0,17930.0,17853.0,15876.0,20546.0],\"yaxis\":\"y\",\"type\":\"scattergl\"},{\"hovertemplate\":\"variable=Alaska Airlines<br>Activity Period=%{x|%B, %Y}<br>value=%{y}<extra></extra>\",\"legendgroup\":\"Alaska Airlines\",\"line\":{\"color\":\"#EF553B\",\"dash\":\"solid\"},\"marker\":{\"symbol\":\"circle\"},\"mode\":\"lines\",\"name\":\"Alaska Airlines\",\"showlegend\":true,\"x\":[\"2005-07\",\"2005-08\",\"2005-09\",\"2005-10\",\"2005-11\",\"2005-12\",\"2006-01\",\"2006-02\",\"2006-03\",\"2006-04\",\"2006-05\",\"2006-06\",\"2006-07\",\"2006-08\",\"2006-09\",\"2006-10\",\"2006-11\",\"2006-12\",\"2007-01\",\"2007-02\",\"2007-03\",\"2007-04\",\"2007-05\",\"2007-06\",\"2007-07\",\"2007-08\",\"2007-09\",\"2007-10\",\"2007-11\",\"2007-12\",\"2008-01\",\"2008-02\",\"2008-03\",\"2008-04\",\"2008-05\",\"2008-06\",\"2008-07\",\"2008-08\",\"2008-09\",\"2008-10\",\"2008-11\",\"2008-12\",\"2009-01\",\"2009-02\",\"2009-03\",\"2009-04\",\"2009-05\",\"2009-06\",\"2009-07\",\"2009-08\",\"2009-09\",\"2009-10\",\"2009-11\",\"2009-12\",\"2010-01\",\"2010-02\",\"2010-03\",\"2010-04\",\"2010-05\",\"2010-06\",\"2010-07\",\"2010-08\",\"2010-09\",\"2010-10\",\"2010-11\",\"2010-12\",\"2011-01\",\"2011-02\",\"2011-03\",\"2011-04\",\"2011-05\",\"2011-06\",\"2011-07\",\"2011-08\",\"2011-09\",\"2011-10\",\"2011-11\",\"2011-12\",\"2012-01\",\"2012-02\",\"2012-03\",\"2012-04\",\"2012-05\",\"2012-06\",\"2012-07\",\"2012-08\",\"2012-09\",\"2012-10\",\"2012-11\",\"2012-12\",\"2013-01\",\"2013-02\",\"2013-03\",\"2013-04\",\"2013-05\",\"2013-06\",\"2013-07\",\"2013-08\",\"2013-09\",\"2013-10\",\"2013-11\",\"2013-12\",\"2014-01\",\"2014-02\",\"2014-03\",\"2014-04\",\"2014-05\",\"2014-06\",\"2014-07\",\"2014-08\",\"2014-09\",\"2014-10\",\"2014-11\",\"2014-12\",\"2015-01\",\"2015-02\",\"2015-03\",\"2015-04\",\"2015-05\",\"2015-06\",\"2015-07\",\"2015-08\",\"2015-09\",\"2015-10\",\"2015-11\",\"2015-12\",\"2016-01\",\"2016-02\",\"2016-03\"],\"xaxis\":\"x\",\"y\":[115793.0,118625.0,97905.0,97526.0,106732.0,106069.0,99938.0,91842.0,107131.0,103548.0,106903.0,112481.0,114523.0,114389.0,98273.0,102360.0,125204.0,124285.0,108910.0,110681.0,131398.0,135312.0,129538.0,136942.0,144658.0,145800.0,114236.0,111572.0,116525.0,118564.0,104474.0,108435.0,124150.0,118468.0,127937.0,126329.0,133343.0,128970.0,93866.0,99463.0,95677.0,92602.0,81644.0,78167.0,91815.0,96082.0,84275.0,86674.0,86225.0,83063.0,74008.0,77114.0,76645.0,79364.0,63928.0,58237.0,67134.0,70987.0,70249.0,85191.0,92104.0,92125.0,82788.0,76616.0,76411.0,76887.0,71120.0,68666.0,78900.0,84176.0,83280.0,83165.0,86574.0,90413.0,83700.0,81816.0,87245.0,83589.0,72348.0,68821.0,77417.0,79828.0,79099.0,89570.0,89076.0,93364.0,84556.0,84532.0,87084.0,82267.0,81179.0,90757.0,89068.0,89770.0,91339.0,96595.0,100768.0,107140.0,97323.0,94069.0,95556.0,104195.0,89064.0,81436.0,100208.0,103668.0,109658.0,115188.0,131147.0,141878.0,109300.0,113988.0,111994.0,112221.0,110036.0,105386.0,124828.0,124033.0,127697.0,131425.0,137691.0,143298.0,121059.0,119310.0,113885.0,114725.0,109469.0,109740.0,126173.0],\"yaxis\":\"y\",\"type\":\"scattergl\"},{\"hovertemplate\":\"variable=Asiana Airlines<br>Activity Period=%{x|%B, %Y}<br>value=%{y}<extra></extra>\",\"legendgroup\":\"Asiana Airlines\",\"line\":{\"color\":\"#00cc96\",\"dash\":\"solid\"},\"marker\":{\"symbol\":\"circle\"},\"mode\":\"lines\",\"name\":\"Asiana Airlines\",\"showlegend\":true,\"x\":[\"2005-07\",\"2005-08\",\"2005-09\",\"2005-10\",\"2005-11\",\"2005-12\",\"2006-01\",\"2006-02\",\"2006-03\",\"2006-04\",\"2006-05\",\"2006-06\",\"2006-07\",\"2006-08\",\"2006-09\",\"2006-10\",\"2006-11\",\"2006-12\",\"2007-01\",\"2007-02\",\"2007-03\",\"2007-04\",\"2007-05\",\"2007-06\",\"2007-07\",\"2007-08\",\"2007-09\",\"2007-10\",\"2007-11\",\"2007-12\",\"2008-01\",\"2008-02\",\"2008-03\",\"2008-04\",\"2008-05\",\"2008-06\",\"2008-07\",\"2008-08\",\"2008-09\",\"2008-10\",\"2008-11\",\"2008-12\",\"2009-01\",\"2009-02\",\"2009-03\",\"2009-04\",\"2009-05\",\"2009-06\",\"2009-07\",\"2009-08\",\"2009-09\",\"2009-10\",\"2009-11\",\"2009-12\",\"2010-01\",\"2010-02\",\"2010-03\",\"2010-04\",\"2010-05\",\"2010-06\",\"2010-07\",\"2010-08\",\"2010-09\",\"2010-10\",\"2010-11\",\"2010-12\",\"2011-01\",\"2011-02\",\"2011-03\",\"2011-04\",\"2011-05\",\"2011-06\",\"2011-07\",\"2011-08\",\"2011-09\",\"2011-10\",\"2011-11\",\"2011-12\",\"2012-01\",\"2012-02\",\"2012-03\",\"2012-04\",\"2012-05\",\"2012-06\",\"2012-07\",\"2012-08\",\"2012-09\",\"2012-10\",\"2012-11\",\"2012-12\",\"2013-01\",\"2013-02\",\"2013-03\",\"2013-04\",\"2013-05\",\"2013-06\",\"2013-07\",\"2013-08\",\"2013-09\",\"2013-10\",\"2013-11\",\"2013-12\",\"2014-01\",\"2014-02\",\"2014-03\",\"2014-04\",\"2014-05\",\"2014-06\",\"2014-07\",\"2014-08\",\"2014-09\",\"2014-10\",\"2014-11\",\"2014-12\",\"2015-01\",\"2015-02\",\"2015-03\",\"2015-04\",\"2015-05\",\"2015-06\",\"2015-07\",\"2015-08\",\"2015-09\",\"2015-10\",\"2015-11\",\"2015-12\",\"2016-01\",\"2016-02\",\"2016-03\"],\"xaxis\":\"x\",\"y\":[9785.0,7475.0,9932.0,10083.0,9383.0,9788.0,9854.0,8074.0,8878.0,8870.0,8631.0,9188.0,8838.0,9285.0,8381.0,9025.0,8428.0,8918.0,8478.0,7816.0,9871.0,8994.0,9681.0,9667.0,9445.0,10109.0,7670.0,8218.0,8395.0,8163.0,9071.0,8146.0,8822.0,8890.0,9681.0,9553.0,9127.0,10206.0,8288.0,9484.0,8744.0,8980.0,10165.0,8054.0,8067.0,7690.0,9157.0,8994.0,9848.0,9784.0,9266.0,8582.0,8696.0,9538.0,10014.0,8716.0,9098.0,8887.0,9439.0,9989.0,9672.0,9439.0,9562.0,8874.0,8227.0,8590.0,8848.0,7861.0,8732.0,11284.0,12647.0,15469.0,17563.0,16355.0,13460.0,13914.0,12768.0,14384.0,14981.0,11931.0,13140.0,15138.0,16655.0,16881.0,17220.0,17178.0,14829.0,15769.0,15280.0,15699.0,16168.0,13646.0,14694.0,15311.0,16595.0,16443.0,16299.0,15695.0,13782.0,12412.0,11206.0,14145.0,15588.0,12628.0,14065.0,15303.0,16100.0,16121.0,16414.0,16766.0,15204.0,15687.0,14152.0,15244.0,14531.0,13945.0,14905.0,14648.0,16728.0,16499.0,16449.0,16711.0,13927.0,15825.0,14615.0,15492.0,15520.0,14747.0,14105.0],\"yaxis\":\"y\",\"type\":\"scattergl\"},{\"hovertemplate\":\"variable=British Airways<br>Activity Period=%{x|%B, %Y}<br>value=%{y}<extra></extra>\",\"legendgroup\":\"British Airways\",\"line\":{\"color\":\"#ab63fa\",\"dash\":\"solid\"},\"marker\":{\"symbol\":\"circle\"},\"mode\":\"lines\",\"name\":\"British Airways\",\"showlegend\":true,\"x\":[\"2005-07\",\"2005-08\",\"2005-09\",\"2005-10\",\"2005-11\",\"2005-12\",\"2006-01\",\"2006-02\",\"2006-03\",\"2006-04\",\"2006-05\",\"2006-06\",\"2006-07\",\"2006-08\",\"2006-09\",\"2006-10\",\"2006-11\",\"2006-12\",\"2007-01\",\"2007-02\",\"2007-03\",\"2007-04\",\"2007-05\",\"2007-06\",\"2007-07\",\"2007-08\",\"2007-09\",\"2007-10\",\"2007-11\",\"2007-12\",\"2008-01\",\"2008-02\",\"2008-03\",\"2008-04\",\"2008-05\",\"2008-06\",\"2008-07\",\"2008-08\",\"2008-09\",\"2008-10\",\"2008-11\",\"2008-12\",\"2009-01\",\"2009-02\",\"2009-03\",\"2009-04\",\"2009-05\",\"2009-06\",\"2009-07\",\"2009-08\",\"2009-09\",\"2009-10\",\"2009-11\",\"2009-12\",\"2010-01\",\"2010-02\",\"2010-03\",\"2010-04\",\"2010-05\",\"2010-06\",\"2010-07\",\"2010-08\",\"2010-09\",\"2010-10\",\"2010-11\",\"2010-12\",\"2011-01\",\"2011-02\",\"2011-03\",\"2011-04\",\"2011-05\",\"2011-06\",\"2011-07\",\"2011-08\",\"2011-09\",\"2011-10\",\"2011-11\",\"2011-12\",\"2012-01\",\"2012-02\",\"2012-03\",\"2012-04\",\"2012-05\",\"2012-06\",\"2012-07\",\"2012-08\",\"2012-09\",\"2012-10\",\"2012-11\",\"2012-12\",\"2013-01\",\"2013-02\",\"2013-03\",\"2013-04\",\"2013-05\",\"2013-06\",\"2013-07\",\"2013-08\",\"2013-09\",\"2013-10\",\"2013-11\",\"2013-12\",\"2014-01\",\"2014-02\",\"2014-03\",\"2014-04\",\"2014-05\",\"2014-06\",\"2014-07\",\"2014-08\",\"2014-09\",\"2014-10\",\"2014-11\",\"2014-12\",\"2015-01\",\"2015-02\",\"2015-03\",\"2015-04\",\"2015-05\",\"2015-06\",\"2015-07\",\"2015-08\",\"2015-09\",\"2015-10\",\"2015-11\",\"2015-12\",\"2016-01\",\"2016-02\",\"2016-03\"],\"xaxis\":\"x\",\"y\":[42318.0,40396.0,41090.0,38441.0,30818.0,30329.0,31958.0,25866.0,35135.0,40039.0,39227.0,40714.0,41599.0,37833.0,40125.0,39012.0,29616.0,32297.0,32584.0,25468.0,35048.0,39309.0,38235.0,38730.0,40149.0,40542.0,38096.0,38576.0,31049.0,31644.0,30270.0,26122.0,36005.0,33374.0,36605.0,38407.0,39899.0,40000.0,36926.0,37037.0,27724.0,32123.0,29976.0,22097.0,30199.0,33144.0,34653.0,38140.0,40494.0,40367.0,38768.0,38412.0,28547.0,23769.0,23045.0,25881.0,26907.0,27851.0,32325.0,32325.0,38781.0,39175.0,38379.0,37265.0,29385.0,25812.0,30756.0,26047.0,32233.0,35898.0,38024.0,37568.0,38550.0,39027.0,37809.0,38101.0,32944.0,33262.0,33138.0,28731.0,36611.0,35829.0,37746.0,37373.0,37414.0,38893.0,38443.0,38648.0,30730.0,26182.0,33908.0,27863.0,36045.0,37266.0,37417.0,37031.0,37821.0,38206.0,37646.0,37732.0,31588.0,32831.0,33866.0,29848.0,33897.0,35188.0,37648.0,37774.0,37598.0,38587.0,37826.0,36868.0,31710.0,32426.0,32634.0,29760.0,35344.0,39128.0,43460.0,41944.0,43850.0,44812.0,42027.0,44704.0,38699.0,36013.0,38399.0,33703.0,37826.0],\"yaxis\":\"y\",\"type\":\"scattergl\"},{\"hovertemplate\":\"variable=China Airlines<br>Activity Period=%{x|%B, %Y}<br>value=%{y}<extra></extra>\",\"legendgroup\":\"China Airlines\",\"line\":{\"color\":\"#FFA15A\",\"dash\":\"solid\"},\"marker\":{\"symbol\":\"circle\"},\"mode\":\"lines\",\"name\":\"China Airlines\",\"showlegend\":true,\"x\":[\"2005-07\",\"2005-08\",\"2005-09\",\"2005-10\",\"2005-11\",\"2005-12\",\"2006-01\",\"2006-02\",\"2006-03\",\"2006-04\",\"2006-05\",\"2006-06\",\"2006-07\",\"2006-08\",\"2006-09\",\"2006-10\",\"2006-11\",\"2006-12\",\"2007-01\",\"2007-02\",\"2007-03\",\"2007-04\",\"2007-05\",\"2007-06\",\"2007-07\",\"2007-08\",\"2007-09\",\"2007-10\",\"2007-11\",\"2007-12\",\"2008-01\",\"2008-02\",\"2008-03\",\"2008-04\",\"2008-05\",\"2008-06\",\"2008-07\",\"2008-08\",\"2008-09\",\"2008-10\",\"2008-11\",\"2008-12\",\"2009-01\",\"2009-02\",\"2009-03\",\"2009-04\",\"2009-05\",\"2009-06\",\"2009-07\",\"2009-08\",\"2009-09\",\"2009-10\",\"2009-11\",\"2009-12\",\"2010-01\",\"2010-02\",\"2010-03\",\"2010-04\",\"2010-05\",\"2010-06\",\"2010-07\",\"2010-08\",\"2010-09\",\"2010-10\",\"2010-11\",\"2010-12\",\"2011-01\",\"2011-02\",\"2011-03\",\"2011-04\",\"2011-05\",\"2011-06\",\"2011-07\",\"2011-08\",\"2011-09\",\"2011-10\",\"2011-11\",\"2011-12\",\"2012-01\",\"2012-02\",\"2012-03\",\"2012-04\",\"2012-05\",\"2012-06\",\"2012-07\",\"2012-08\",\"2012-09\",\"2012-10\",\"2012-11\",\"2012-12\",\"2013-01\",\"2013-02\",\"2013-03\",\"2013-04\",\"2013-05\",\"2013-06\",\"2013-07\",\"2013-08\",\"2013-09\",\"2013-10\",\"2013-11\",\"2013-12\",\"2014-01\",\"2014-02\",\"2014-03\",\"2014-04\",\"2014-05\",\"2014-06\",\"2014-07\",\"2014-08\",\"2014-09\",\"2014-10\",\"2014-11\",\"2014-12\",\"2015-01\",\"2015-02\",\"2015-03\",\"2015-04\",\"2015-05\",\"2015-06\",\"2015-07\",\"2015-08\",\"2015-09\",\"2015-10\",\"2015-11\",\"2015-12\",\"2016-01\",\"2016-02\",\"2016-03\"],\"xaxis\":\"x\",\"y\":[24893.0,25582.0,18640.0,19173.0,19188.0,21186.0,23253.0,18692.0,21838.0,21288.0,22041.0,22555.0,22606.0,21877.0,17368.0,19970.0,20694.0,22102.0,23371.0,19229.0,22169.0,21212.0,22764.0,23305.0,23134.0,21348.0,17537.0,17429.0,18995.0,20749.0,22768.0,17602.0,22113.0,18666.0,20466.0,22474.0,21479.0,21641.0,14994.0,16496.0,15875.0,17921.0,21848.0,15505.0,20672.0,21128.0,21038.0,20339.0,20979.0,22051.0,17566.0,16566.0,20312.0,21157.0,22602.0,15904.0,20502.0,17900.0,22758.0,21841.0,20985.0,21352.0,17148.0,17130.0,17727.0,20327.0,20318.0,14828.0,18302.0,18704.0,21825.0,19953.0,20241.0,19237.0,15734.0,15712.0,18059.0,19787.0,21189.0,16068.0,17447.0,18121.0,20170.0,21032.0,20809.0,21065.0,16015.0,17194.0,18802.0,19431.0,20583.0,16733.0,17896.0,19767.0,20925.0,21779.0,20511.0,20900.0,15089.0,16506.0,18647.0,20164.0,22126.0,18168.0,20494.0,20450.0,21589.0,21366.0,20605.0,20946.0,15421.0,16584.0,18137.0,18974.0,21465.0,18688.0,21591.0,19981.0,20955.0,20675.0,19203.0,20015.0,15697.0,17311.0,16353.0,18021.0,19993.0,17481.0,19387.0],\"yaxis\":\"y\",\"type\":\"scattergl\"},{\"hovertemplate\":\"variable=EVA Airways<br>Activity Period=%{x|%B, %Y}<br>value=%{y}<extra></extra>\",\"legendgroup\":\"EVA Airways\",\"line\":{\"color\":\"#19d3f3\",\"dash\":\"solid\"},\"marker\":{\"symbol\":\"circle\"},\"mode\":\"lines\",\"name\":\"EVA Airways\",\"showlegend\":true,\"x\":[\"2005-07\",\"2005-08\",\"2005-09\",\"2005-10\",\"2005-11\",\"2005-12\",\"2006-01\",\"2006-02\",\"2006-03\",\"2006-04\",\"2006-05\",\"2006-06\",\"2006-07\",\"2006-08\",\"2006-09\",\"2006-10\",\"2006-11\",\"2006-12\",\"2007-01\",\"2007-02\",\"2007-03\",\"2007-04\",\"2007-05\",\"2007-06\",\"2007-07\",\"2007-08\",\"2007-09\",\"2007-10\",\"2007-11\",\"2007-12\",\"2008-01\",\"2008-02\",\"2008-03\",\"2008-04\",\"2008-05\",\"2008-06\",\"2008-07\",\"2008-08\",\"2008-09\",\"2008-10\",\"2008-11\",\"2008-12\",\"2009-01\",\"2009-02\",\"2009-03\",\"2009-04\",\"2009-05\",\"2009-06\",\"2009-07\",\"2009-08\",\"2009-09\",\"2009-10\",\"2009-11\",\"2009-12\",\"2010-01\",\"2010-02\",\"2010-03\",\"2010-04\",\"2010-05\",\"2010-06\",\"2010-07\",\"2010-08\",\"2010-09\",\"2010-10\",\"2010-11\",\"2010-12\",\"2011-01\",\"2011-02\",\"2011-03\",\"2011-04\",\"2011-05\",\"2011-06\",\"2011-07\",\"2011-08\",\"2011-09\",\"2011-10\",\"2011-11\",\"2011-12\",\"2012-01\",\"2012-02\",\"2012-03\",\"2012-04\",\"2012-05\",\"2012-06\",\"2012-07\",\"2012-08\",\"2012-09\",\"2012-10\",\"2012-11\",\"2012-12\",\"2013-01\",\"2013-02\",\"2013-03\",\"2013-04\",\"2013-05\",\"2013-06\",\"2013-07\",\"2013-08\",\"2013-09\",\"2013-10\",\"2013-11\",\"2013-12\",\"2014-01\",\"2014-02\",\"2014-03\",\"2014-04\",\"2014-05\",\"2014-06\",\"2014-07\",\"2014-08\",\"2014-09\",\"2014-10\",\"2014-11\",\"2014-12\",\"2015-01\",\"2015-02\",\"2015-03\",\"2015-04\",\"2015-05\",\"2015-06\",\"2015-07\",\"2015-08\",\"2015-09\",\"2015-10\",\"2015-11\",\"2015-12\",\"2016-01\",\"2016-02\",\"2016-03\"],\"xaxis\":\"x\",\"y\":[26274.0,25474.0,20683.0,21433.0,22505.0,23368.0,25627.0,22119.0,24031.0,23108.0,23430.0,25937.0,27998.0,26789.0,21375.0,26789.0,23779.0,26506.0,27291.0,23829.0,27501.0,25885.0,26627.0,28627.0,28803.0,28524.0,25008.0,25282.0,26045.0,25505.0,27389.0,23460.0,26456.0,23992.0,24201.0,25809.0,27324.0,28574.0,20553.0,22892.0,22433.0,24572.0,25368.0,19050.0,21342.0,22878.0,22017.0,23351.0,25230.0,28297.0,20576.0,21780.0,25503.0,28016.0,29266.0,22949.0,24593.0,24175.0,28166.0,28612.0,27401.0,27031.0,19536.0,18444.0,19007.0,21655.0,24731.0,18124.0,21301.0,19694.0,24158.0,25983.0,25451.0,27495.0,20503.0,20988.0,23684.0,25163.0,26782.0,21174.0,23137.0,21144.0,25761.0,28821.0,29005.0,28610.0,20766.0,21991.0,25829.0,27240.0,27886.0,22491.0,25653.0,24169.0,26597.0,27979.0,29962.0,29476.0,24612.0,25541.0,26337.0,28999.0,30944.0,25654.0,28067.0,27638.0,30057.0,30655.0,34395.0,34091.0,29223.0,26600.0,30801.0,32555.0,34317.0,29908.0,34366.0,32043.0,35602.0,35103.0,33710.0,34340.0,27450.0,31598.0,32301.0,34886.0,36503.0,31886.0,34040.0],\"yaxis\":\"y\",\"type\":\"scattergl\"},{\"hovertemplate\":\"variable=Korean Air Lines<br>Activity Period=%{x|%B, %Y}<br>value=%{y}<extra></extra>\",\"legendgroup\":\"Korean Air Lines\",\"line\":{\"color\":\"#FF6692\",\"dash\":\"solid\"},\"marker\":{\"symbol\":\"circle\"},\"mode\":\"lines\",\"name\":\"Korean Air Lines\",\"showlegend\":true,\"x\":[\"2005-07\",\"2005-08\",\"2005-09\",\"2005-10\",\"2005-11\",\"2005-12\",\"2006-01\",\"2006-02\",\"2006-03\",\"2006-04\",\"2006-05\",\"2006-06\",\"2006-07\",\"2006-08\",\"2006-09\",\"2006-10\",\"2006-11\",\"2006-12\",\"2007-01\",\"2007-02\",\"2007-03\",\"2007-04\",\"2007-05\",\"2007-06\",\"2007-07\",\"2007-08\",\"2007-09\",\"2007-10\",\"2007-11\",\"2007-12\",\"2008-01\",\"2008-02\",\"2008-03\",\"2008-04\",\"2008-05\",\"2008-06\",\"2008-07\",\"2008-08\",\"2008-09\",\"2008-10\",\"2008-11\",\"2008-12\",\"2009-01\",\"2009-02\",\"2009-03\",\"2009-04\",\"2009-05\",\"2009-06\",\"2009-07\",\"2009-08\",\"2009-09\",\"2009-10\",\"2009-11\",\"2009-12\",\"2010-01\",\"2010-02\",\"2010-03\",\"2010-04\",\"2010-05\",\"2010-06\",\"2010-07\",\"2010-08\",\"2010-09\",\"2010-10\",\"2010-11\",\"2010-12\",\"2011-01\",\"2011-02\",\"2011-03\",\"2011-04\",\"2011-05\",\"2011-06\",\"2011-07\",\"2011-08\",\"2011-09\",\"2011-10\",\"2011-11\",\"2011-12\",\"2012-01\",\"2012-02\",\"2012-03\",\"2012-04\",\"2012-05\",\"2012-06\",\"2012-07\",\"2012-08\",\"2012-09\",\"2012-10\",\"2012-11\",\"2012-12\",\"2013-01\",\"2013-02\",\"2013-03\",\"2013-04\",\"2013-05\",\"2013-06\",\"2013-07\",\"2013-08\",\"2013-09\",\"2013-10\",\"2013-11\",\"2013-12\",\"2014-01\",\"2014-02\",\"2014-03\",\"2014-04\",\"2014-05\",\"2014-06\",\"2014-07\",\"2014-08\",\"2014-09\",\"2014-10\",\"2014-11\",\"2014-12\",\"2015-01\",\"2015-02\",\"2015-03\",\"2015-04\",\"2015-05\",\"2015-06\",\"2015-07\",\"2015-08\",\"2015-09\",\"2015-10\",\"2015-11\",\"2015-12\",\"2016-01\",\"2016-02\",\"2016-03\"],\"xaxis\":\"x\",\"y\":[11799.0,16020.0,7792.0,7927.0,8923.0,9575.0,11082.0,8925.0,8965.0,9881.0,11918.0,13870.0,13255.0,13636.0,8271.0,8346.0,7945.0,8739.0,8739.0,7641.0,8391.0,8118.0,9344.0,8697.0,11836.0,12800.0,8884.0,8173.0,7480.0,7349.0,7995.0,6716.0,7508.0,6925.0,8330.0,8330.0,13206.0,15086.0,8464.0,7682.0,7988.0,11084.0,12910.0,7531.0,7927.0,7280.0,7698.0,8753.0,11354.0,15150.0,8841.0,8460.0,7385.0,8868.0,9298.0,7352.0,8281.0,7544.0,8204.0,12928.0,15026.0,16980.0,12749.0,12094.0,7795.0,8077.0,9208.0,7623.0,8594.0,9103.0,13076.0,11985.0,13833.0,13730.0,11663.0,11301.0,11171.0,12182.0,13713.0,11496.0,10219.0,11875.0,13539.0,13822.0,16395.0,16555.0,13115.0,13219.0,12157.0,12970.0,13388.0,11372.0,12700.0,12379.0,13091.0,13231.0,15464.0,16235.0,12551.0,12884.0,11317.0,12277.0,13228.0,10989.0,10822.0,11879.0,13178.0,13206.0,15438.0,16269.0,13432.0,12907.0,11295.0,12902.0,13482.0,11739.0,10836.0,12901.0,14692.0,13088.0,15160.0,15987.0,12445.0,13979.0,13473.0,18002.0,19461.0,17144.0,15556.0],\"yaxis\":\"y\",\"type\":\"scattergl\"},{\"hovertemplate\":\"variable=Lufthansa German Airlines<br>Activity Period=%{x|%B, %Y}<br>value=%{y}<extra></extra>\",\"legendgroup\":\"Lufthansa German Airlines\",\"line\":{\"color\":\"#B6E880\",\"dash\":\"solid\"},\"marker\":{\"symbol\":\"circle\"},\"mode\":\"lines\",\"name\":\"Lufthansa German Airlines\",\"showlegend\":true,\"x\":[\"2005-07\",\"2005-08\",\"2005-09\",\"2005-10\",\"2005-11\",\"2005-12\",\"2006-01\",\"2006-02\",\"2006-03\",\"2006-04\",\"2006-05\",\"2006-06\",\"2006-07\",\"2006-08\",\"2006-09\",\"2006-10\",\"2006-11\",\"2006-12\",\"2007-01\",\"2007-02\",\"2007-03\",\"2007-04\",\"2007-05\",\"2007-06\",\"2007-07\",\"2007-08\",\"2007-09\",\"2007-10\",\"2007-11\",\"2007-12\",\"2008-01\",\"2008-02\",\"2008-03\",\"2008-04\",\"2008-05\",\"2008-06\",\"2008-07\",\"2008-08\",\"2008-09\",\"2008-10\",\"2008-11\",\"2008-12\",\"2009-01\",\"2009-02\",\"2009-03\",\"2009-04\",\"2009-05\",\"2009-06\",\"2009-07\",\"2009-08\",\"2009-09\",\"2009-10\",\"2009-11\",\"2009-12\",\"2010-01\",\"2010-02\",\"2010-03\",\"2010-04\",\"2010-05\",\"2010-06\",\"2010-07\",\"2010-08\",\"2010-09\",\"2010-10\",\"2010-11\",\"2010-12\",\"2011-01\",\"2011-02\",\"2011-03\",\"2011-04\",\"2011-05\",\"2011-06\",\"2011-07\",\"2011-08\",\"2011-09\",\"2011-10\",\"2011-11\",\"2011-12\",\"2012-01\",\"2012-02\",\"2012-03\",\"2012-04\",\"2012-05\",\"2012-06\",\"2012-07\",\"2012-08\",\"2012-09\",\"2012-10\",\"2012-11\",\"2012-12\",\"2013-01\",\"2013-02\",\"2013-03\",\"2013-04\",\"2013-05\",\"2013-06\",\"2013-07\",\"2013-08\",\"2013-09\",\"2013-10\",\"2013-11\",\"2013-12\",\"2014-01\",\"2014-02\",\"2014-03\",\"2014-04\",\"2014-05\",\"2014-06\",\"2014-07\",\"2014-08\",\"2014-09\",\"2014-10\",\"2014-11\",\"2014-12\",\"2015-01\",\"2015-02\",\"2015-03\",\"2015-04\",\"2015-05\",\"2015-06\",\"2015-07\",\"2015-08\",\"2015-09\",\"2015-10\",\"2015-11\",\"2015-12\",\"2016-01\",\"2016-02\",\"2016-03\"],\"xaxis\":\"x\",\"y\":[42900.0,43393.0,41914.0,40318.0,30530.0,29645.0,30302.0,25391.0,32674.0,39890.0,41531.0,41444.0,43282.0,42989.0,40927.0,41120.0,36638.0,37818.0,37826.0,33310.0,39086.0,36148.0,37422.0,36130.0,37794.0,36735.0,35952.0,36856.0,34346.0,32521.0,34310.0,30956.0,35555.0,34224.0,35404.0,36370.0,37685.0,36085.0,35829.0,36060.0,32497.0,32279.0,33632.0,27745.0,34285.0,33628.0,34585.0,36217.0,39373.0,39714.0,36944.0,38024.0,32811.0,33754.0,33680.0,23477.0,34337.0,28256.0,35589.0,36637.0,38407.0,37646.0,36379.0,37002.0,33182.0,32722.0,35134.0,28818.0,34338.0,33538.0,43852.0,47521.0,49682.0,49526.0,46126.0,42951.0,32868.0,30734.0,33364.0,27189.0,37719.0,43452.0,46780.0,47393.0,50334.0,49082.0,45153.0,47182.0,40758.0,34208.0,35132.0,28283.0,37973.0,44169.0,47362.0,48658.0,50034.0,50120.0,46589.0,45816.0,33450.0,32264.0,34569.0,28542.0,36611.0,34105.0,46186.0,48796.0,50079.0,49842.0,47724.0,46332.0,43367.0,38590.0,41254.0,35669.0,45301.0,43626.0,45657.0,45773.0,47806.0,47301.0,44679.0,46538.0,33672.0,38846.0,40844.0,34849.0,43685.0],\"yaxis\":\"y\",\"type\":\"scattergl\"},{\"hovertemplate\":\"variable=Turkish Airlines<br>Activity Period=%{x|%B, %Y}<br>value=%{y}<extra></extra>\",\"legendgroup\":\"Turkish Airlines\",\"line\":{\"color\":\"#FF97FF\",\"dash\":\"solid\"},\"marker\":{\"symbol\":\"circle\"},\"mode\":\"lines\",\"name\":\"Turkish Airlines\",\"showlegend\":true,\"x\":[\"2005-07\",\"2005-08\",\"2005-09\",\"2005-10\",\"2005-11\",\"2005-12\",\"2006-01\",\"2006-02\",\"2006-03\",\"2006-04\",\"2006-05\",\"2006-06\",\"2006-07\",\"2006-08\",\"2006-09\",\"2006-10\",\"2006-11\",\"2006-12\",\"2007-01\",\"2007-02\",\"2007-03\",\"2007-04\",\"2007-05\",\"2007-06\",\"2007-07\",\"2007-08\",\"2007-09\",\"2007-10\",\"2007-11\",\"2007-12\",\"2008-01\",\"2008-02\",\"2008-03\",\"2008-04\",\"2008-05\",\"2008-06\",\"2008-07\",\"2008-08\",\"2008-09\",\"2008-10\",\"2008-11\",\"2008-12\",\"2009-01\",\"2009-02\",\"2009-03\",\"2009-04\",\"2009-05\",\"2009-06\",\"2009-07\",\"2009-08\",\"2009-09\",\"2009-10\",\"2009-11\",\"2009-12\",\"2010-01\",\"2010-02\",\"2010-03\",\"2010-04\",\"2010-05\",\"2010-06\",\"2010-07\",\"2010-08\",\"2010-09\",\"2010-10\",\"2010-11\",\"2010-12\",\"2011-01\",\"2011-02\",\"2011-03\",\"2011-04\",\"2011-05\",\"2011-06\",\"2011-07\",\"2011-08\",\"2011-09\",\"2011-10\",\"2011-11\",\"2011-12\",\"2012-01\",\"2012-02\",\"2012-03\",\"2012-04\",\"2012-05\",\"2012-06\",\"2012-07\",\"2012-08\",\"2012-09\",\"2012-10\",\"2012-11\",\"2012-12\",\"2013-01\",\"2013-02\",\"2013-03\",\"2013-04\",\"2013-05\",\"2013-06\",\"2013-07\",\"2013-08\",\"2013-09\",\"2013-10\",\"2013-11\",\"2013-12\",\"2014-01\",\"2014-02\",\"2014-03\",\"2014-04\",\"2014-05\",\"2014-06\",\"2014-07\",\"2014-08\",\"2014-09\",\"2014-10\",\"2014-11\",\"2014-12\",\"2015-01\",\"2015-02\",\"2015-03\",\"2015-04\",\"2015-05\",\"2015-06\",\"2015-07\",\"2015-08\",\"2015-09\",\"2015-10\",\"2015-11\",\"2015-12\",\"2016-01\",\"2016-02\",\"2016-03\"],\"xaxis\":\"x\",\"y\":[null,null,null,null,null,null,null,null,null,null,null,null,null,null,null,null,null,null,null,null,null,null,null,null,null,null,null,null,null,null,null,null,null,null,null,null,null,null,null,null,null,null,null,null,null,null,null,null,null,null,null,null,null,null,null,null,null,null,null,null,null,null,null,null,null,null,null,null,null,null,null,null,null,null,null,null,null,null,null,null,null,null,null,null,null,null,null,null,null,null,null,null,null,null,null,null,null,null,null,null,null,null,null,null,null,null,null,null,null,null,null,null,null,null,null,null,null,7497.0,15670.0,17475.0,17850.0,17806.0,16723.0,17865.0,17549.0,16870.0,17199.0,15800.0,17594.0],\"yaxis\":\"y\",\"type\":\"scattergl\"},{\"hovertemplate\":\"variable=Virgin Atlantic<br>Activity Period=%{x|%B, %Y}<br>value=%{y}<extra></extra>\",\"legendgroup\":\"Virgin Atlantic\",\"line\":{\"color\":\"#FECB52\",\"dash\":\"solid\"},\"marker\":{\"symbol\":\"circle\"},\"mode\":\"lines\",\"name\":\"Virgin Atlantic\",\"showlegend\":true,\"x\":[\"2005-07\",\"2005-08\",\"2005-09\",\"2005-10\",\"2005-11\",\"2005-12\",\"2006-01\",\"2006-02\",\"2006-03\",\"2006-04\",\"2006-05\",\"2006-06\",\"2006-07\",\"2006-08\",\"2006-09\",\"2006-10\",\"2006-11\",\"2006-12\",\"2007-01\",\"2007-02\",\"2007-03\",\"2007-04\",\"2007-05\",\"2007-06\",\"2007-07\",\"2007-08\",\"2007-09\",\"2007-10\",\"2007-11\",\"2007-12\",\"2008-01\",\"2008-02\",\"2008-03\",\"2008-04\",\"2008-05\",\"2008-06\",\"2008-07\",\"2008-08\",\"2008-09\",\"2008-10\",\"2008-11\",\"2008-12\",\"2009-01\",\"2009-02\",\"2009-03\",\"2009-04\",\"2009-05\",\"2009-06\",\"2009-07\",\"2009-08\",\"2009-09\",\"2009-10\",\"2009-11\",\"2009-12\",\"2010-01\",\"2010-02\",\"2010-03\",\"2010-04\",\"2010-05\",\"2010-06\",\"2010-07\",\"2010-08\",\"2010-09\",\"2010-10\",\"2010-11\",\"2010-12\",\"2011-01\",\"2011-02\",\"2011-03\",\"2011-04\",\"2011-05\",\"2011-06\",\"2011-07\",\"2011-08\",\"2011-09\",\"2011-10\",\"2011-11\",\"2011-12\",\"2012-01\",\"2012-02\",\"2012-03\",\"2012-04\",\"2012-05\",\"2012-06\",\"2012-07\",\"2012-08\",\"2012-09\",\"2012-10\",\"2012-11\",\"2012-12\",\"2013-01\",\"2013-02\",\"2013-03\",\"2013-04\",\"2013-05\",\"2013-06\",\"2013-07\",\"2013-08\",\"2013-09\",\"2013-10\",\"2013-11\",\"2013-12\",\"2014-01\",\"2014-02\",\"2014-03\",\"2014-04\",\"2014-05\",\"2014-06\",\"2014-07\",\"2014-08\",\"2014-09\",\"2014-10\",\"2014-11\",\"2014-12\",\"2015-01\",\"2015-02\",\"2015-03\",\"2015-04\",\"2015-05\",\"2015-06\",\"2015-07\",\"2015-08\",\"2015-09\",\"2015-10\",\"2015-11\",\"2015-12\",\"2016-01\",\"2016-02\",\"2016-03\"],\"xaxis\":\"x\",\"y\":[22455.0,21757.0,22707.0,19355.0,16195.0,16977.0,17963.0,14392.0,18530.0,21132.0,20451.0,21967.0,22510.0,21757.0,21611.0,19681.0,15840.0,18001.0,18989.0,15596.0,19632.0,20841.0,19623.0,21431.0,22209.0,21698.0,22283.0,19091.0,15617.0,17376.0,16075.0,14253.0,17977.0,18745.0,18723.0,19408.0,19725.0,20205.0,19954.0,19137.0,14029.0,17434.0,15675.0,12547.0,15671.0,18547.0,19056.0,19979.0,20517.0,20478.0,20126.0,19765.0,14702.0,15452.0,15351.0,13591.0,17158.0,15582.0,20273.0,21388.0,21197.0,21916.0,21228.0,20690.0,14802.0,13180.0,13989.0,11950.0,16123.0,17886.0,20621.0,19772.0,20006.0,21077.0,21405.0,20514.0,15247.0,16922.0,15383.0,12338.0,18154.0,20548.0,25624.0,26852.0,26325.0,27656.0,27755.0,24451.0,17373.0,16682.0,16922.0,13343.0,18771.0,19425.0,21277.0,21587.0,21502.0,21942.0,21548.0,21898.0,17958.0,19640.0,18848.0,14574.0,18852.0,20410.0,21791.0,21547.0,21499.0,21894.0,21632.0,20778.0,17112.0,18596.0,17352.0,14388.0,19973.0,24352.0,27387.0,31853.0,32081.0,33042.0,30989.0,28010.0,19159.0,21571.0,20948.0,16035.0,23211.0],\"yaxis\":\"y\",\"type\":\"scattergl\"},{\"hovertemplate\":\"variable=WestJet Airlines<br>Activity Period=%{x|%B, %Y}<br>value=%{y}<extra></extra>\",\"legendgroup\":\"WestJet Airlines\",\"line\":{\"color\":\"#636efa\",\"dash\":\"solid\"},\"marker\":{\"symbol\":\"circle\"},\"mode\":\"lines\",\"name\":\"WestJet Airlines\",\"showlegend\":true,\"x\":[\"2005-07\",\"2005-08\",\"2005-09\",\"2005-10\",\"2005-11\",\"2005-12\",\"2006-01\",\"2006-02\",\"2006-03\",\"2006-04\",\"2006-05\",\"2006-06\",\"2006-07\",\"2006-08\",\"2006-09\",\"2006-10\",\"2006-11\",\"2006-12\",\"2007-01\",\"2007-02\",\"2007-03\",\"2007-04\",\"2007-05\",\"2007-06\",\"2007-07\",\"2007-08\",\"2007-09\",\"2007-10\",\"2007-11\",\"2007-12\",\"2008-01\",\"2008-02\",\"2008-03\",\"2008-04\",\"2008-05\",\"2008-06\",\"2008-07\",\"2008-08\",\"2008-09\",\"2008-10\",\"2008-11\",\"2008-12\",\"2009-01\",\"2009-02\",\"2009-03\",\"2009-04\",\"2009-05\",\"2009-06\",\"2009-07\",\"2009-08\",\"2009-09\",\"2009-10\",\"2009-11\",\"2009-12\",\"2010-01\",\"2010-02\",\"2010-03\",\"2010-04\",\"2010-05\",\"2010-06\",\"2010-07\",\"2010-08\",\"2010-09\",\"2010-10\",\"2010-11\",\"2010-12\",\"2011-01\",\"2011-02\",\"2011-03\",\"2011-04\",\"2011-05\",\"2011-06\",\"2011-07\",\"2011-08\",\"2011-09\",\"2011-10\",\"2011-11\",\"2011-12\",\"2012-01\",\"2012-02\",\"2012-03\",\"2012-04\",\"2012-05\",\"2012-06\",\"2012-07\",\"2012-08\",\"2012-09\",\"2012-10\",\"2012-11\",\"2012-12\",\"2013-01\",\"2013-02\",\"2013-03\",\"2013-04\",\"2013-05\",\"2013-06\",\"2013-07\",\"2013-08\",\"2013-09\",\"2013-10\",\"2013-11\",\"2013-12\",\"2014-01\",\"2014-02\",\"2014-03\",\"2014-04\",\"2014-05\",\"2014-06\",\"2014-07\",\"2014-08\",\"2014-09\",\"2014-10\",\"2014-11\",\"2014-12\",\"2015-01\",\"2015-02\",\"2015-03\",\"2015-04\",\"2015-05\",\"2015-06\",\"2015-07\",\"2015-08\",\"2015-09\",\"2015-10\",\"2015-11\",\"2015-12\",\"2016-01\",\"2016-02\",\"2016-03\"],\"xaxis\":\"x\",\"y\":[4691.0,4551.0,4047.0,2784.0,2551.0,2365.0,1029.0,null,null,null,null,null,null,null,null,null,null,null,null,null,null,null,null,null,null,null,null,null,null,null,null,null,null,null,null,null,null,null,null,null,null,null,null,null,null,null,null,3319.0,3210.0,3231.0,2870.0,2782.0,null,null,null,null,null,null,8499.0,9536.0,16356.0,17482.0,13645.0,11544.0,null,null,null,null,null,null,14084.0,14674.0,15719.0,15863.0,13781.0,12029.0,null,null,null,2.0,null,736.0,14300.0,15405.0,16470.0,16032.0,13678.0,13385.0,null,null,null,null,null,1157.0,13876.0,14656.0,15364.0,15886.0,13390.0,11522.0,null,null,null,null,null,1808.0,14248.0,13805.0,16965.0,17120.0,13670.0,10354.0,null,null,null,null,null,null,13545.0,15856.0,16948.0,16903.0,14950.0,7157.0,null,null,null,null,null],\"yaxis\":\"y\",\"type\":\"scattergl\"}],                        {\"template\":{\"data\":{\"histogram2dcontour\":[{\"type\":\"histogram2dcontour\",\"colorbar\":{\"outlinewidth\":0,\"ticks\":\"\"},\"colorscale\":[[0.0,\"#0d0887\"],[0.1111111111111111,\"#46039f\"],[0.2222222222222222,\"#7201a8\"],[0.3333333333333333,\"#9c179e\"],[0.4444444444444444,\"#bd3786\"],[0.5555555555555556,\"#d8576b\"],[0.6666666666666666,\"#ed7953\"],[0.7777777777777778,\"#fb9f3a\"],[0.8888888888888888,\"#fdca26\"],[1.0,\"#f0f921\"]]}],\"choropleth\":[{\"type\":\"choropleth\",\"colorbar\":{\"outlinewidth\":0,\"ticks\":\"\"}}],\"histogram2d\":[{\"type\":\"histogram2d\",\"colorbar\":{\"outlinewidth\":0,\"ticks\":\"\"},\"colorscale\":[[0.0,\"#0d0887\"],[0.1111111111111111,\"#46039f\"],[0.2222222222222222,\"#7201a8\"],[0.3333333333333333,\"#9c179e\"],[0.4444444444444444,\"#bd3786\"],[0.5555555555555556,\"#d8576b\"],[0.6666666666666666,\"#ed7953\"],[0.7777777777777778,\"#fb9f3a\"],[0.8888888888888888,\"#fdca26\"],[1.0,\"#f0f921\"]]}],\"heatmap\":[{\"type\":\"heatmap\",\"colorbar\":{\"outlinewidth\":0,\"ticks\":\"\"},\"colorscale\":[[0.0,\"#0d0887\"],[0.1111111111111111,\"#46039f\"],[0.2222222222222222,\"#7201a8\"],[0.3333333333333333,\"#9c179e\"],[0.4444444444444444,\"#bd3786\"],[0.5555555555555556,\"#d8576b\"],[0.6666666666666666,\"#ed7953\"],[0.7777777777777778,\"#fb9f3a\"],[0.8888888888888888,\"#fdca26\"],[1.0,\"#f0f921\"]]}],\"heatmapgl\":[{\"type\":\"heatmapgl\",\"colorbar\":{\"outlinewidth\":0,\"ticks\":\"\"},\"colorscale\":[[0.0,\"#0d0887\"],[0.1111111111111111,\"#46039f\"],[0.2222222222222222,\"#7201a8\"],[0.3333333333333333,\"#9c179e\"],[0.4444444444444444,\"#bd3786\"],[0.5555555555555556,\"#d8576b\"],[0.6666666666666666,\"#ed7953\"],[0.7777777777777778,\"#fb9f3a\"],[0.8888888888888888,\"#fdca26\"],[1.0,\"#f0f921\"]]}],\"contourcarpet\":[{\"type\":\"contourcarpet\",\"colorbar\":{\"outlinewidth\":0,\"ticks\":\"\"}}],\"contour\":[{\"type\":\"contour\",\"colorbar\":{\"outlinewidth\":0,\"ticks\":\"\"},\"colorscale\":[[0.0,\"#0d0887\"],[0.1111111111111111,\"#46039f\"],[0.2222222222222222,\"#7201a8\"],[0.3333333333333333,\"#9c179e\"],[0.4444444444444444,\"#bd3786\"],[0.5555555555555556,\"#d8576b\"],[0.6666666666666666,\"#ed7953\"],[0.7777777777777778,\"#fb9f3a\"],[0.8888888888888888,\"#fdca26\"],[1.0,\"#f0f921\"]]}],\"surface\":[{\"type\":\"surface\",\"colorbar\":{\"outlinewidth\":0,\"ticks\":\"\"},\"colorscale\":[[0.0,\"#0d0887\"],[0.1111111111111111,\"#46039f\"],[0.2222222222222222,\"#7201a8\"],[0.3333333333333333,\"#9c179e\"],[0.4444444444444444,\"#bd3786\"],[0.5555555555555556,\"#d8576b\"],[0.6666666666666666,\"#ed7953\"],[0.7777777777777778,\"#fb9f3a\"],[0.8888888888888888,\"#fdca26\"],[1.0,\"#f0f921\"]]}],\"mesh3d\":[{\"type\":\"mesh3d\",\"colorbar\":{\"outlinewidth\":0,\"ticks\":\"\"}}],\"scatter\":[{\"fillpattern\":{\"fillmode\":\"overlay\",\"size\":10,\"solidity\":0.2},\"type\":\"scatter\"}],\"parcoords\":[{\"type\":\"parcoords\",\"line\":{\"colorbar\":{\"outlinewidth\":0,\"ticks\":\"\"}}}],\"scatterpolargl\":[{\"type\":\"scatterpolargl\",\"marker\":{\"colorbar\":{\"outlinewidth\":0,\"ticks\":\"\"}}}],\"bar\":[{\"error_x\":{\"color\":\"#2a3f5f\"},\"error_y\":{\"color\":\"#2a3f5f\"},\"marker\":{\"line\":{\"color\":\"#E5ECF6\",\"width\":0.5},\"pattern\":{\"fillmode\":\"overlay\",\"size\":10,\"solidity\":0.2}},\"type\":\"bar\"}],\"scattergeo\":[{\"type\":\"scattergeo\",\"marker\":{\"colorbar\":{\"outlinewidth\":0,\"ticks\":\"\"}}}],\"scatterpolar\":[{\"type\":\"scatterpolar\",\"marker\":{\"colorbar\":{\"outlinewidth\":0,\"ticks\":\"\"}}}],\"histogram\":[{\"marker\":{\"pattern\":{\"fillmode\":\"overlay\",\"size\":10,\"solidity\":0.2}},\"type\":\"histogram\"}],\"scattergl\":[{\"type\":\"scattergl\",\"marker\":{\"colorbar\":{\"outlinewidth\":0,\"ticks\":\"\"}}}],\"scatter3d\":[{\"type\":\"scatter3d\",\"line\":{\"colorbar\":{\"outlinewidth\":0,\"ticks\":\"\"}},\"marker\":{\"colorbar\":{\"outlinewidth\":0,\"ticks\":\"\"}}}],\"scattermapbox\":[{\"type\":\"scattermapbox\",\"marker\":{\"colorbar\":{\"outlinewidth\":0,\"ticks\":\"\"}}}],\"scatterternary\":[{\"type\":\"scatterternary\",\"marker\":{\"colorbar\":{\"outlinewidth\":0,\"ticks\":\"\"}}}],\"scattercarpet\":[{\"type\":\"scattercarpet\",\"marker\":{\"colorbar\":{\"outlinewidth\":0,\"ticks\":\"\"}}}],\"carpet\":[{\"aaxis\":{\"endlinecolor\":\"#2a3f5f\",\"gridcolor\":\"white\",\"linecolor\":\"white\",\"minorgridcolor\":\"white\",\"startlinecolor\":\"#2a3f5f\"},\"baxis\":{\"endlinecolor\":\"#2a3f5f\",\"gridcolor\":\"white\",\"linecolor\":\"white\",\"minorgridcolor\":\"white\",\"startlinecolor\":\"#2a3f5f\"},\"type\":\"carpet\"}],\"table\":[{\"cells\":{\"fill\":{\"color\":\"#EBF0F8\"},\"line\":{\"color\":\"white\"}},\"header\":{\"fill\":{\"color\":\"#C8D4E3\"},\"line\":{\"color\":\"white\"}},\"type\":\"table\"}],\"barpolar\":[{\"marker\":{\"line\":{\"color\":\"#E5ECF6\",\"width\":0.5},\"pattern\":{\"fillmode\":\"overlay\",\"size\":10,\"solidity\":0.2}},\"type\":\"barpolar\"}],\"pie\":[{\"automargin\":true,\"type\":\"pie\"}]},\"layout\":{\"autotypenumbers\":\"strict\",\"colorway\":[\"#636efa\",\"#EF553B\",\"#00cc96\",\"#ab63fa\",\"#FFA15A\",\"#19d3f3\",\"#FF6692\",\"#B6E880\",\"#FF97FF\",\"#FECB52\"],\"font\":{\"color\":\"#2a3f5f\"},\"hovermode\":\"closest\",\"hoverlabel\":{\"align\":\"left\"},\"paper_bgcolor\":\"white\",\"plot_bgcolor\":\"#E5ECF6\",\"polar\":{\"bgcolor\":\"#E5ECF6\",\"angularaxis\":{\"gridcolor\":\"white\",\"linecolor\":\"white\",\"ticks\":\"\"},\"radialaxis\":{\"gridcolor\":\"white\",\"linecolor\":\"white\",\"ticks\":\"\"}},\"ternary\":{\"bgcolor\":\"#E5ECF6\",\"aaxis\":{\"gridcolor\":\"white\",\"linecolor\":\"white\",\"ticks\":\"\"},\"baxis\":{\"gridcolor\":\"white\",\"linecolor\":\"white\",\"ticks\":\"\"},\"caxis\":{\"gridcolor\":\"white\",\"linecolor\":\"white\",\"ticks\":\"\"}},\"coloraxis\":{\"colorbar\":{\"outlinewidth\":0,\"ticks\":\"\"}},\"colorscale\":{\"sequential\":[[0.0,\"#0d0887\"],[0.1111111111111111,\"#46039f\"],[0.2222222222222222,\"#7201a8\"],[0.3333333333333333,\"#9c179e\"],[0.4444444444444444,\"#bd3786\"],[0.5555555555555556,\"#d8576b\"],[0.6666666666666666,\"#ed7953\"],[0.7777777777777778,\"#fb9f3a\"],[0.8888888888888888,\"#fdca26\"],[1.0,\"#f0f921\"]],\"sequentialminus\":[[0.0,\"#0d0887\"],[0.1111111111111111,\"#46039f\"],[0.2222222222222222,\"#7201a8\"],[0.3333333333333333,\"#9c179e\"],[0.4444444444444444,\"#bd3786\"],[0.5555555555555556,\"#d8576b\"],[0.6666666666666666,\"#ed7953\"],[0.7777777777777778,\"#fb9f3a\"],[0.8888888888888888,\"#fdca26\"],[1.0,\"#f0f921\"]],\"diverging\":[[0,\"#8e0152\"],[0.1,\"#c51b7d\"],[0.2,\"#de77ae\"],[0.3,\"#f1b6da\"],[0.4,\"#fde0ef\"],[0.5,\"#f7f7f7\"],[0.6,\"#e6f5d0\"],[0.7,\"#b8e186\"],[0.8,\"#7fbc41\"],[0.9,\"#4d9221\"],[1,\"#276419\"]]},\"xaxis\":{\"gridcolor\":\"white\",\"linecolor\":\"white\",\"ticks\":\"\",\"title\":{\"standoff\":15},\"zerolinecolor\":\"white\",\"automargin\":true,\"zerolinewidth\":2},\"yaxis\":{\"gridcolor\":\"white\",\"linecolor\":\"white\",\"ticks\":\"\",\"title\":{\"standoff\":15},\"zerolinecolor\":\"white\",\"automargin\":true,\"zerolinewidth\":2},\"scene\":{\"xaxis\":{\"backgroundcolor\":\"#E5ECF6\",\"gridcolor\":\"white\",\"linecolor\":\"white\",\"showbackground\":true,\"ticks\":\"\",\"zerolinecolor\":\"white\",\"gridwidth\":2},\"yaxis\":{\"backgroundcolor\":\"#E5ECF6\",\"gridcolor\":\"white\",\"linecolor\":\"white\",\"showbackground\":true,\"ticks\":\"\",\"zerolinecolor\":\"white\",\"gridwidth\":2},\"zaxis\":{\"backgroundcolor\":\"#E5ECF6\",\"gridcolor\":\"white\",\"linecolor\":\"white\",\"showbackground\":true,\"ticks\":\"\",\"zerolinecolor\":\"white\",\"gridwidth\":2}},\"shapedefaults\":{\"line\":{\"color\":\"#2a3f5f\"}},\"annotationdefaults\":{\"arrowcolor\":\"#2a3f5f\",\"arrowhead\":0,\"arrowwidth\":1},\"geo\":{\"bgcolor\":\"white\",\"landcolor\":\"#E5ECF6\",\"subunitcolor\":\"white\",\"showland\":true,\"showlakes\":true,\"lakecolor\":\"white\"},\"title\":{\"x\":0.05},\"mapbox\":{\"style\":\"light\"}}},\"xaxis\":{\"anchor\":\"y\",\"domain\":[0.0,1.0],\"title\":{\"text\":\"Activity Period\"},\"dtick\":\"M4\",\"tickformat\":\"%B %Y\"},\"yaxis\":{\"anchor\":\"x\",\"domain\":[0.0,1.0],\"title\":{\"text\":\"value\"}},\"legend\":{\"title\":{\"text\":\"variable\"},\"tracegroupgap\":0},\"title\":{\"text\":\"Airline traffic in US\"}},                        {\"responsive\": true}                    ).then(function(){\n",
       "                            \n",
       "var gd = document.getElementById('dbadac5c-1196-42a3-90c0-8b09c494eabb');\n",
       "var x = new MutationObserver(function (mutations, observer) {{\n",
       "        var display = window.getComputedStyle(gd).display;\n",
       "        if (!display || display === 'none') {{\n",
       "            console.log([gd, 'removed!']);\n",
       "            Plotly.purge(gd);\n",
       "            observer.disconnect();\n",
       "        }}\n",
       "}});\n",
       "\n",
       "// Listen for the removal of the full notebook cells\n",
       "var notebookContainer = gd.closest('#notebook-container');\n",
       "if (notebookContainer) {{\n",
       "    x.observe(notebookContainer, {childList: true});\n",
       "}}\n",
       "\n",
       "// Listen for the clearing of the current output cell\n",
       "var outputEl = gd.closest('.output');\n",
       "if (outputEl) {{\n",
       "    x.observe(outputEl, {childList: true});\n",
       "}}\n",
       "\n",
       "                        })                };                });            </script>        </div>"
      ]
     },
     "metadata": {},
     "output_type": "display_data"
    }
   ],
   "source": [
    "fig = px.line(df_converted, x=\"Activity Period\", y=df_converted.columns,\n",
    "              hover_data={\"Activity Period\": \"|%B, %Y\"},\n",
    "              title='Airline traffic in US')\n",
    "fig.update_xaxes(\n",
    "    dtick=\"M4\",\n",
    "    tickformat=\"%B %Y\")\n",
    "fig.show()"
   ]
  },
  {
   "cell_type": "code",
   "execution_count": 13,
   "id": "3fd20442",
   "metadata": {},
   "outputs": [],
   "source": [
    "# !pip install missingno"
   ]
  },
  {
   "cell_type": "code",
   "execution_count": 76,
   "id": "ee9cef78",
   "metadata": {},
   "outputs": [],
   "source": [
    "import missingno as msno"
   ]
  },
  {
   "cell_type": "code",
   "execution_count": 77,
   "id": "b4126da1",
   "metadata": {},
   "outputs": [
    {
     "name": "stdout",
     "output_type": "stream",
     "text": [
      "<class 'pandas.core.frame.DataFrame'>\n",
      "RangeIndex: 129 entries, 0 to 128\n",
      "Data columns (total 12 columns):\n",
      " #   Column                     Non-Null Count  Dtype  \n",
      "---  ------                     --------------  -----  \n",
      " 0   Activity Period            129 non-null    object \n",
      " 1   Air France                 129 non-null    float64\n",
      " 2   Alaska Airlines            129 non-null    float64\n",
      " 3   Asiana Airlines            129 non-null    float64\n",
      " 4   British Airways            129 non-null    float64\n",
      " 5   China Airlines             129 non-null    float64\n",
      " 6   EVA Airways                129 non-null    float64\n",
      " 7   Korean Air Lines           129 non-null    float64\n",
      " 8   Lufthansa German Airlines  129 non-null    float64\n",
      " 9   Turkish Airlines           12 non-null     float64\n",
      " 10  Virgin Atlantic            129 non-null    float64\n",
      " 11  WestJet Airlines           52 non-null     float64\n",
      "dtypes: float64(11), object(1)\n",
      "memory usage: 12.2+ KB\n"
     ]
    }
   ],
   "source": [
    "df_converted.info()"
   ]
  },
  {
   "cell_type": "code",
   "execution_count": 78,
   "id": "74a5a614",
   "metadata": {},
   "outputs": [
    {
     "data": {
      "text/plain": [
       "Activity Period                0\n",
       "Air France                     0\n",
       "Alaska Airlines                0\n",
       "Asiana Airlines                0\n",
       "British Airways                0\n",
       "China Airlines                 0\n",
       "EVA Airways                    0\n",
       "Korean Air Lines               0\n",
       "Lufthansa German Airlines      0\n",
       "Turkish Airlines             117\n",
       "Virgin Atlantic                0\n",
       "WestJet Airlines              77\n",
       "dtype: int64"
      ]
     },
     "execution_count": 78,
     "metadata": {},
     "output_type": "execute_result"
    }
   ],
   "source": [
    "df_converted.isna().sum()"
   ]
  },
  {
   "cell_type": "code",
   "execution_count": 79,
   "id": "deee6a77",
   "metadata": {},
   "outputs": [
    {
     "data": {
      "image/png": "[encoded data removed]",
      "text/plain": [
       "<Figure size 2400x1000 with 3 Axes>"
      ]
     },
     "metadata": {},
     "output_type": "display_data"
    }
   ],
   "source": [
    "import matplotlib.pyplot as plt\n",
    "msno.bar(df_converted)\n",
    "plt.title('Data completeness')\n",
    "\n",
    "# show the plot\n",
    "plt.show()"
   ]
  },
  {
   "cell_type": "code",
   "execution_count": 80,
   "id": "19973968",
   "metadata": {},
   "outputs": [],
   "source": [
    "\n",
    "df = pd.DataFrame([])\n",
    "\n",
    "def add_airline(name_of_airline, df_converted, df):\n",
    "    True_values = []# Places in columns where values are not NaN\n",
    "    for row in df_converted[name_of_airline].isna():\n",
    "        True_values.append(not(row))\n",
    "\n",
    "    starts = []\n",
    "    ends = []\n",
    "    run_start = None\n",
    "\n",
    "    for i in range(len(True_values)):\n",
    "        if True_values[i] and run_start is None:\n",
    "            # Start of a new run of True values\n",
    "            run_start = i\n",
    "        elif not True_values[i] and run_start is not None:\n",
    "            # End of a run of True values\n",
    "            starts.append(run_start)\n",
    "            ends.append(i - 1)\n",
    "            run_start = None\n",
    "\n",
    "    # If the last run of True values extends to the end of the list, add it now\n",
    "    if run_start is not None:\n",
    "        starts.append(run_start)\n",
    "        ends.append(len(True_values) - 1)\n",
    "\n",
    "\n",
    "    start_values = [] # List with correct start dates\n",
    "    \n",
    "    for x in starts:\n",
    "        start_values.append(df_converted.iloc[x, df_converted.columns.get_loc(\"Activity Period\")])\n",
    "\n",
    "\n",
    "    end_values = [] # List with correct end dates\n",
    "\n",
    "    for x in ends:\n",
    "        end_values.append(df_converted.iloc[x, df_converted.columns.get_loc(\"Activity Period\")])\n",
    "\n",
    "\n",
    "    df = pd.DataFrame([])\n",
    "\n",
    "    for x in range(len(starts)):\n",
    "        df = df.append(dict(Airlines_data=name_of_airline, Start=start_values[x], Finish=end_values[x]), ignore_index=True)\n",
    "    return df"
   ]
  },
  {
   "cell_type": "code",
   "execution_count": 81,
   "id": "f7b9d664",
   "metadata": {
    "scrolled": true
   },
   "outputs": [
    {
     "data": {
      "text/html": [
       "<div>\n",
       "<style scoped>\n",
       "    .dataframe tbody tr th:only-of-type {\n",
       "        vertical-align: middle;\n",
       "    }\n",
       "\n",
       "    .dataframe tbody tr th {\n",
       "        vertical-align: top;\n",
       "    }\n",
       "\n",
       "    .dataframe thead th {\n",
       "        text-align: right;\n",
       "    }\n",
       "</style>\n",
       "<table border=\"1\" class=\"dataframe\">\n",
       "  <thead>\n",
       "    <tr style=\"text-align: right;\">\n",
       "      <th></th>\n",
       "      <th>Airlines_data</th>\n",
       "      <th>Start</th>\n",
       "      <th>Finish</th>\n",
       "    </tr>\n",
       "  </thead>\n",
       "  <tbody>\n",
       "    <tr>\n",
       "      <th>0</th>\n",
       "      <td>WestJet Airlines</td>\n",
       "      <td>2005-07</td>\n",
       "      <td>2006-01</td>\n",
       "    </tr>\n",
       "    <tr>\n",
       "      <th>1</th>\n",
       "      <td>WestJet Airlines</td>\n",
       "      <td>2009-06</td>\n",
       "      <td>2009-10</td>\n",
       "    </tr>\n",
       "    <tr>\n",
       "      <th>2</th>\n",
       "      <td>WestJet Airlines</td>\n",
       "      <td>2010-05</td>\n",
       "      <td>2010-10</td>\n",
       "    </tr>\n",
       "    <tr>\n",
       "      <th>3</th>\n",
       "      <td>WestJet Airlines</td>\n",
       "      <td>2011-05</td>\n",
       "      <td>2011-10</td>\n",
       "    </tr>\n",
       "    <tr>\n",
       "      <th>4</th>\n",
       "      <td>WestJet Airlines</td>\n",
       "      <td>2012-02</td>\n",
       "      <td>2012-02</td>\n",
       "    </tr>\n",
       "    <tr>\n",
       "      <th>5</th>\n",
       "      <td>WestJet Airlines</td>\n",
       "      <td>2012-04</td>\n",
       "      <td>2012-10</td>\n",
       "    </tr>\n",
       "    <tr>\n",
       "      <th>6</th>\n",
       "      <td>WestJet Airlines</td>\n",
       "      <td>2013-04</td>\n",
       "      <td>2013-10</td>\n",
       "    </tr>\n",
       "    <tr>\n",
       "      <th>7</th>\n",
       "      <td>WestJet Airlines</td>\n",
       "      <td>2014-04</td>\n",
       "      <td>2014-10</td>\n",
       "    </tr>\n",
       "    <tr>\n",
       "      <th>8</th>\n",
       "      <td>WestJet Airlines</td>\n",
       "      <td>2015-05</td>\n",
       "      <td>2015-10</td>\n",
       "    </tr>\n",
       "    <tr>\n",
       "      <th>9</th>\n",
       "      <td>China Airlines</td>\n",
       "      <td>2005-07</td>\n",
       "      <td>2016-03</td>\n",
       "    </tr>\n",
       "    <tr>\n",
       "      <th>10</th>\n",
       "      <td>Air France</td>\n",
       "      <td>2005-07</td>\n",
       "      <td>2016-03</td>\n",
       "    </tr>\n",
       "    <tr>\n",
       "      <th>11</th>\n",
       "      <td>Virgin Atlantic</td>\n",
       "      <td>2005-07</td>\n",
       "      <td>2016-03</td>\n",
       "    </tr>\n",
       "    <tr>\n",
       "      <th>12</th>\n",
       "      <td>British Airways</td>\n",
       "      <td>2005-07</td>\n",
       "      <td>2016-03</td>\n",
       "    </tr>\n",
       "    <tr>\n",
       "      <th>13</th>\n",
       "      <td>Turkish Airlines</td>\n",
       "      <td>2015-04</td>\n",
       "      <td>2016-03</td>\n",
       "    </tr>\n",
       "    <tr>\n",
       "      <th>14</th>\n",
       "      <td>Asiana Airlines</td>\n",
       "      <td>2005-07</td>\n",
       "      <td>2016-03</td>\n",
       "    </tr>\n",
       "    <tr>\n",
       "      <th>15</th>\n",
       "      <td>Korean Air Lines</td>\n",
       "      <td>2005-07</td>\n",
       "      <td>2016-03</td>\n",
       "    </tr>\n",
       "    <tr>\n",
       "      <th>16</th>\n",
       "      <td>Lufthansa German Airlines</td>\n",
       "      <td>2005-07</td>\n",
       "      <td>2016-03</td>\n",
       "    </tr>\n",
       "    <tr>\n",
       "      <th>17</th>\n",
       "      <td>EVA Airways</td>\n",
       "      <td>2005-07</td>\n",
       "      <td>2016-03</td>\n",
       "    </tr>\n",
       "    <tr>\n",
       "      <th>18</th>\n",
       "      <td>Alaska Airlines</td>\n",
       "      <td>2005-07</td>\n",
       "      <td>2016-03</td>\n",
       "    </tr>\n",
       "  </tbody>\n",
       "</table>\n",
       "</div>"
      ],
      "text/plain": [
       "                Airlines_data    Start   Finish\n",
       "0            WestJet Airlines  2005-07  2006-01\n",
       "1            WestJet Airlines  2009-06  2009-10\n",
       "2            WestJet Airlines  2010-05  2010-10\n",
       "3            WestJet Airlines  2011-05  2011-10\n",
       "4            WestJet Airlines  2012-02  2012-02\n",
       "5            WestJet Airlines  2012-04  2012-10\n",
       "6            WestJet Airlines  2013-04  2013-10\n",
       "7            WestJet Airlines  2014-04  2014-10\n",
       "8            WestJet Airlines  2015-05  2015-10\n",
       "9              China Airlines  2005-07  2016-03\n",
       "10                 Air France  2005-07  2016-03\n",
       "11            Virgin Atlantic  2005-07  2016-03\n",
       "12            British Airways  2005-07  2016-03\n",
       "13           Turkish Airlines  2015-04  2016-03\n",
       "14            Asiana Airlines  2005-07  2016-03\n",
       "15           Korean Air Lines  2005-07  2016-03\n",
       "16  Lufthansa German Airlines  2005-07  2016-03\n",
       "17                EVA Airways  2005-07  2016-03\n",
       "18            Alaska Airlines  2005-07  2016-03"
      ]
     },
     "execution_count": 81,
     "metadata": {},
     "output_type": "execute_result"
    }
   ],
   "source": [
    "df = pd.DataFrame([])\n",
    "df = df.append(add_airline(\"WestJet Airlines\", df_converted, df), ignore_index=True)\n",
    "df = df.append(add_airline(\"China Airlines\", df_converted, df), ignore_index=True)\n",
    "df = df.append(add_airline(\"Air France\", df_converted, df), ignore_index=True)\n",
    "df = df.append(add_airline(\"Virgin Atlantic\", df_converted, df), ignore_index=True)\n",
    "df = df.append(add_airline(\"British Airways\", df_converted, df), ignore_index=True)\n",
    "df = df.append(add_airline(\"Turkish Airlines\", df_converted, df), ignore_index=True)\n",
    "df = df.append(add_airline(\"Asiana Airlines\", df_converted, df), ignore_index=True)\n",
    "df = df.append(add_airline(\"Korean Air Lines\", df_converted, df), ignore_index=True)\n",
    "df = df.append(add_airline(\"Lufthansa German Airlines\", df_converted, df), ignore_index=True)\n",
    "df = df.append(add_airline(\"EVA Airways\", df_converted, df), ignore_index=True)\n",
    "df = df.append(add_airline(\"Alaska Airlines\", df_converted, df), ignore_index=True)\n",
    "df\n"
   ]
  },
  {
   "cell_type": "code",
   "execution_count": 82,
   "id": "ab913f54",
   "metadata": {},
   "outputs": [
    {
     "data": {
      "application/vnd.plotly.v1+json": {
       "config": {
        "plotlyServerURL": "https://plot.ly"
       },
       "data": [
        {
         "alignmentgroup": "True",
         "base": [
          "2005-07",
          "2009-06",
          "2010-05",
          "2011-05",
          "2012-02",
          "2012-04",
          "2013-04",
          "2014-04",
          "2015-05"
         ],
         "hovertemplate": "Airlines_data=%{y}<br>Start=%{base}<br>Finish=%{x}<extra></extra>",
         "legendgroup": "WestJet Airlines",
         "marker": {
          "color": "#636efa",
          "pattern": {
           "shape": ""
          }
         },
         "name": "WestJet Airlines",
         "offsetgroup": "WestJet Airlines",
         "orientation": "h",
         "showlegend": true,
         "textposition": "auto",
         "type": "bar",
         "x": [
          15897600000,
          10540800000,
          13219200000,
          13219200000,
          0,
          15811200000,
          15811200000,
          15811200000,
          13219200000
         ],
         "xaxis": "x",
         "y": [
          "WestJet Airlines",
          "WestJet Airlines",
          "WestJet Airlines",
          "WestJet Airlines",
          "WestJet Airlines",
          "WestJet Airlines",
          "WestJet Airlines",
          "WestJet Airlines",
          "WestJet Airlines"
         ],
         "yaxis": "y"
        },
        {
         "alignmentgroup": "True",
         "base": [
          "2005-07"
         ],
         "hovertemplate": "Airlines_data=%{y}<br>Start=%{base}<br>Finish=%{x}<extra></extra>",
         "legendgroup": "China Airlines",
         "marker": {
          "color": "#EF553B",
          "pattern": {
           "shape": ""
          }
         },
         "name": "China Airlines",
         "offsetgroup": "China Airlines",
         "orientation": "h",
         "showlegend": true,
         "textposition": "auto",
         "type": "bar",
         "x": [
          336614400000
         ],
         "xaxis": "x",
         "y": [
          "China Airlines"
         ],
         "yaxis": "y"
        },
        {
         "alignmentgroup": "True",
         "base": [
          "2005-07"
         ],
         "hovertemplate": "Airlines_data=%{y}<br>Start=%{base}<br>Finish=%{x}<extra></extra>",
         "legendgroup": "Air France",
         "marker": {
          "color": "#00cc96",
          "pattern": {
           "shape": ""
          }
         },
         "name": "Air France",
         "offsetgroup": "Air France",
         "orientation": "h",
         "showlegend": true,
         "textposition": "auto",
         "type": "bar",
         "x": [
          336614400000
         ],
         "xaxis": "x",
         "y": [
          "Air France"
         ],
         "yaxis": "y"
        },
        {
         "alignmentgroup": "True",
         "base": [
          "2005-07"
         ],
         "hovertemplate": "Airlines_data=%{y}<br>Start=%{base}<br>Finish=%{x}<extra></extra>",
         "legendgroup": "Virgin Atlantic",
         "marker": {
          "color": "#ab63fa",
          "pattern": {
           "shape": ""
          }
         },
         "name": "Virgin Atlantic",
         "offsetgroup": "Virgin Atlantic",
         "orientation": "h",
         "showlegend": true,
         "textposition": "auto",
         "type": "bar",
         "x": [
          336614400000
         ],
         "xaxis": "x",
         "y": [
          "Virgin Atlantic"
         ],
         "yaxis": "y"
        },
        {
         "alignmentgroup": "True",
         "base": [
          "2005-07"
         ],
         "hovertemplate": "Airlines_data=%{y}<br>Start=%{base}<br>Finish=%{x}<extra></extra>",
         "legendgroup": "British Airways",
         "marker": {
          "color": "#FFA15A",
          "pattern": {
           "shape": ""
          }
         },
         "name": "British Airways",
         "offsetgroup": "British Airways",
         "orientation": "h",
         "showlegend": true,
         "textposition": "auto",
         "type": "bar",
         "x": [
          336614400000
         ],
         "xaxis": "x",
         "y": [
          "British Airways"
         ],
         "yaxis": "y"
        },
        {
         "alignmentgroup": "True",
         "base": [
          "2015-04"
         ],
         "hovertemplate": "Airlines_data=%{y}<br>Start=%{base}<br>Finish=%{x}<extra></extra>",
         "legendgroup": "Turkish Airlines",
         "marker": {
          "color": "#19d3f3",
          "pattern": {
           "shape": ""
          }
         },
         "name": "Turkish Airlines",
         "offsetgroup": "Turkish Airlines",
         "orientation": "h",
         "showlegend": true,
         "textposition": "auto",
         "type": "bar",
         "x": [
          28944000000
         ],
         "xaxis": "x",
         "y": [
          "Turkish Airlines"
         ],
         "yaxis": "y"
        },
        {
         "alignmentgroup": "True",
         "base": [
          "2005-07"
         ],
         "hovertemplate": "Airlines_data=%{y}<br>Start=%{base}<br>Finish=%{x}<extra></extra>",
         "legendgroup": "Asiana Airlines",
         "marker": {
          "color": "#FF6692",
          "pattern": {
           "shape": ""
          }
         },
         "name": "Asiana Airlines",
         "offsetgroup": "Asiana Airlines",
         "orientation": "h",
         "showlegend": true,
         "textposition": "auto",
         "type": "bar",
         "x": [
          336614400000
         ],
         "xaxis": "x",
         "y": [
          "Asiana Airlines"
         ],
         "yaxis": "y"
        },
        {
         "alignmentgroup": "True",
         "base": [
          "2005-07"
         ],
         "hovertemplate": "Airlines_data=%{y}<br>Start=%{base}<br>Finish=%{x}<extra></extra>",
         "legendgroup": "Korean Air Lines",
         "marker": {
          "color": "#B6E880",
          "pattern": {
           "shape": ""
          }
         },
         "name": "Korean Air Lines",
         "offsetgroup": "Korean Air Lines",
         "orientation": "h",
         "showlegend": true,
         "textposition": "auto",
         "type": "bar",
         "x": [
          336614400000
         ],
         "xaxis": "x",
         "y": [
          "Korean Air Lines"
         ],
         "yaxis": "y"
        },
        {
         "alignmentgroup": "True",
         "base": [
          "2005-07"
         ],
         "hovertemplate": "Airlines_data=%{y}<br>Start=%{base}<br>Finish=%{x}<extra></extra>",
         "legendgroup": "Lufthansa German Airlines",
         "marker": {
          "color": "#FF97FF",
          "pattern": {
           "shape": ""
          }
         },
         "name": "Lufthansa German Airlines",
         "offsetgroup": "Lufthansa German Airlines",
         "orientation": "h",
         "showlegend": true,
         "textposition": "auto",
         "type": "bar",
         "x": [
          336614400000
         ],
         "xaxis": "x",
         "y": [
          "Lufthansa German Airlines"
         ],
         "yaxis": "y"
        },
        {
         "alignmentgroup": "True",
         "base": [
          "2005-07"
         ],
         "hovertemplate": "Airlines_data=%{y}<br>Start=%{base}<br>Finish=%{x}<extra></extra>",
         "legendgroup": "EVA Airways",
         "marker": {
          "color": "#FECB52",
          "pattern": {
           "shape": ""
          }
         },
         "name": "EVA Airways",
         "offsetgroup": "EVA Airways",
         "orientation": "h",
         "showlegend": true,
         "textposition": "auto",
         "type": "bar",
         "x": [
          336614400000
         ],
         "xaxis": "x",
         "y": [
          "EVA Airways"
         ],
         "yaxis": "y"
        },
        {
         "alignmentgroup": "True",
         "base": [
          "2005-07"
         ],
         "hovertemplate": "Airlines_data=%{y}<br>Start=%{base}<br>Finish=%{x}<extra></extra>",
         "legendgroup": "Alaska Airlines",
         "marker": {
          "color": "#636efa",
          "pattern": {
           "shape": ""
          }
         },
         "name": "Alaska Airlines",
         "offsetgroup": "Alaska Airlines",
         "orientation": "h",
         "showlegend": true,
         "textposition": "auto",
         "type": "bar",
         "x": [
          336614400000
         ],
         "xaxis": "x",
         "y": [
          "Alaska Airlines"
         ],
         "yaxis": "y"
        }
       ],
       "layout": {
        "barmode": "overlay",
        "legend": {
         "title": {
          "text": "Airlines_data"
         },
         "tracegroupgap": 0
        },
        "template": {
         "data": {
          "bar": [
           {
            "error_x": {
             "color": "#2a3f5f"
            },
            "error_y": {
             "color": "#2a3f5f"
            },
            "marker": {
             "line": {
              "color": "#E5ECF6",
              "width": 0.5
             },
             "pattern": {
              "fillmode": "overlay",
              "size": 10,
              "solidity": 0.2
             }
            },
            "type": "bar"
           }
          ],
          "barpolar": [
           {
            "marker": {
             "line": {
              "color": "#E5ECF6",
              "width": 0.5
             },
             "pattern": {
              "fillmode": "overlay",
              "size": 10,
              "solidity": 0.2
             }
            },
            "type": "barpolar"
           }
          ],
          "carpet": [
           {
            "aaxis": {
             "endlinecolor": "#2a3f5f",
             "gridcolor": "white",
             "linecolor": "white",
             "minorgridcolor": "white",
             "startlinecolor": "#2a3f5f"
            },
            "baxis": {
             "endlinecolor": "#2a3f5f",
             "gridcolor": "white",
             "linecolor": "white",
             "minorgridcolor": "white",
             "startlinecolor": "#2a3f5f"
            },
            "type": "carpet"
           }
          ],
          "choropleth": [
           {
            "colorbar": {
             "outlinewidth": 0,
             "ticks": ""
            },
            "type": "choropleth"
           }
          ],
          "contour": [
           {
            "colorbar": {
             "outlinewidth": 0,
             "ticks": ""
            },
            "colorscale": [
             [
              0,
              "#0d0887"
             ],
             [
              0.1111111111111111,
              "#46039f"
             ],
             [
              0.2222222222222222,
              "#7201a8"
             ],
             [
              0.3333333333333333,
              "#9c179e"
             ],
             [
              0.4444444444444444,
              "#bd3786"
             ],
             [
              0.5555555555555556,
              "#d8576b"
             ],
             [
              0.6666666666666666,
              "#ed7953"
             ],
             [
              0.7777777777777778,
              "#fb9f3a"
             ],
             [
              0.8888888888888888,
              "#fdca26"
             ],
             [
              1,
              "#f0f921"
             ]
            ],
            "type": "contour"
           }
          ],
          "contourcarpet": [
           {
            "colorbar": {
             "outlinewidth": 0,
             "ticks": ""
            },
            "type": "contourcarpet"
           }
          ],
          "heatmap": [
           {
            "colorbar": {
             "outlinewidth": 0,
             "ticks": ""
            },
            "colorscale": [
             [
              0,
              "#0d0887"
             ],
             [
              0.1111111111111111,
              "#46039f"
             ],
             [
              0.2222222222222222,
              "#7201a8"
             ],
             [
              0.3333333333333333,
              "#9c179e"
             ],
             [
              0.4444444444444444,
              "#bd3786"
             ],
             [
              0.5555555555555556,
              "#d8576b"
             ],
             [
              0.6666666666666666,
              "#ed7953"
             ],
             [
              0.7777777777777778,
              "#fb9f3a"
             ],
             [
              0.8888888888888888,
              "#fdca26"
             ],
             [
              1,
              "#f0f921"
             ]
            ],
            "type": "heatmap"
           }
          ],
          "heatmapgl": [
           {
            "colorbar": {
             "outlinewidth": 0,
             "ticks": ""
            },
            "colorscale": [
             [
              0,
              "#0d0887"
             ],
             [
              0.1111111111111111,
              "#46039f"
             ],
             [
              0.2222222222222222,
              "#7201a8"
             ],
             [
              0.3333333333333333,
              "#9c179e"
             ],
             [
              0.4444444444444444,
              "#bd3786"
             ],
             [
              0.5555555555555556,
              "#d8576b"
             ],
             [
              0.6666666666666666,
              "#ed7953"
             ],
             [
              0.7777777777777778,
              "#fb9f3a"
             ],
             [
              0.8888888888888888,
              "#fdca26"
             ],
             [
              1,
              "#f0f921"
             ]
            ],
            "type": "heatmapgl"
           }
          ],
          "histogram": [
           {
            "marker": {
             "pattern": {
              "fillmode": "overlay",
              "size": 10,
              "solidity": 0.2
             }
            },
            "type": "histogram"
           }
          ],
          "histogram2d": [
           {
            "colorbar": {
             "outlinewidth": 0,
             "ticks": ""
            },
            "colorscale": [
             [
              0,
              "#0d0887"
             ],
             [
              0.1111111111111111,
              "#46039f"
             ],
             [
              0.2222222222222222,
              "#7201a8"
             ],
             [
              0.3333333333333333,
              "#9c179e"
             ],
             [
              0.4444444444444444,
              "#bd3786"
             ],
             [
              0.5555555555555556,
              "#d8576b"
             ],
             [
              0.6666666666666666,
              "#ed7953"
             ],
             [
              0.7777777777777778,
              "#fb9f3a"
             ],
             [
              0.8888888888888888,
              "#fdca26"
             ],
             [
              1,
              "#f0f921"
             ]
            ],
            "type": "histogram2d"
           }
          ],
          "histogram2dcontour": [
           {
            "colorbar": {
             "outlinewidth": 0,
             "ticks": ""
            },
            "colorscale": [
             [
              0,
              "#0d0887"
             ],
             [
              0.1111111111111111,
              "#46039f"
             ],
             [
              0.2222222222222222,
              "#7201a8"
             ],
             [
              0.3333333333333333,
              "#9c179e"
             ],
             [
              0.4444444444444444,
              "#bd3786"
             ],
             [
              0.5555555555555556,
              "#d8576b"
             ],
             [
              0.6666666666666666,
              "#ed7953"
             ],
             [
              0.7777777777777778,
              "#fb9f3a"
             ],
             [
              0.8888888888888888,
              "#fdca26"
             ],
             [
              1,
              "#f0f921"
             ]
            ],
            "type": "histogram2dcontour"
           }
          ],
          "mesh3d": [
           {
            "colorbar": {
             "outlinewidth": 0,
             "ticks": ""
            },
            "type": "mesh3d"
           }
          ],
          "parcoords": [
           {
            "line": {
             "colorbar": {
              "outlinewidth": 0,
              "ticks": ""
             }
            },
            "type": "parcoords"
           }
          ],
          "pie": [
           {
            "automargin": true,
            "type": "pie"
           }
          ],
          "scatter": [
           {
            "fillpattern": {
             "fillmode": "overlay",
             "size": 10,
             "solidity": 0.2
            },
            "type": "scatter"
           }
          ],
          "scatter3d": [
           {
            "line": {
             "colorbar": {
              "outlinewidth": 0,
              "ticks": ""
             }
            },
            "marker": {
             "colorbar": {
              "outlinewidth": 0,
              "ticks": ""
             }
            },
            "type": "scatter3d"
           }
          ],
          "scattercarpet": [
           {
            "marker": {
             "colorbar": {
              "outlinewidth": 0,
              "ticks": ""
             }
            },
            "type": "scattercarpet"
           }
          ],
          "scattergeo": [
           {
            "marker": {
             "colorbar": {
              "outlinewidth": 0,
              "ticks": ""
             }
            },
            "type": "scattergeo"
           }
          ],
          "scattergl": [
           {
            "marker": {
             "colorbar": {
              "outlinewidth": 0,
              "ticks": ""
             }
            },
            "type": "scattergl"
           }
          ],
          "scattermapbox": [
           {
            "marker": {
             "colorbar": {
              "outlinewidth": 0,
              "ticks": ""
             }
            },
            "type": "scattermapbox"
           }
          ],
          "scatterpolar": [
           {
            "marker": {
             "colorbar": {
              "outlinewidth": 0,
              "ticks": ""
             }
            },
            "type": "scatterpolar"
           }
          ],
          "scatterpolargl": [
           {
            "marker": {
             "colorbar": {
              "outlinewidth": 0,
              "ticks": ""
             }
            },
            "type": "scatterpolargl"
           }
          ],
          "scatterternary": [
           {
            "marker": {
             "colorbar": {
              "outlinewidth": 0,
              "ticks": ""
             }
            },
            "type": "scatterternary"
           }
          ],
          "surface": [
           {
            "colorbar": {
             "outlinewidth": 0,
             "ticks": ""
            },
            "colorscale": [
             [
              0,
              "#0d0887"
             ],
             [
              0.1111111111111111,
              "#46039f"
             ],
             [
              0.2222222222222222,
              "#7201a8"
             ],
             [
              0.3333333333333333,
              "#9c179e"
             ],
             [
              0.4444444444444444,
              "#bd3786"
             ],
             [
              0.5555555555555556,
              "#d8576b"
             ],
             [
              0.6666666666666666,
              "#ed7953"
             ],
             [
              0.7777777777777778,
              "#fb9f3a"
             ],
             [
              0.8888888888888888,
              "#fdca26"
             ],
             [
              1,
              "#f0f921"
             ]
            ],
            "type": "surface"
           }
          ],
          "table": [
           {
            "cells": {
             "fill": {
              "color": "#EBF0F8"
             },
             "line": {
              "color": "white"
             }
            },
            "header": {
             "fill": {
              "color": "#C8D4E3"
             },
             "line": {
              "color": "white"
             }
            },
            "type": "table"
           }
          ]
         },
         "layout": {
          "annotationdefaults": {
           "arrowcolor": "#2a3f5f",
           "arrowhead": 0,
           "arrowwidth": 1
          },
          "autotypenumbers": "strict",
          "coloraxis": {
           "colorbar": {
            "outlinewidth": 0,
            "ticks": ""
           }
          },
          "colorscale": {
           "diverging": [
            [
             0,
             "#8e0152"
            ],
            [
             0.1,
             "#c51b7d"
            ],
            [
             0.2,
             "#de77ae"
            ],
            [
             0.3,
             "#f1b6da"
            ],
            [
             0.4,
             "#fde0ef"
            ],
            [
             0.5,
             "#f7f7f7"
            ],
            [
             0.6,
             "#e6f5d0"
            ],
            [
             0.7,
             "#b8e186"
            ],
            [
             0.8,
             "#7fbc41"
            ],
            [
             0.9,
             "#4d9221"
            ],
            [
             1,
             "#276419"
            ]
           ],
           "sequential": [
            [
             0,
             "#0d0887"
            ],
            [
             0.1111111111111111,
             "#46039f"
            ],
            [
             0.2222222222222222,
             "#7201a8"
            ],
            [
             0.3333333333333333,
             "#9c179e"
            ],
            [
             0.4444444444444444,
             "#bd3786"
            ],
            [
             0.5555555555555556,
             "#d8576b"
            ],
            [
             0.6666666666666666,
             "#ed7953"
            ],
            [
             0.7777777777777778,
             "#fb9f3a"
            ],
            [
             0.8888888888888888,
             "#fdca26"
            ],
            [
             1,
             "#f0f921"
            ]
           ],
           "sequentialminus": [
            [
             0,
             "#0d0887"
            ],
            [
             0.1111111111111111,
             "#46039f"
            ],
            [
             0.2222222222222222,
             "#7201a8"
            ],
            [
             0.3333333333333333,
             "#9c179e"
            ],
            [
             0.4444444444444444,
             "#bd3786"
            ],
            [
             0.5555555555555556,
             "#d8576b"
            ],
            [
             0.6666666666666666,
             "#ed7953"
            ],
            [
             0.7777777777777778,
             "#fb9f3a"
            ],
            [
             0.8888888888888888,
             "#fdca26"
            ],
            [
             1,
             "#f0f921"
            ]
           ]
          },
          "colorway": [
           "#636efa",
           "#EF553B",
           "#00cc96",
           "#ab63fa",
           "#FFA15A",
           "#19d3f3",
           "#FF6692",
           "#B6E880",
           "#FF97FF",
           "#FECB52"
          ],
          "font": {
           "color": "#2a3f5f"
          },
          "geo": {
           "bgcolor": "white",
           "lakecolor": "white",
           "landcolor": "#E5ECF6",
           "showlakes": true,
           "showland": true,
           "subunitcolor": "white"
          },
          "hoverlabel": {
           "align": "left"
          },
          "hovermode": "closest",
          "mapbox": {
           "style": "light"
          },
          "paper_bgcolor": "white",
          "plot_bgcolor": "#E5ECF6",
          "polar": {
           "angularaxis": {
            "gridcolor": "white",
            "linecolor": "white",
            "ticks": ""
           },
           "bgcolor": "#E5ECF6",
           "radialaxis": {
            "gridcolor": "white",
            "linecolor": "white",
            "ticks": ""
           }
          },
          "scene": {
           "xaxis": {
            "backgroundcolor": "#E5ECF6",
            "gridcolor": "white",
            "gridwidth": 2,
            "linecolor": "white",
            "showbackground": true,
            "ticks": "",
            "zerolinecolor": "white"
           },
           "yaxis": {
            "backgroundcolor": "#E5ECF6",
            "gridcolor": "white",
            "gridwidth": 2,
            "linecolor": "white",
            "showbackground": true,
            "ticks": "",
            "zerolinecolor": "white"
           },
           "zaxis": {
            "backgroundcolor": "#E5ECF6",
            "gridcolor": "white",
            "gridwidth": 2,
            "linecolor": "white",
            "showbackground": true,
            "ticks": "",
            "zerolinecolor": "white"
           }
          },
          "shapedefaults": {
           "line": {
            "color": "#2a3f5f"
           }
          },
          "ternary": {
           "aaxis": {
            "gridcolor": "white",
            "linecolor": "white",
            "ticks": ""
           },
           "baxis": {
            "gridcolor": "white",
            "linecolor": "white",
            "ticks": ""
           },
           "bgcolor": "#E5ECF6",
           "caxis": {
            "gridcolor": "white",
            "linecolor": "white",
            "ticks": ""
           }
          },
          "title": {
           "x": 0.05
          },
          "xaxis": {
           "automargin": true,
           "gridcolor": "white",
           "linecolor": "white",
           "ticks": "",
           "title": {
            "standoff": 15
           },
           "zerolinecolor": "white",
           "zerolinewidth": 2
          },
          "yaxis": {
           "automargin": true,
           "gridcolor": "white",
           "linecolor": "white",
           "ticks": "",
           "title": {
            "standoff": 15
           },
           "zerolinecolor": "white",
           "zerolinewidth": 2
          }
         }
        },
        "title": {
         "text": "Data completeness"
        },
        "xaxis": {
         "anchor": "y",
         "domain": [
          0,
          1
         ],
         "type": "date"
        },
        "yaxis": {
         "anchor": "x",
         "autorange": "reversed",
         "categoryarray": [
          "Alaska Airlines",
          "EVA Airways",
          "Lufthansa German Airlines",
          "Korean Air Lines",
          "Asiana Airlines",
          "Turkish Airlines",
          "British Airways",
          "Virgin Atlantic",
          "Air France",
          "China Airlines",
          "WestJet Airlines"
         ],
         "categoryorder": "array",
         "domain": [
          0,
          1
         ],
         "title": {
          "text": "Airlines_data"
         }
        }
       }
      },
      "text/html": [
       "<div>                            <div id=\"4cbc05bd-ca7b-45c5-9026-1688171330b2\" class=\"plotly-graph-div\" style=\"height:525px; width:100%;\"></div>            <script type=\"text/javascript\">                require([\"plotly\"], function(Plotly) {                    window.PLOTLYENV=window.PLOTLYENV || {};                                    if (document.getElementById(\"4cbc05bd-ca7b-45c5-9026-1688171330b2\")) {                    Plotly.newPlot(                        \"4cbc05bd-ca7b-45c5-9026-1688171330b2\",                        [{\"alignmentgroup\":\"True\",\"base\":[\"2005-07\",\"2009-06\",\"2010-05\",\"2011-05\",\"2012-02\",\"2012-04\",\"2013-04\",\"2014-04\",\"2015-05\"],\"hovertemplate\":\"Airlines_data=%{y}<br>Start=%{base}<br>Finish=%{x}<extra></extra>\",\"legendgroup\":\"WestJet Airlines\",\"marker\":{\"color\":\"#636efa\",\"pattern\":{\"shape\":\"\"}},\"name\":\"WestJet Airlines\",\"offsetgroup\":\"WestJet Airlines\",\"orientation\":\"h\",\"showlegend\":true,\"textposition\":\"auto\",\"x\":[15897600000.0,10540800000.0,13219200000.0,13219200000.0,0.0,15811200000.0,15811200000.0,15811200000.0,13219200000.0],\"xaxis\":\"x\",\"y\":[\"WestJet Airlines\",\"WestJet Airlines\",\"WestJet Airlines\",\"WestJet Airlines\",\"WestJet Airlines\",\"WestJet Airlines\",\"WestJet Airlines\",\"WestJet Airlines\",\"WestJet Airlines\"],\"yaxis\":\"y\",\"type\":\"bar\"},{\"alignmentgroup\":\"True\",\"base\":[\"2005-07\"],\"hovertemplate\":\"Airlines_data=%{y}<br>Start=%{base}<br>Finish=%{x}<extra></extra>\",\"legendgroup\":\"China Airlines\",\"marker\":{\"color\":\"#EF553B\",\"pattern\":{\"shape\":\"\"}},\"name\":\"China Airlines\",\"offsetgroup\":\"China Airlines\",\"orientation\":\"h\",\"showlegend\":true,\"textposition\":\"auto\",\"x\":[336614400000.0],\"xaxis\":\"x\",\"y\":[\"China Airlines\"],\"yaxis\":\"y\",\"type\":\"bar\"},{\"alignmentgroup\":\"True\",\"base\":[\"2005-07\"],\"hovertemplate\":\"Airlines_data=%{y}<br>Start=%{base}<br>Finish=%{x}<extra></extra>\",\"legendgroup\":\"Air France\",\"marker\":{\"color\":\"#00cc96\",\"pattern\":{\"shape\":\"\"}},\"name\":\"Air France\",\"offsetgroup\":\"Air France\",\"orientation\":\"h\",\"showlegend\":true,\"textposition\":\"auto\",\"x\":[336614400000.0],\"xaxis\":\"x\",\"y\":[\"Air France\"],\"yaxis\":\"y\",\"type\":\"bar\"},{\"alignmentgroup\":\"True\",\"base\":[\"2005-07\"],\"hovertemplate\":\"Airlines_data=%{y}<br>Start=%{base}<br>Finish=%{x}<extra></extra>\",\"legendgroup\":\"Virgin Atlantic\",\"marker\":{\"color\":\"#ab63fa\",\"pattern\":{\"shape\":\"\"}},\"name\":\"Virgin Atlantic\",\"offsetgroup\":\"Virgin Atlantic\",\"orientation\":\"h\",\"showlegend\":true,\"textposition\":\"auto\",\"x\":[336614400000.0],\"xaxis\":\"x\",\"y\":[\"Virgin Atlantic\"],\"yaxis\":\"y\",\"type\":\"bar\"},{\"alignmentgroup\":\"True\",\"base\":[\"2005-07\"],\"hovertemplate\":\"Airlines_data=%{y}<br>Start=%{base}<br>Finish=%{x}<extra></extra>\",\"legendgroup\":\"British Airways\",\"marker\":{\"color\":\"#FFA15A\",\"pattern\":{\"shape\":\"\"}},\"name\":\"British Airways\",\"offsetgroup\":\"British Airways\",\"orientation\":\"h\",\"showlegend\":true,\"textposition\":\"auto\",\"x\":[336614400000.0],\"xaxis\":\"x\",\"y\":[\"British Airways\"],\"yaxis\":\"y\",\"type\":\"bar\"},{\"alignmentgroup\":\"True\",\"base\":[\"2015-04\"],\"hovertemplate\":\"Airlines_data=%{y}<br>Start=%{base}<br>Finish=%{x}<extra></extra>\",\"legendgroup\":\"Turkish Airlines\",\"marker\":{\"color\":\"#19d3f3\",\"pattern\":{\"shape\":\"\"}},\"name\":\"Turkish Airlines\",\"offsetgroup\":\"Turkish Airlines\",\"orientation\":\"h\",\"showlegend\":true,\"textposition\":\"auto\",\"x\":[28944000000.0],\"xaxis\":\"x\",\"y\":[\"Turkish Airlines\"],\"yaxis\":\"y\",\"type\":\"bar\"},{\"alignmentgroup\":\"True\",\"base\":[\"2005-07\"],\"hovertemplate\":\"Airlines_data=%{y}<br>Start=%{base}<br>Finish=%{x}<extra></extra>\",\"legendgroup\":\"Asiana Airlines\",\"marker\":{\"color\":\"#FF6692\",\"pattern\":{\"shape\":\"\"}},\"name\":\"Asiana Airlines\",\"offsetgroup\":\"Asiana Airlines\",\"orientation\":\"h\",\"showlegend\":true,\"textposition\":\"auto\",\"x\":[336614400000.0],\"xaxis\":\"x\",\"y\":[\"Asiana Airlines\"],\"yaxis\":\"y\",\"type\":\"bar\"},{\"alignmentgroup\":\"True\",\"base\":[\"2005-07\"],\"hovertemplate\":\"Airlines_data=%{y}<br>Start=%{base}<br>Finish=%{x}<extra></extra>\",\"legendgroup\":\"Korean Air Lines\",\"marker\":{\"color\":\"#B6E880\",\"pattern\":{\"shape\":\"\"}},\"name\":\"Korean Air Lines\",\"offsetgroup\":\"Korean Air Lines\",\"orientation\":\"h\",\"showlegend\":true,\"textposition\":\"auto\",\"x\":[336614400000.0],\"xaxis\":\"x\",\"y\":[\"Korean Air Lines\"],\"yaxis\":\"y\",\"type\":\"bar\"},{\"alignmentgroup\":\"True\",\"base\":[\"2005-07\"],\"hovertemplate\":\"Airlines_data=%{y}<br>Start=%{base}<br>Finish=%{x}<extra></extra>\",\"legendgroup\":\"Lufthansa German Airlines\",\"marker\":{\"color\":\"#FF97FF\",\"pattern\":{\"shape\":\"\"}},\"name\":\"Lufthansa German Airlines\",\"offsetgroup\":\"Lufthansa German Airlines\",\"orientation\":\"h\",\"showlegend\":true,\"textposition\":\"auto\",\"x\":[336614400000.0],\"xaxis\":\"x\",\"y\":[\"Lufthansa German Airlines\"],\"yaxis\":\"y\",\"type\":\"bar\"},{\"alignmentgroup\":\"True\",\"base\":[\"2005-07\"],\"hovertemplate\":\"Airlines_data=%{y}<br>Start=%{base}<br>Finish=%{x}<extra></extra>\",\"legendgroup\":\"EVA Airways\",\"marker\":{\"color\":\"#FECB52\",\"pattern\":{\"shape\":\"\"}},\"name\":\"EVA Airways\",\"offsetgroup\":\"EVA Airways\",\"orientation\":\"h\",\"showlegend\":true,\"textposition\":\"auto\",\"x\":[336614400000.0],\"xaxis\":\"x\",\"y\":[\"EVA Airways\"],\"yaxis\":\"y\",\"type\":\"bar\"},{\"alignmentgroup\":\"True\",\"base\":[\"2005-07\"],\"hovertemplate\":\"Airlines_data=%{y}<br>Start=%{base}<br>Finish=%{x}<extra></extra>\",\"legendgroup\":\"Alaska Airlines\",\"marker\":{\"color\":\"#636efa\",\"pattern\":{\"shape\":\"\"}},\"name\":\"Alaska Airlines\",\"offsetgroup\":\"Alaska Airlines\",\"orientation\":\"h\",\"showlegend\":true,\"textposition\":\"auto\",\"x\":[336614400000.0],\"xaxis\":\"x\",\"y\":[\"Alaska Airlines\"],\"yaxis\":\"y\",\"type\":\"bar\"}],                        {\"template\":{\"data\":{\"histogram2dcontour\":[{\"type\":\"histogram2dcontour\",\"colorbar\":{\"outlinewidth\":0,\"ticks\":\"\"},\"colorscale\":[[0.0,\"#0d0887\"],[0.1111111111111111,\"#46039f\"],[0.2222222222222222,\"#7201a8\"],[0.3333333333333333,\"#9c179e\"],[0.4444444444444444,\"#bd3786\"],[0.5555555555555556,\"#d8576b\"],[0.6666666666666666,\"#ed7953\"],[0.7777777777777778,\"#fb9f3a\"],[0.8888888888888888,\"#fdca26\"],[1.0,\"#f0f921\"]]}],\"choropleth\":[{\"type\":\"choropleth\",\"colorbar\":{\"outlinewidth\":0,\"ticks\":\"\"}}],\"histogram2d\":[{\"type\":\"histogram2d\",\"colorbar\":{\"outlinewidth\":0,\"ticks\":\"\"},\"colorscale\":[[0.0,\"#0d0887\"],[0.1111111111111111,\"#46039f\"],[0.2222222222222222,\"#7201a8\"],[0.3333333333333333,\"#9c179e\"],[0.4444444444444444,\"#bd3786\"],[0.5555555555555556,\"#d8576b\"],[0.6666666666666666,\"#ed7953\"],[0.7777777777777778,\"#fb9f3a\"],[0.8888888888888888,\"#fdca26\"],[1.0,\"#f0f921\"]]}],\"heatmap\":[{\"type\":\"heatmap\",\"colorbar\":{\"outlinewidth\":0,\"ticks\":\"\"},\"colorscale\":[[0.0,\"#0d0887\"],[0.1111111111111111,\"#46039f\"],[0.2222222222222222,\"#7201a8\"],[0.3333333333333333,\"#9c179e\"],[0.4444444444444444,\"#bd3786\"],[0.5555555555555556,\"#d8576b\"],[0.6666666666666666,\"#ed7953\"],[0.7777777777777778,\"#fb9f3a\"],[0.8888888888888888,\"#fdca26\"],[1.0,\"#f0f921\"]]}],\"heatmapgl\":[{\"type\":\"heatmapgl\",\"colorbar\":{\"outlinewidth\":0,\"ticks\":\"\"},\"colorscale\":[[0.0,\"#0d0887\"],[0.1111111111111111,\"#46039f\"],[0.2222222222222222,\"#7201a8\"],[0.3333333333333333,\"#9c179e\"],[0.4444444444444444,\"#bd3786\"],[0.5555555555555556,\"#d8576b\"],[0.6666666666666666,\"#ed7953\"],[0.7777777777777778,\"#fb9f3a\"],[0.8888888888888888,\"#fdca26\"],[1.0,\"#f0f921\"]]}],\"contourcarpet\":[{\"type\":\"contourcarpet\",\"colorbar\":{\"outlinewidth\":0,\"ticks\":\"\"}}],\"contour\":[{\"type\":\"contour\",\"colorbar\":{\"outlinewidth\":0,\"ticks\":\"\"},\"colorscale\":[[0.0,\"#0d0887\"],[0.1111111111111111,\"#46039f\"],[0.2222222222222222,\"#7201a8\"],[0.3333333333333333,\"#9c179e\"],[0.4444444444444444,\"#bd3786\"],[0.5555555555555556,\"#d8576b\"],[0.6666666666666666,\"#ed7953\"],[0.7777777777777778,\"#fb9f3a\"],[0.8888888888888888,\"#fdca26\"],[1.0,\"#f0f921\"]]}],\"surface\":[{\"type\":\"surface\",\"colorbar\":{\"outlinewidth\":0,\"ticks\":\"\"},\"colorscale\":[[0.0,\"#0d0887\"],[0.1111111111111111,\"#46039f\"],[0.2222222222222222,\"#7201a8\"],[0.3333333333333333,\"#9c179e\"],[0.4444444444444444,\"#bd3786\"],[0.5555555555555556,\"#d8576b\"],[0.6666666666666666,\"#ed7953\"],[0.7777777777777778,\"#fb9f3a\"],[0.8888888888888888,\"#fdca26\"],[1.0,\"#f0f921\"]]}],\"mesh3d\":[{\"type\":\"mesh3d\",\"colorbar\":{\"outlinewidth\":0,\"ticks\":\"\"}}],\"scatter\":[{\"fillpattern\":{\"fillmode\":\"overlay\",\"size\":10,\"solidity\":0.2},\"type\":\"scatter\"}],\"parcoords\":[{\"type\":\"parcoords\",\"line\":{\"colorbar\":{\"outlinewidth\":0,\"ticks\":\"\"}}}],\"scatterpolargl\":[{\"type\":\"scatterpolargl\",\"marker\":{\"colorbar\":{\"outlinewidth\":0,\"ticks\":\"\"}}}],\"bar\":[{\"error_x\":{\"color\":\"#2a3f5f\"},\"error_y\":{\"color\":\"#2a3f5f\"},\"marker\":{\"line\":{\"color\":\"#E5ECF6\",\"width\":0.5},\"pattern\":{\"fillmode\":\"overlay\",\"size\":10,\"solidity\":0.2}},\"type\":\"bar\"}],\"scattergeo\":[{\"type\":\"scattergeo\",\"marker\":{\"colorbar\":{\"outlinewidth\":0,\"ticks\":\"\"}}}],\"scatterpolar\":[{\"type\":\"scatterpolar\",\"marker\":{\"colorbar\":{\"outlinewidth\":0,\"ticks\":\"\"}}}],\"histogram\":[{\"marker\":{\"pattern\":{\"fillmode\":\"overlay\",\"size\":10,\"solidity\":0.2}},\"type\":\"histogram\"}],\"scattergl\":[{\"type\":\"scattergl\",\"marker\":{\"colorbar\":{\"outlinewidth\":0,\"ticks\":\"\"}}}],\"scatter3d\":[{\"type\":\"scatter3d\",\"line\":{\"colorbar\":{\"outlinewidth\":0,\"ticks\":\"\"}},\"marker\":{\"colorbar\":{\"outlinewidth\":0,\"ticks\":\"\"}}}],\"scattermapbox\":[{\"type\":\"scattermapbox\",\"marker\":{\"colorbar\":{\"outlinewidth\":0,\"ticks\":\"\"}}}],\"scatterternary\":[{\"type\":\"scatterternary\",\"marker\":{\"colorbar\":{\"outlinewidth\":0,\"ticks\":\"\"}}}],\"scattercarpet\":[{\"type\":\"scattercarpet\",\"marker\":{\"colorbar\":{\"outlinewidth\":0,\"ticks\":\"\"}}}],\"carpet\":[{\"aaxis\":{\"endlinecolor\":\"#2a3f5f\",\"gridcolor\":\"white\",\"linecolor\":\"white\",\"minorgridcolor\":\"white\",\"startlinecolor\":\"#2a3f5f\"},\"baxis\":{\"endlinecolor\":\"#2a3f5f\",\"gridcolor\":\"white\",\"linecolor\":\"white\",\"minorgridcolor\":\"white\",\"startlinecolor\":\"#2a3f5f\"},\"type\":\"carpet\"}],\"table\":[{\"cells\":{\"fill\":{\"color\":\"#EBF0F8\"},\"line\":{\"color\":\"white\"}},\"header\":{\"fill\":{\"color\":\"#C8D4E3\"},\"line\":{\"color\":\"white\"}},\"type\":\"table\"}],\"barpolar\":[{\"marker\":{\"line\":{\"color\":\"#E5ECF6\",\"width\":0.5},\"pattern\":{\"fillmode\":\"overlay\",\"size\":10,\"solidity\":0.2}},\"type\":\"barpolar\"}],\"pie\":[{\"automargin\":true,\"type\":\"pie\"}]},\"layout\":{\"autotypenumbers\":\"strict\",\"colorway\":[\"#636efa\",\"#EF553B\",\"#00cc96\",\"#ab63fa\",\"#FFA15A\",\"#19d3f3\",\"#FF6692\",\"#B6E880\",\"#FF97FF\",\"#FECB52\"],\"font\":{\"color\":\"#2a3f5f\"},\"hovermode\":\"closest\",\"hoverlabel\":{\"align\":\"left\"},\"paper_bgcolor\":\"white\",\"plot_bgcolor\":\"#E5ECF6\",\"polar\":{\"bgcolor\":\"#E5ECF6\",\"angularaxis\":{\"gridcolor\":\"white\",\"linecolor\":\"white\",\"ticks\":\"\"},\"radialaxis\":{\"gridcolor\":\"white\",\"linecolor\":\"white\",\"ticks\":\"\"}},\"ternary\":{\"bgcolor\":\"#E5ECF6\",\"aaxis\":{\"gridcolor\":\"white\",\"linecolor\":\"white\",\"ticks\":\"\"},\"baxis\":{\"gridcolor\":\"white\",\"linecolor\":\"white\",\"ticks\":\"\"},\"caxis\":{\"gridcolor\":\"white\",\"linecolor\":\"white\",\"ticks\":\"\"}},\"coloraxis\":{\"colorbar\":{\"outlinewidth\":0,\"ticks\":\"\"}},\"colorscale\":{\"sequential\":[[0.0,\"#0d0887\"],[0.1111111111111111,\"#46039f\"],[0.2222222222222222,\"#7201a8\"],[0.3333333333333333,\"#9c179e\"],[0.4444444444444444,\"#bd3786\"],[0.5555555555555556,\"#d8576b\"],[0.6666666666666666,\"#ed7953\"],[0.7777777777777778,\"#fb9f3a\"],[0.8888888888888888,\"#fdca26\"],[1.0,\"#f0f921\"]],\"sequentialminus\":[[0.0,\"#0d0887\"],[0.1111111111111111,\"#46039f\"],[0.2222222222222222,\"#7201a8\"],[0.3333333333333333,\"#9c179e\"],[0.4444444444444444,\"#bd3786\"],[0.5555555555555556,\"#d8576b\"],[0.6666666666666666,\"#ed7953\"],[0.7777777777777778,\"#fb9f3a\"],[0.8888888888888888,\"#fdca26\"],[1.0,\"#f0f921\"]],\"diverging\":[[0,\"#8e0152\"],[0.1,\"#c51b7d\"],[0.2,\"#de77ae\"],[0.3,\"#f1b6da\"],[0.4,\"#fde0ef\"],[0.5,\"#f7f7f7\"],[0.6,\"#e6f5d0\"],[0.7,\"#b8e186\"],[0.8,\"#7fbc41\"],[0.9,\"#4d9221\"],[1,\"#276419\"]]},\"xaxis\":{\"gridcolor\":\"white\",\"linecolor\":\"white\",\"ticks\":\"\",\"title\":{\"standoff\":15},\"zerolinecolor\":\"white\",\"automargin\":true,\"zerolinewidth\":2},\"yaxis\":{\"gridcolor\":\"white\",\"linecolor\":\"white\",\"ticks\":\"\",\"title\":{\"standoff\":15},\"zerolinecolor\":\"white\",\"automargin\":true,\"zerolinewidth\":2},\"scene\":{\"xaxis\":{\"backgroundcolor\":\"#E5ECF6\",\"gridcolor\":\"white\",\"linecolor\":\"white\",\"showbackground\":true,\"ticks\":\"\",\"zerolinecolor\":\"white\",\"gridwidth\":2},\"yaxis\":{\"backgroundcolor\":\"#E5ECF6\",\"gridcolor\":\"white\",\"linecolor\":\"white\",\"showbackground\":true,\"ticks\":\"\",\"zerolinecolor\":\"white\",\"gridwidth\":2},\"zaxis\":{\"backgroundcolor\":\"#E5ECF6\",\"gridcolor\":\"white\",\"linecolor\":\"white\",\"showbackground\":true,\"ticks\":\"\",\"zerolinecolor\":\"white\",\"gridwidth\":2}},\"shapedefaults\":{\"line\":{\"color\":\"#2a3f5f\"}},\"annotationdefaults\":{\"arrowcolor\":\"#2a3f5f\",\"arrowhead\":0,\"arrowwidth\":1},\"geo\":{\"bgcolor\":\"white\",\"landcolor\":\"#E5ECF6\",\"subunitcolor\":\"white\",\"showland\":true,\"showlakes\":true,\"lakecolor\":\"white\"},\"title\":{\"x\":0.05},\"mapbox\":{\"style\":\"light\"}}},\"xaxis\":{\"anchor\":\"y\",\"domain\":[0.0,1.0],\"type\":\"date\"},\"yaxis\":{\"anchor\":\"x\",\"domain\":[0.0,1.0],\"title\":{\"text\":\"Airlines_data\"},\"categoryorder\":\"array\",\"categoryarray\":[\"Alaska Airlines\",\"EVA Airways\",\"Lufthansa German Airlines\",\"Korean Air Lines\",\"Asiana Airlines\",\"Turkish Airlines\",\"British Airways\",\"Virgin Atlantic\",\"Air France\",\"China Airlines\",\"WestJet Airlines\"],\"autorange\":\"reversed\"},\"legend\":{\"title\":{\"text\":\"Airlines_data\"},\"tracegroupgap\":0},\"title\":{\"text\":\"Data completeness\"},\"barmode\":\"overlay\"},                        {\"responsive\": true}                    ).then(function(){\n",
       "                            \n",
       "var gd = document.getElementById('4cbc05bd-ca7b-45c5-9026-1688171330b2');\n",
       "var x = new MutationObserver(function (mutations, observer) {{\n",
       "        var display = window.getComputedStyle(gd).display;\n",
       "        if (!display || display === 'none') {{\n",
       "            console.log([gd, 'removed!']);\n",
       "            Plotly.purge(gd);\n",
       "            observer.disconnect();\n",
       "        }}\n",
       "}});\n",
       "\n",
       "// Listen for the removal of the full notebook cells\n",
       "var notebookContainer = gd.closest('#notebook-container');\n",
       "if (notebookContainer) {{\n",
       "    x.observe(notebookContainer, {childList: true});\n",
       "}}\n",
       "\n",
       "// Listen for the clearing of the current output cell\n",
       "var outputEl = gd.closest('.output');\n",
       "if (outputEl) {{\n",
       "    x.observe(outputEl, {childList: true});\n",
       "}}\n",
       "\n",
       "                        })                };                });            </script>        </div>"
      ]
     },
     "metadata": {},
     "output_type": "display_data"
    }
   ],
   "source": [
    "fig = px.timeline(df, x_start=\"Start\", x_end=\"Finish\", y=\"Airlines_data\", color = \"Airlines_data\", title=\"Data completeness\")\n",
    "fig.update_yaxes(autorange=\"reversed\") # otherwise tasksare listed from the bottom up\n",
    "fig.show()"
   ]
  }
 ],
 "metadata": {
  "kernelspec": {
   "display_name": "Python 3 (ipykernel)",
   "language": "python",
   "name": "python3"
  },
  "language_info": {
   "codemirror_mode": {
    "name": "ipython",
    "version": 3
   },
   "file_extension": ".py",
   "mimetype": "text/x-python",
   "name": "python",
   "nbconvert_exporter": "python",
   "pygments_lexer": "ipython3",
   "version": "3.7.10"
  }
 },
 "nbformat": 4,
 "nbformat_minor": 5
}
